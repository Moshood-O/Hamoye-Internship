{
  "nbformat": 4,
  "nbformat_minor": 0,
  "metadata": {
    "kernelspec": {
      "display_name": "Python 3",
      "language": "python",
      "name": "python3"
    },
    "language_info": {
      "codemirror_mode": {
        "name": "ipython",
        "version": 3
      },
      "file_extension": ".py",
      "mimetype": "text/x-python",
      "name": "python",
      "nbconvert_exporter": "python",
      "pygments_lexer": "ipython3",
      "version": "3.7.6"
    },
    "colab": {
      "name": "StageC_notebook.ipynb",
      "provenance": [],
      "collapsed_sections": [
        "IGhUaaYnOVBZ",
        "7QnedC4PNIQl",
        "E8fa-oSfNIRP",
        "mKINZ5vWNIRV",
        "Ziula_8QNISF",
        "gBeVNwlJNISK",
        "2bVmt4A0NISu",
        "N-1B7DWJNIS0",
        "QI6wKDOpNIT9",
        "E4WimET6NIUv"
      ],
      "include_colab_link": true
    }
  },
  "cells": [
    {
      "cell_type": "markdown",
      "metadata": {
        "id": "view-in-github",
        "colab_type": "text"
      },
      "source": [
        "<a href=\"https://colab.research.google.com/github/Moshood-O/Hamoye-Internship/blob/master/StageC_notebook.ipynb\" target=\"_parent\"><img src=\"https://colab.research.google.com/assets/colab-badge.svg\" alt=\"Open In Colab\"/></a>"
      ]
    },
    {
      "cell_type": "markdown",
      "metadata": {
        "id": "Sv2assYkNIOo",
        "colab_type": "text"
      },
      "source": [
        "# Hamoye Internship (Data Science Track)\n",
        "# Stage C Code Solutions"
      ]
    },
    {
      "cell_type": "markdown",
      "metadata": {
        "id": "7AXKzCiJNIOx",
        "colab_type": "text"
      },
      "source": [
        "## Import Necessary Dependencies"
      ]
    },
    {
      "cell_type": "code",
      "metadata": {
        "id": "_fs-iCogNIO0",
        "colab_type": "code",
        "colab": {}
      },
      "source": [
        "import pandas as pd # data manipulations\n",
        "\n",
        "from sklearn.ensemble import RandomForestClassifier, ExtraTreesClassifier # bagging ensemble models\n",
        "\n",
        "# boosting ensemble models\n",
        "from xgboost import XGBClassifier\n",
        "from lightgbm import LGBMClassifier\n",
        "\n",
        "# for splitting datasets into training and test sets\n",
        "from sklearn.model_selection import train_test_split, RandomizedSearchCV\n",
        "\n",
        "# hyperparameter tuning\n",
        "from sklearn.model_selection import RandomizedSearchCV\n",
        "\n",
        "# evaluation metrics\n",
        "from sklearn.metrics import accuracy_score, precision_score, recall_score, confusion_matrix\n",
        "\n",
        "from sklearn.preprocessing import StandardScaler # scaling"
      ],
      "execution_count": 1,
      "outputs": []
    },
    {
      "cell_type": "markdown",
      "metadata": {
        "id": "IGhUaaYnOVBZ",
        "colab_type": "text"
      },
      "source": [
        "## Mount the drive"
      ]
    },
    {
      "cell_type": "code",
      "metadata": {
        "id": "huvpKSDUOyYI",
        "colab_type": "code",
        "colab": {
          "base_uri": "https://localhost:8080/",
          "height": 0
        },
        "outputId": "a1e58b58-8cf7-4864-bb50-d14c65363ba6"
      },
      "source": [
        "from google.colab import drive\n",
        "drive.mount('/content/gdrive')"
      ],
      "execution_count": 2,
      "outputs": [
        {
          "output_type": "stream",
          "text": [
            "Drive already mounted at /content/gdrive; to attempt to forcibly remount, call drive.mount(\"/content/gdrive\", force_remount=True).\n"
          ],
          "name": "stdout"
        }
      ]
    },
    {
      "cell_type": "markdown",
      "metadata": {
        "id": "jb0KMBRCNIPB",
        "colab_type": "text"
      },
      "source": [
        "## Read the dataset into a `DataFrame`"
      ]
    },
    {
      "cell_type": "code",
      "metadata": {
        "id": "LfDLVpddNIPD",
        "colab_type": "code",
        "colab": {
          "base_uri": "https://localhost:8080/",
          "height": 195
        },
        "outputId": "e966abbe-14aa-4605-fe01-0e93d34a1d85"
      },
      "source": [
        "grid_df = pd.read_csv(\"/content/gdrive/My Drive/Colab Notebooks/Data_for_UCI_named.csv\")\n",
        "grid_df.head()"
      ],
      "execution_count": 3,
      "outputs": [
        {
          "output_type": "execute_result",
          "data": {
            "text/html": [
              "<div>\n",
              "<style scoped>\n",
              "    .dataframe tbody tr th:only-of-type {\n",
              "        vertical-align: middle;\n",
              "    }\n",
              "\n",
              "    .dataframe tbody tr th {\n",
              "        vertical-align: top;\n",
              "    }\n",
              "\n",
              "    .dataframe thead th {\n",
              "        text-align: right;\n",
              "    }\n",
              "</style>\n",
              "<table border=\"1\" class=\"dataframe\">\n",
              "  <thead>\n",
              "    <tr style=\"text-align: right;\">\n",
              "      <th></th>\n",
              "      <th>tau1</th>\n",
              "      <th>tau2</th>\n",
              "      <th>tau3</th>\n",
              "      <th>tau4</th>\n",
              "      <th>p1</th>\n",
              "      <th>p2</th>\n",
              "      <th>p3</th>\n",
              "      <th>p4</th>\n",
              "      <th>g1</th>\n",
              "      <th>g2</th>\n",
              "      <th>g3</th>\n",
              "      <th>g4</th>\n",
              "      <th>stab</th>\n",
              "      <th>stabf</th>\n",
              "    </tr>\n",
              "  </thead>\n",
              "  <tbody>\n",
              "    <tr>\n",
              "      <th>0</th>\n",
              "      <td>2.959060</td>\n",
              "      <td>3.079885</td>\n",
              "      <td>8.381025</td>\n",
              "      <td>9.780754</td>\n",
              "      <td>3.763085</td>\n",
              "      <td>-0.782604</td>\n",
              "      <td>-1.257395</td>\n",
              "      <td>-1.723086</td>\n",
              "      <td>0.650456</td>\n",
              "      <td>0.859578</td>\n",
              "      <td>0.887445</td>\n",
              "      <td>0.958034</td>\n",
              "      <td>0.055347</td>\n",
              "      <td>unstable</td>\n",
              "    </tr>\n",
              "    <tr>\n",
              "      <th>1</th>\n",
              "      <td>9.304097</td>\n",
              "      <td>4.902524</td>\n",
              "      <td>3.047541</td>\n",
              "      <td>1.369357</td>\n",
              "      <td>5.067812</td>\n",
              "      <td>-1.940058</td>\n",
              "      <td>-1.872742</td>\n",
              "      <td>-1.255012</td>\n",
              "      <td>0.413441</td>\n",
              "      <td>0.862414</td>\n",
              "      <td>0.562139</td>\n",
              "      <td>0.781760</td>\n",
              "      <td>-0.005957</td>\n",
              "      <td>stable</td>\n",
              "    </tr>\n",
              "    <tr>\n",
              "      <th>2</th>\n",
              "      <td>8.971707</td>\n",
              "      <td>8.848428</td>\n",
              "      <td>3.046479</td>\n",
              "      <td>1.214518</td>\n",
              "      <td>3.405158</td>\n",
              "      <td>-1.207456</td>\n",
              "      <td>-1.277210</td>\n",
              "      <td>-0.920492</td>\n",
              "      <td>0.163041</td>\n",
              "      <td>0.766689</td>\n",
              "      <td>0.839444</td>\n",
              "      <td>0.109853</td>\n",
              "      <td>0.003471</td>\n",
              "      <td>unstable</td>\n",
              "    </tr>\n",
              "    <tr>\n",
              "      <th>3</th>\n",
              "      <td>0.716415</td>\n",
              "      <td>7.669600</td>\n",
              "      <td>4.486641</td>\n",
              "      <td>2.340563</td>\n",
              "      <td>3.963791</td>\n",
              "      <td>-1.027473</td>\n",
              "      <td>-1.938944</td>\n",
              "      <td>-0.997374</td>\n",
              "      <td>0.446209</td>\n",
              "      <td>0.976744</td>\n",
              "      <td>0.929381</td>\n",
              "      <td>0.362718</td>\n",
              "      <td>0.028871</td>\n",
              "      <td>unstable</td>\n",
              "    </tr>\n",
              "    <tr>\n",
              "      <th>4</th>\n",
              "      <td>3.134112</td>\n",
              "      <td>7.608772</td>\n",
              "      <td>4.943759</td>\n",
              "      <td>9.857573</td>\n",
              "      <td>3.525811</td>\n",
              "      <td>-1.125531</td>\n",
              "      <td>-1.845975</td>\n",
              "      <td>-0.554305</td>\n",
              "      <td>0.797110</td>\n",
              "      <td>0.455450</td>\n",
              "      <td>0.656947</td>\n",
              "      <td>0.820923</td>\n",
              "      <td>0.049860</td>\n",
              "      <td>unstable</td>\n",
              "    </tr>\n",
              "  </tbody>\n",
              "</table>\n",
              "</div>"
            ],
            "text/plain": [
              "       tau1      tau2      tau3  ...        g4      stab     stabf\n",
              "0  2.959060  3.079885  8.381025  ...  0.958034  0.055347  unstable\n",
              "1  9.304097  4.902524  3.047541  ...  0.781760 -0.005957    stable\n",
              "2  8.971707  8.848428  3.046479  ...  0.109853  0.003471  unstable\n",
              "3  0.716415  7.669600  4.486641  ...  0.362718  0.028871  unstable\n",
              "4  3.134112  7.608772  4.943759  ...  0.820923  0.049860  unstable\n",
              "\n",
              "[5 rows x 14 columns]"
            ]
          },
          "metadata": {
            "tags": []
          },
          "execution_count": 3
        }
      ]
    },
    {
      "cell_type": "markdown",
      "metadata": {
        "id": "WK43hlnbNIPS",
        "colab_type": "text"
      },
      "source": [
        "## Get a summary of `grid_df`"
      ]
    },
    {
      "cell_type": "code",
      "metadata": {
        "id": "k366QIpsNIPU",
        "colab_type": "code",
        "colab": {
          "base_uri": "https://localhost:8080/",
          "height": 370
        },
        "outputId": "aa2bab08-4a37-4283-e835-fcfa2723056d"
      },
      "source": [
        "grid_df.info()"
      ],
      "execution_count": 4,
      "outputs": [
        {
          "output_type": "stream",
          "text": [
            "<class 'pandas.core.frame.DataFrame'>\n",
            "RangeIndex: 10000 entries, 0 to 9999\n",
            "Data columns (total 14 columns):\n",
            " #   Column  Non-Null Count  Dtype  \n",
            "---  ------  --------------  -----  \n",
            " 0   tau1    10000 non-null  float64\n",
            " 1   tau2    10000 non-null  float64\n",
            " 2   tau3    10000 non-null  float64\n",
            " 3   tau4    10000 non-null  float64\n",
            " 4   p1      10000 non-null  float64\n",
            " 5   p2      10000 non-null  float64\n",
            " 6   p3      10000 non-null  float64\n",
            " 7   p4      10000 non-null  float64\n",
            " 8   g1      10000 non-null  float64\n",
            " 9   g2      10000 non-null  float64\n",
            " 10  g3      10000 non-null  float64\n",
            " 11  g4      10000 non-null  float64\n",
            " 12  stab    10000 non-null  float64\n",
            " 13  stabf   10000 non-null  object \n",
            "dtypes: float64(13), object(1)\n",
            "memory usage: 1.1+ MB\n"
          ],
          "name": "stdout"
        }
      ]
    },
    {
      "cell_type": "markdown",
      "metadata": {
        "id": "PR8NrR9QNIPh",
        "colab_type": "text"
      },
      "source": [
        "## Drop the `stab` column"
      ]
    },
    {
      "cell_type": "code",
      "metadata": {
        "id": "ruHZXMuMNIPj",
        "colab_type": "code",
        "colab": {
          "base_uri": "https://localhost:8080/",
          "height": 195
        },
        "outputId": "29f6308e-e874-4de1-839a-3d7650ec397c"
      },
      "source": [
        "grid_df.drop([\"stab\"], axis=1, inplace=True)\n",
        "grid_df.head()"
      ],
      "execution_count": 5,
      "outputs": [
        {
          "output_type": "execute_result",
          "data": {
            "text/html": [
              "<div>\n",
              "<style scoped>\n",
              "    .dataframe tbody tr th:only-of-type {\n",
              "        vertical-align: middle;\n",
              "    }\n",
              "\n",
              "    .dataframe tbody tr th {\n",
              "        vertical-align: top;\n",
              "    }\n",
              "\n",
              "    .dataframe thead th {\n",
              "        text-align: right;\n",
              "    }\n",
              "</style>\n",
              "<table border=\"1\" class=\"dataframe\">\n",
              "  <thead>\n",
              "    <tr style=\"text-align: right;\">\n",
              "      <th></th>\n",
              "      <th>tau1</th>\n",
              "      <th>tau2</th>\n",
              "      <th>tau3</th>\n",
              "      <th>tau4</th>\n",
              "      <th>p1</th>\n",
              "      <th>p2</th>\n",
              "      <th>p3</th>\n",
              "      <th>p4</th>\n",
              "      <th>g1</th>\n",
              "      <th>g2</th>\n",
              "      <th>g3</th>\n",
              "      <th>g4</th>\n",
              "      <th>stabf</th>\n",
              "    </tr>\n",
              "  </thead>\n",
              "  <tbody>\n",
              "    <tr>\n",
              "      <th>0</th>\n",
              "      <td>2.959060</td>\n",
              "      <td>3.079885</td>\n",
              "      <td>8.381025</td>\n",
              "      <td>9.780754</td>\n",
              "      <td>3.763085</td>\n",
              "      <td>-0.782604</td>\n",
              "      <td>-1.257395</td>\n",
              "      <td>-1.723086</td>\n",
              "      <td>0.650456</td>\n",
              "      <td>0.859578</td>\n",
              "      <td>0.887445</td>\n",
              "      <td>0.958034</td>\n",
              "      <td>unstable</td>\n",
              "    </tr>\n",
              "    <tr>\n",
              "      <th>1</th>\n",
              "      <td>9.304097</td>\n",
              "      <td>4.902524</td>\n",
              "      <td>3.047541</td>\n",
              "      <td>1.369357</td>\n",
              "      <td>5.067812</td>\n",
              "      <td>-1.940058</td>\n",
              "      <td>-1.872742</td>\n",
              "      <td>-1.255012</td>\n",
              "      <td>0.413441</td>\n",
              "      <td>0.862414</td>\n",
              "      <td>0.562139</td>\n",
              "      <td>0.781760</td>\n",
              "      <td>stable</td>\n",
              "    </tr>\n",
              "    <tr>\n",
              "      <th>2</th>\n",
              "      <td>8.971707</td>\n",
              "      <td>8.848428</td>\n",
              "      <td>3.046479</td>\n",
              "      <td>1.214518</td>\n",
              "      <td>3.405158</td>\n",
              "      <td>-1.207456</td>\n",
              "      <td>-1.277210</td>\n",
              "      <td>-0.920492</td>\n",
              "      <td>0.163041</td>\n",
              "      <td>0.766689</td>\n",
              "      <td>0.839444</td>\n",
              "      <td>0.109853</td>\n",
              "      <td>unstable</td>\n",
              "    </tr>\n",
              "    <tr>\n",
              "      <th>3</th>\n",
              "      <td>0.716415</td>\n",
              "      <td>7.669600</td>\n",
              "      <td>4.486641</td>\n",
              "      <td>2.340563</td>\n",
              "      <td>3.963791</td>\n",
              "      <td>-1.027473</td>\n",
              "      <td>-1.938944</td>\n",
              "      <td>-0.997374</td>\n",
              "      <td>0.446209</td>\n",
              "      <td>0.976744</td>\n",
              "      <td>0.929381</td>\n",
              "      <td>0.362718</td>\n",
              "      <td>unstable</td>\n",
              "    </tr>\n",
              "    <tr>\n",
              "      <th>4</th>\n",
              "      <td>3.134112</td>\n",
              "      <td>7.608772</td>\n",
              "      <td>4.943759</td>\n",
              "      <td>9.857573</td>\n",
              "      <td>3.525811</td>\n",
              "      <td>-1.125531</td>\n",
              "      <td>-1.845975</td>\n",
              "      <td>-0.554305</td>\n",
              "      <td>0.797110</td>\n",
              "      <td>0.455450</td>\n",
              "      <td>0.656947</td>\n",
              "      <td>0.820923</td>\n",
              "      <td>unstable</td>\n",
              "    </tr>\n",
              "  </tbody>\n",
              "</table>\n",
              "</div>"
            ],
            "text/plain": [
              "       tau1      tau2      tau3  ...        g3        g4     stabf\n",
              "0  2.959060  3.079885  8.381025  ...  0.887445  0.958034  unstable\n",
              "1  9.304097  4.902524  3.047541  ...  0.562139  0.781760    stable\n",
              "2  8.971707  8.848428  3.046479  ...  0.839444  0.109853  unstable\n",
              "3  0.716415  7.669600  4.486641  ...  0.929381  0.362718  unstable\n",
              "4  3.134112  7.608772  4.943759  ...  0.656947  0.820923  unstable\n",
              "\n",
              "[5 rows x 13 columns]"
            ]
          },
          "metadata": {
            "tags": []
          },
          "execution_count": 5
        }
      ]
    },
    {
      "cell_type": "markdown",
      "metadata": {
        "id": "fRQR69poNIPx",
        "colab_type": "text"
      },
      "source": [
        "## Split the data into training and test sets"
      ]
    },
    {
      "cell_type": "code",
      "metadata": {
        "id": "ldahcSBDNIPz",
        "colab_type": "code",
        "colab": {}
      },
      "source": [
        "from sklearn.model_selection import train_test_split"
      ],
      "execution_count": 6,
      "outputs": []
    },
    {
      "cell_type": "code",
      "metadata": {
        "id": "PtEs2ejKNIQG",
        "colab_type": "code",
        "colab": {
          "base_uri": "https://localhost:8080/",
          "height": 50
        },
        "outputId": "d1535ef4-f910-478b-a587-dd54ba51f08d"
      },
      "source": [
        "X = grid_df.drop([\"stabf\"], axis=1) # define predictors\n",
        "y = grid_df[\"stabf\"] # define target\n",
        "\n",
        "# split the data into training and test sets\n",
        "X_train, X_test, y_train, y_test = train_test_split(X, y, test_size=0.2, random_state=1)\n",
        "\n",
        "print(\"X_train\", X_train.shape)\n",
        "print(\"X_test\", X_test.shape)"
      ],
      "execution_count": 7,
      "outputs": [
        {
          "output_type": "stream",
          "text": [
            "X_train (8000, 12)\n",
            "X_test (2000, 12)\n"
          ],
          "name": "stdout"
        }
      ]
    },
    {
      "cell_type": "markdown",
      "metadata": {
        "id": "KUBamfEhNIQS",
        "colab_type": "text"
      },
      "source": [
        "## Feature Scaling"
      ]
    },
    {
      "cell_type": "code",
      "metadata": {
        "id": "cuMEpYZKNIQU",
        "colab_type": "code",
        "colab": {}
      },
      "source": [
        "scaler = StandardScaler() # instantiate a StandardScaler object\n",
        "\n",
        "# fit the scaler object to X_train, transform X_train and then store the results in a dataframe\n",
        "X_train_scaled = pd.DataFrame(scaler.fit_transform(X_train, y_train), columns=X_train.columns)\n",
        "\n",
        "# transform X_test using the fitted scaler object and then store the results in a dataframe\n",
        "X_test_scaled = pd.DataFrame(scaler.transform(X_test), columns=X_test.columns)"
      ],
      "execution_count": 8,
      "outputs": []
    },
    {
      "cell_type": "markdown",
      "metadata": {
        "id": "U6sc1aq2NIQf",
        "colab_type": "text"
      },
      "source": [
        "## Question 14"
      ]
    },
    {
      "cell_type": "markdown",
      "metadata": {
        "id": "N7iPK0lvNIQh",
        "colab_type": "text"
      },
      "source": [
        "## Random Forest"
      ]
    },
    {
      "cell_type": "markdown",
      "metadata": {
        "id": "g2-e3QCYNIQj",
        "colab_type": "text"
      },
      "source": [
        "**What is the accuracy on the test set using the random forest classifier? In 4 decimal places**"
      ]
    },
    {
      "cell_type": "markdown",
      "metadata": {
        "id": "7QnedC4PNIQl",
        "colab_type": "text"
      },
      "source": [
        "## Answer: `0.9295`"
      ]
    },
    {
      "cell_type": "markdown",
      "metadata": {
        "id": "X1NVC2eMNIQn",
        "colab_type": "text"
      },
      "source": [
        "## Solution:"
      ]
    },
    {
      "cell_type": "markdown",
      "metadata": {
        "id": "RRVz7b9RNIQo",
        "colab_type": "text"
      },
      "source": [
        "### Train a Random Forest model"
      ]
    },
    {
      "cell_type": "code",
      "metadata": {
        "id": "mFJgjme_NIQq",
        "colab_type": "code",
        "colab": {
          "base_uri": "https://localhost:8080/",
          "height": 151
        },
        "outputId": "b20af78f-2700-4124-ac61-612aac02ee9a"
      },
      "source": [
        "forest_model = RandomForestClassifier(random_state=1) # create a random forest model\n",
        "\n",
        "forest_model.fit(X_train_scaled, y_train) # train the model"
      ],
      "execution_count": 9,
      "outputs": [
        {
          "output_type": "execute_result",
          "data": {
            "text/plain": [
              "RandomForestClassifier(bootstrap=True, ccp_alpha=0.0, class_weight=None,\n",
              "                       criterion='gini', max_depth=None, max_features='auto',\n",
              "                       max_leaf_nodes=None, max_samples=None,\n",
              "                       min_impurity_decrease=0.0, min_impurity_split=None,\n",
              "                       min_samples_leaf=1, min_samples_split=2,\n",
              "                       min_weight_fraction_leaf=0.0, n_estimators=100,\n",
              "                       n_jobs=None, oob_score=False, random_state=1, verbose=0,\n",
              "                       warm_start=False)"
            ]
          },
          "metadata": {
            "tags": []
          },
          "execution_count": 9
        }
      ]
    },
    {
      "cell_type": "markdown",
      "metadata": {
        "id": "bZcTx0UMNIQ1",
        "colab_type": "text"
      },
      "source": [
        "### Make predictions with the model on the test set"
      ]
    },
    {
      "cell_type": "code",
      "metadata": {
        "id": "82r1r9kSNIQ3",
        "colab_type": "code",
        "colab": {}
      },
      "source": [
        "y_pred_forest = forest_model.predict(X_test_scaled)"
      ],
      "execution_count": 10,
      "outputs": []
    },
    {
      "cell_type": "markdown",
      "metadata": {
        "id": "ex1La2j5NIRC",
        "colab_type": "text"
      },
      "source": [
        "### Calculate the accuracy of the model"
      ]
    },
    {
      "cell_type": "code",
      "metadata": {
        "id": "IwwVE-3zNIRE",
        "colab_type": "code",
        "colab": {
          "base_uri": "https://localhost:8080/",
          "height": 34
        },
        "outputId": "802f3ba7-51d7-4154-ec82-6718cdf02e59"
      },
      "source": [
        "round(accuracy_score(y_test, y_pred_forest), 4)"
      ],
      "execution_count": 11,
      "outputs": [
        {
          "output_type": "execute_result",
          "data": {
            "text/plain": [
              "0.929"
            ]
          },
          "metadata": {
            "tags": []
          },
          "execution_count": 11
        }
      ]
    },
    {
      "cell_type": "markdown",
      "metadata": {
        "id": "E8fa-oSfNIRP",
        "colab_type": "text"
      },
      "source": [
        "## Question 15"
      ]
    },
    {
      "cell_type": "markdown",
      "metadata": {
        "id": "o55TpoUbNIRR",
        "colab_type": "text"
      },
      "source": [
        "## XGBClassifier"
      ]
    },
    {
      "cell_type": "markdown",
      "metadata": {
        "id": "iVeizSpJNIRT",
        "colab_type": "text"
      },
      "source": [
        "**What is the accuracy on the test set using the xgboost classifier? In 4 decimal places**"
      ]
    },
    {
      "cell_type": "markdown",
      "metadata": {
        "id": "mKINZ5vWNIRV",
        "colab_type": "text"
      },
      "source": [
        "## Answer: `0.9195`"
      ]
    },
    {
      "cell_type": "markdown",
      "metadata": {
        "id": "qJJzDolhNIRW",
        "colab_type": "text"
      },
      "source": [
        "## Solution:"
      ]
    },
    {
      "cell_type": "markdown",
      "metadata": {
        "id": "QmiJoBkhNIRY",
        "colab_type": "text"
      },
      "source": [
        "### Train an extreme gradient boosting (xgboost) model"
      ]
    },
    {
      "cell_type": "code",
      "metadata": {
        "id": "QUxRoWISNIRa",
        "colab_type": "code",
        "colab": {
          "base_uri": "https://localhost:8080/",
          "height": 134
        },
        "outputId": "0754dadd-66e2-42c8-c0b5-19cda8e8be25"
      },
      "source": [
        "xgboost_model = XGBClassifier(random_state=1) # Create an xgboost model\n",
        "\n",
        "xgboost_model.fit(X_train_scaled, y_train) # Train the model"
      ],
      "execution_count": 12,
      "outputs": [
        {
          "output_type": "execute_result",
          "data": {
            "text/plain": [
              "XGBClassifier(base_score=0.5, booster='gbtree', colsample_bylevel=1,\n",
              "              colsample_bynode=1, colsample_bytree=1, gamma=0,\n",
              "              learning_rate=0.1, max_delta_step=0, max_depth=3,\n",
              "              min_child_weight=1, missing=None, n_estimators=100, n_jobs=1,\n",
              "              nthread=None, objective='binary:logistic', random_state=1,\n",
              "              reg_alpha=0, reg_lambda=1, scale_pos_weight=1, seed=None,\n",
              "              silent=None, subsample=1, verbosity=1)"
            ]
          },
          "metadata": {
            "tags": []
          },
          "execution_count": 12
        }
      ]
    },
    {
      "cell_type": "markdown",
      "metadata": {
        "id": "yYT0n6vYNIRn",
        "colab_type": "text"
      },
      "source": [
        "### Make predictions with the model"
      ]
    },
    {
      "cell_type": "code",
      "metadata": {
        "id": "hYRobepaNIRq",
        "colab_type": "code",
        "colab": {}
      },
      "source": [
        "y_pred_xgb = xgboost_model.predict(X_test_scaled)"
      ],
      "execution_count": 13,
      "outputs": []
    },
    {
      "cell_type": "markdown",
      "metadata": {
        "id": "vnwQdr6jNIR2",
        "colab_type": "text"
      },
      "source": [
        "### Calculate the accuracy of the model"
      ]
    },
    {
      "cell_type": "code",
      "metadata": {
        "id": "1jmCEuNLNIR4",
        "colab_type": "code",
        "colab": {
          "base_uri": "https://localhost:8080/",
          "height": 34
        },
        "outputId": "433f14c9-2d31-423b-a6c6-05117e27aae8"
      },
      "source": [
        "round(accuracy_score(y_test, y_pred_xgb), 4)"
      ],
      "execution_count": 14,
      "outputs": [
        {
          "output_type": "execute_result",
          "data": {
            "text/plain": [
              "0.9195"
            ]
          },
          "metadata": {
            "tags": []
          },
          "execution_count": 14
        }
      ]
    },
    {
      "cell_type": "markdown",
      "metadata": {
        "id": "Ziula_8QNISF",
        "colab_type": "text"
      },
      "source": [
        "## Question 16"
      ]
    },
    {
      "cell_type": "markdown",
      "metadata": {
        "id": "EUvwhZG9NISG",
        "colab_type": "text"
      },
      "source": [
        "## LGBMClassifier"
      ]
    },
    {
      "cell_type": "markdown",
      "metadata": {
        "id": "NccimImSNISI",
        "colab_type": "text"
      },
      "source": [
        "**What is the accuracy on the test set using the LGBM classifier? In 4 decimal places**"
      ]
    },
    {
      "cell_type": "markdown",
      "metadata": {
        "id": "gBeVNwlJNISK",
        "colab_type": "text"
      },
      "source": [
        "## Answer: `0.9375`"
      ]
    },
    {
      "cell_type": "markdown",
      "metadata": {
        "id": "YnOhBwvlNISM",
        "colab_type": "text"
      },
      "source": [
        "## Solution:"
      ]
    },
    {
      "cell_type": "markdown",
      "metadata": {
        "id": "2l9cFyO3NISO",
        "colab_type": "text"
      },
      "source": [
        "### Train a light gradient boosting (LGBM) classifier"
      ]
    },
    {
      "cell_type": "code",
      "metadata": {
        "id": "4Ey2wz7mNISP",
        "colab_type": "code",
        "colab": {
          "base_uri": "https://localhost:8080/",
          "height": 118
        },
        "outputId": "9ee9212a-ca1a-433d-f4fd-3216bef38759"
      },
      "source": [
        "lgbm_model = LGBMClassifier(random_state=1) # create an lgbm model\n",
        "\n",
        "lgbm_model.fit(X_train_scaled, y_train) # train the model"
      ],
      "execution_count": 15,
      "outputs": [
        {
          "output_type": "execute_result",
          "data": {
            "text/plain": [
              "LGBMClassifier(boosting_type='gbdt', class_weight=None, colsample_bytree=1.0,\n",
              "               importance_type='split', learning_rate=0.1, max_depth=-1,\n",
              "               min_child_samples=20, min_child_weight=0.001, min_split_gain=0.0,\n",
              "               n_estimators=100, n_jobs=-1, num_leaves=31, objective=None,\n",
              "               random_state=1, reg_alpha=0.0, reg_lambda=0.0, silent=True,\n",
              "               subsample=1.0, subsample_for_bin=200000, subsample_freq=0)"
            ]
          },
          "metadata": {
            "tags": []
          },
          "execution_count": 15
        }
      ]
    },
    {
      "cell_type": "markdown",
      "metadata": {
        "id": "h0094ORNNISa",
        "colab_type": "text"
      },
      "source": [
        "### Make predictions with the model"
      ]
    },
    {
      "cell_type": "code",
      "metadata": {
        "id": "8ZVbR7D7NISc",
        "colab_type": "code",
        "colab": {}
      },
      "source": [
        "y_pred_lgbm = lgbm_model.predict(X_test_scaled)"
      ],
      "execution_count": 16,
      "outputs": []
    },
    {
      "cell_type": "markdown",
      "metadata": {
        "id": "QQU6WLGZNISk",
        "colab_type": "text"
      },
      "source": [
        "### Calculate the accuracy of the model"
      ]
    },
    {
      "cell_type": "code",
      "metadata": {
        "id": "-7GSHAcONISm",
        "colab_type": "code",
        "colab": {
          "base_uri": "https://localhost:8080/",
          "height": 34
        },
        "outputId": "1d60e1e0-31aa-4bb1-c3ab-2f65534d6358"
      },
      "source": [
        "round(accuracy_score(y_test, y_pred_lgbm))"
      ],
      "execution_count": 17,
      "outputs": [
        {
          "output_type": "execute_result",
          "data": {
            "text/plain": [
              "1.0"
            ]
          },
          "metadata": {
            "tags": []
          },
          "execution_count": 17
        }
      ]
    },
    {
      "cell_type": "markdown",
      "metadata": {
        "id": "2bVmt4A0NISu",
        "colab_type": "text"
      },
      "source": [
        "## Question 17"
      ]
    },
    {
      "cell_type": "markdown",
      "metadata": {
        "id": "scRMW-oFNISw",
        "colab_type": "text"
      },
      "source": [
        "## Extra Trees Classifier"
      ]
    },
    {
      "cell_type": "markdown",
      "metadata": {
        "id": "q4syOOC-NISy",
        "colab_type": "text"
      },
      "source": [
        "**To improve the Extra Trees Classifier, you will use the following parameters (number of estimators, minimum number of samples, minimum number of samples for leaf node and the number of features to consider when looking for the best split) for the hyperparameter grid needed to run a Randomized Cross Validation Search (RandomizedSearchCV).** \n",
        "\n",
        "n_estimators = [50, 100, 300, 500, 1000]\n",
        "\n",
        "min_samples_split = [2, 3, 5, 7, 9]\n",
        "\n",
        "min_samples_leaf = [1, 2, 4, 6, 8]\n",
        "\n",
        "max_features = ['auto', 'sqrt', 'log2', None] \n",
        "\n",
        "hyperparameter_grid = {'n_estimators': n_estimators,\n",
        "\n",
        "                       'min_samples_leaf': min_samples_leaf,\n",
        "\n",
        "                       'min_samples_split': min_samples_split,\n",
        "\n",
        "                       'max_features': max_features}\n",
        "\n",
        "**Using the ExtraTreesClassifier as your estimator with cv=5, n_iter=10, scoring = 'accuracy', n_jobs = -1, verbose = 1 and random_state = 1. What are the best hyperparameters from the randomized search CV?**"
      ]
    },
    {
      "cell_type": "markdown",
      "metadata": {
        "id": "N-1B7DWJNIS0",
        "colab_type": "text"
      },
      "source": [
        "## Answer: `N_estimators = 1000, min_samples_split = 2, min_samples_leaf = 8, `                  `max_features = None`"
      ]
    },
    {
      "cell_type": "markdown",
      "metadata": {
        "id": "rXt-UTm5NIS1",
        "colab_type": "text"
      },
      "source": [
        "## Solution:"
      ]
    },
    {
      "cell_type": "markdown",
      "metadata": {
        "id": "hz1nlNn-NIS3",
        "colab_type": "text"
      },
      "source": [
        "### Train an Extra Trees model without hyperparameter optimization"
      ]
    },
    {
      "cell_type": "code",
      "metadata": {
        "id": "nRIFE4L8NIS5",
        "colab_type": "code",
        "colab": {
          "base_uri": "https://localhost:8080/",
          "height": 151
        },
        "outputId": "c04eb2b9-4641-456b-a11f-a6a4a41a670b"
      },
      "source": [
        "extra_trees = ExtraTreesClassifier(random_state=1) # create an extra trees model\n",
        "\n",
        "extra_trees.fit(X_train_scaled, y_train) # train the model"
      ],
      "execution_count": 18,
      "outputs": [
        {
          "output_type": "execute_result",
          "data": {
            "text/plain": [
              "ExtraTreesClassifier(bootstrap=False, ccp_alpha=0.0, class_weight=None,\n",
              "                     criterion='gini', max_depth=None, max_features='auto',\n",
              "                     max_leaf_nodes=None, max_samples=None,\n",
              "                     min_impurity_decrease=0.0, min_impurity_split=None,\n",
              "                     min_samples_leaf=1, min_samples_split=2,\n",
              "                     min_weight_fraction_leaf=0.0, n_estimators=100,\n",
              "                     n_jobs=None, oob_score=False, random_state=1, verbose=0,\n",
              "                     warm_start=False)"
            ]
          },
          "metadata": {
            "tags": []
          },
          "execution_count": 18
        }
      ]
    },
    {
      "cell_type": "markdown",
      "metadata": {
        "id": "UW9FYFMLNITG",
        "colab_type": "text"
      },
      "source": [
        "### Make predictions with the model"
      ]
    },
    {
      "cell_type": "code",
      "metadata": {
        "id": "mdGMjbUcNITI",
        "colab_type": "code",
        "colab": {}
      },
      "source": [
        "y_pred_extra_trees = extra_trees.predict(X_test_scaled)"
      ],
      "execution_count": 19,
      "outputs": []
    },
    {
      "cell_type": "markdown",
      "metadata": {
        "id": "a0TWB04uNITR",
        "colab_type": "text"
      },
      "source": [
        "### Calculate the accuracy of the model"
      ]
    },
    {
      "cell_type": "code",
      "metadata": {
        "id": "5a6dF09SNITT",
        "colab_type": "code",
        "colab": {
          "base_uri": "https://localhost:8080/",
          "height": 34
        },
        "outputId": "13497928-c374-44a8-8a68-4bf2885acf8e"
      },
      "source": [
        "extra_trees_accuracy = accuracy_score(y_test, y_pred_extra_trees)\n",
        "extra_trees_accuracy"
      ],
      "execution_count": 20,
      "outputs": [
        {
          "output_type": "execute_result",
          "data": {
            "text/plain": [
              "0.928"
            ]
          },
          "metadata": {
            "tags": []
          },
          "execution_count": 20
        }
      ]
    },
    {
      "cell_type": "markdown",
      "metadata": {
        "id": "oSdWqMOnNITc",
        "colab_type": "text"
      },
      "source": [
        "### Perform hyperparameter tuning using RandomizedSearchCV"
      ]
    },
    {
      "cell_type": "code",
      "metadata": {
        "id": "Eb3-TO2cNITe",
        "colab_type": "code",
        "colab": {}
      },
      "source": [
        "# Define the hyperparameter grid\n",
        "n_estimators = [50, 100, 300, 500, 1000]\n",
        "\n",
        "min_samples_split = [2, 3, 5, 7, 9]\n",
        "\n",
        "min_samples_leaf = [1, 2, 4, 6, 8]\n",
        "\n",
        "max_features = ['auto', 'sqrt', 'log2', None] \n",
        "\n",
        "hyperparameter_grid = {'n_estimators': n_estimators,\n",
        "\n",
        "                       'min_samples_leaf': min_samples_leaf,\n",
        "\n",
        "                       'min_samples_split': min_samples_split,\n",
        "\n",
        "                       'max_features': max_features}"
      ],
      "execution_count": 21,
      "outputs": []
    },
    {
      "cell_type": "code",
      "metadata": {
        "id": "n4rqpI08NITm",
        "colab_type": "code",
        "colab": {
          "base_uri": "https://localhost:8080/",
          "height": 538
        },
        "outputId": "112257b0-8bcd-45f6-aad0-28f9579e96ad"
      },
      "source": [
        "new_extra_trees = ExtraTreesClassifier(random_state=1) # create a new extra trees model\n",
        "\n",
        "# instantiate a RandomizedSearchCV object and conduct a search of the grid\n",
        "random_search = RandomizedSearchCV(new_extra_trees, hyperparameter_grid, cv=5, n_iter=10, scoring=\"accuracy\",\\\n",
        "                                   verbose=1, n_jobs=-1, random_state=1)\n",
        "\n",
        "random_search.fit(X_train, y_train)"
      ],
      "execution_count": 22,
      "outputs": [
        {
          "output_type": "stream",
          "text": [
            "Fitting 5 folds for each of 10 candidates, totalling 50 fits\n"
          ],
          "name": "stdout"
        },
        {
          "output_type": "stream",
          "text": [
            "[Parallel(n_jobs=-1)]: Using backend LokyBackend with 2 concurrent workers.\n",
            "[Parallel(n_jobs=-1)]: Done  46 tasks      | elapsed:  1.5min\n",
            "[Parallel(n_jobs=-1)]: Done  50 out of  50 | elapsed:  1.5min finished\n"
          ],
          "name": "stderr"
        },
        {
          "output_type": "execute_result",
          "data": {
            "text/plain": [
              "RandomizedSearchCV(cv=5, error_score=nan,\n",
              "                   estimator=ExtraTreesClassifier(bootstrap=False,\n",
              "                                                  ccp_alpha=0.0,\n",
              "                                                  class_weight=None,\n",
              "                                                  criterion='gini',\n",
              "                                                  max_depth=None,\n",
              "                                                  max_features='auto',\n",
              "                                                  max_leaf_nodes=None,\n",
              "                                                  max_samples=None,\n",
              "                                                  min_impurity_decrease=0.0,\n",
              "                                                  min_impurity_split=None,\n",
              "                                                  min_samples_leaf=1,\n",
              "                                                  min_samples_split=2,\n",
              "                                                  min_weight_fraction_leaf=0.0,\n",
              "                                                  n_estimators=100, n_jobs=...\n",
              "                                                  oob_score=False,\n",
              "                                                  random_state=1, verbose=0,\n",
              "                                                  warm_start=False),\n",
              "                   iid='deprecated', n_iter=10, n_jobs=-1,\n",
              "                   param_distributions={'max_features': ['auto', 'sqrt', 'log2',\n",
              "                                                         None],\n",
              "                                        'min_samples_leaf': [1, 2, 4, 6, 8],\n",
              "                                        'min_samples_split': [2, 3, 5, 7, 9],\n",
              "                                        'n_estimators': [50, 100, 300, 500,\n",
              "                                                         1000]},\n",
              "                   pre_dispatch='2*n_jobs', random_state=1, refit=True,\n",
              "                   return_train_score=False, scoring='accuracy', verbose=1)"
            ]
          },
          "metadata": {
            "tags": []
          },
          "execution_count": 22
        }
      ]
    },
    {
      "cell_type": "markdown",
      "metadata": {
        "id": "LaRcunq0NITv",
        "colab_type": "text"
      },
      "source": [
        "### Get the best values of the hyperparameters as found by the random search"
      ]
    },
    {
      "cell_type": "code",
      "metadata": {
        "id": "g0N6gemSNITw",
        "colab_type": "code",
        "colab": {
          "base_uri": "https://localhost:8080/",
          "height": 84
        },
        "outputId": "fcf600ea-356f-41b1-a7d9-106b8644948e"
      },
      "source": [
        "optimal_parameters = random_search.best_params_\n",
        "optimal_parameters"
      ],
      "execution_count": 23,
      "outputs": [
        {
          "output_type": "execute_result",
          "data": {
            "text/plain": [
              "{'max_features': None,\n",
              " 'min_samples_leaf': 8,\n",
              " 'min_samples_split': 2,\n",
              " 'n_estimators': 1000}"
            ]
          },
          "metadata": {
            "tags": []
          },
          "execution_count": 23
        }
      ]
    },
    {
      "cell_type": "markdown",
      "metadata": {
        "id": "0iZCf7PANIT5",
        "colab_type": "text"
      },
      "source": [
        "## Question 18"
      ]
    },
    {
      "cell_type": "markdown",
      "metadata": {
        "id": "iXcofblJNIT7",
        "colab_type": "text"
      },
      "source": [
        "**Train a new ExtraTreesClassifier Model with the new Hyperparameters from the RandomizedSearchCV (with random_state = 1). Is the accuracy of the new optimal model higher or lower than the initial ExtraTreesClassifier model with no hyperparameter tuning?**"
      ]
    },
    {
      "cell_type": "markdown",
      "metadata": {
        "id": "QI6wKDOpNIT9",
        "colab_type": "text"
      },
      "source": [
        "## Answer: `lower`"
      ]
    },
    {
      "cell_type": "markdown",
      "metadata": {
        "id": "cyvXOnOUNIUA",
        "colab_type": "text"
      },
      "source": [
        "## Solution:"
      ]
    },
    {
      "cell_type": "markdown",
      "metadata": {
        "id": "nuuxFWQuNIUD",
        "colab_type": "text"
      },
      "source": [
        "### Train an Extra Trees model based on the optimal hyperparameters as found by the random search"
      ]
    },
    {
      "cell_type": "code",
      "metadata": {
        "id": "iNHyKOD1NIUF",
        "colab_type": "code",
        "colab": {
          "base_uri": "https://localhost:8080/",
          "height": 151
        },
        "outputId": "9c00fd3b-121c-4c98-8131-0dee6561588a"
      },
      "source": [
        "optimal_extra_trees = ExtraTreesClassifier(**optimal_parameters, random_state=1) # create an extra trees model\n",
        "\n",
        "optimal_extra_trees.fit(X_train_scaled, y_train) # train the model"
      ],
      "execution_count": 24,
      "outputs": [
        {
          "output_type": "execute_result",
          "data": {
            "text/plain": [
              "ExtraTreesClassifier(bootstrap=False, ccp_alpha=0.0, class_weight=None,\n",
              "                     criterion='gini', max_depth=None, max_features=None,\n",
              "                     max_leaf_nodes=None, max_samples=None,\n",
              "                     min_impurity_decrease=0.0, min_impurity_split=None,\n",
              "                     min_samples_leaf=8, min_samples_split=2,\n",
              "                     min_weight_fraction_leaf=0.0, n_estimators=1000,\n",
              "                     n_jobs=None, oob_score=False, random_state=1, verbose=0,\n",
              "                     warm_start=False)"
            ]
          },
          "metadata": {
            "tags": []
          },
          "execution_count": 24
        }
      ]
    },
    {
      "cell_type": "markdown",
      "metadata": {
        "id": "PZiJ-d5jNIUT",
        "colab_type": "text"
      },
      "source": [
        "### Make predictions with the model"
      ]
    },
    {
      "cell_type": "code",
      "metadata": {
        "id": "yx-L94WrNIUU",
        "colab_type": "code",
        "colab": {}
      },
      "source": [
        "y_pred_optimal_extra = optimal_extra_trees.predict(X_test_scaled)"
      ],
      "execution_count": 25,
      "outputs": []
    },
    {
      "cell_type": "markdown",
      "metadata": {
        "id": "QF9-fFQRNIUe",
        "colab_type": "text"
      },
      "source": [
        "### Calculate the acuracy of the optimal model"
      ]
    },
    {
      "cell_type": "code",
      "metadata": {
        "id": "R9OrwdTGNIUg",
        "colab_type": "code",
        "colab": {
          "base_uri": "https://localhost:8080/",
          "height": 34
        },
        "outputId": "cbb02660-dbc0-4d2f-b7b7-1a4355542e4f"
      },
      "source": [
        "accuracy_score(y_test, y_pred_optimal_extra)"
      ],
      "execution_count": 26,
      "outputs": [
        {
          "output_type": "execute_result",
          "data": {
            "text/plain": [
              "0.927"
            ]
          },
          "metadata": {
            "tags": []
          },
          "execution_count": 26
        }
      ]
    },
    {
      "cell_type": "markdown",
      "metadata": {
        "id": "8PcZfTT-NIUq",
        "colab_type": "text"
      },
      "source": [
        "**The initial extra trees model gave an accuracy of 0.928 while the optimized model gave an accuracy of 0.927**"
      ]
    },
    {
      "cell_type": "markdown",
      "metadata": {
        "id": "SCA2yLiVNIUs",
        "colab_type": "text"
      },
      "source": [
        "## Question 20"
      ]
    },
    {
      "cell_type": "markdown",
      "metadata": {
        "id": "kToX1oCSNIUu",
        "colab_type": "text"
      },
      "source": [
        "**Find the feature importance using the optimal ExtraTreesClassifier model. Which features are the most and least important respectively?**"
      ]
    },
    {
      "cell_type": "markdown",
      "metadata": {
        "id": "E4WimET6NIUv",
        "colab_type": "text"
      },
      "source": [
        "## Answer: `tau2`, `p1`"
      ]
    },
    {
      "cell_type": "markdown",
      "metadata": {
        "id": "10toRzoENIUx",
        "colab_type": "text"
      },
      "source": [
        "## Solution:"
      ]
    },
    {
      "cell_type": "markdown",
      "metadata": {
        "id": "gcxjHJXfNIUy",
        "colab_type": "text"
      },
      "source": [
        "### Get the importance of each feature using the optimal ExtraTreesClassifier model"
      ]
    },
    {
      "cell_type": "code",
      "metadata": {
        "id": "9BwVRECENIU0",
        "colab_type": "code",
        "colab": {}
      },
      "source": [
        "feature_importance = optimal_extra_trees.feature_importances_"
      ],
      "execution_count": 27,
      "outputs": []
    },
    {
      "cell_type": "markdown",
      "metadata": {
        "id": "UHUbY5FdNIU9",
        "colab_type": "text"
      },
      "source": [
        "### Store the results in a `Series` and sort it in descending order"
      ]
    },
    {
      "cell_type": "code",
      "metadata": {
        "scrolled": true,
        "id": "DZ4XRkNXNIU-",
        "colab_type": "code",
        "colab": {
          "base_uri": "https://localhost:8080/",
          "height": 235
        },
        "outputId": "7f73ebdb-62ce-4305-fd30-3a503e97716f"
      },
      "source": [
        "feature_importance = pd.Series(feature_importance, index=X_train_scaled.columns).sort_values(ascending=False)\n",
        "feature_importance"
      ],
      "execution_count": 28,
      "outputs": [
        {
          "output_type": "execute_result",
          "data": {
            "text/plain": [
              "tau2    0.140508\n",
              "tau1    0.137240\n",
              "tau4    0.135417\n",
              "tau3    0.134680\n",
              "g3      0.113063\n",
              "g4      0.109541\n",
              "g2      0.107578\n",
              "g1      0.102562\n",
              "p3      0.005429\n",
              "p2      0.005337\n",
              "p4      0.004962\n",
              "p1      0.003683\n",
              "dtype: float64"
            ]
          },
          "metadata": {
            "tags": []
          },
          "execution_count": 28
        }
      ]
    },
    {
      "cell_type": "markdown",
      "metadata": {
        "id": "awGk10epNIVJ",
        "colab_type": "text"
      },
      "source": [
        "### Get the most and least important features"
      ]
    },
    {
      "cell_type": "code",
      "metadata": {
        "id": "1PzP9DiuNIVL",
        "colab_type": "code",
        "colab": {
          "base_uri": "https://localhost:8080/",
          "height": 34
        },
        "outputId": "7a1cd229-8487-41d9-a867-ddc1f626d1f3"
      },
      "source": [
        "feature_importance[[0, -1]].index.to_list()"
      ],
      "execution_count": 29,
      "outputs": [
        {
          "output_type": "execute_result",
          "data": {
            "text/plain": [
              "['tau2', 'p1']"
            ]
          },
          "metadata": {
            "tags": []
          },
          "execution_count": 29
        }
      ]
    },
    {
      "cell_type": "markdown",
      "metadata": {
        "id": "Y6fex-NZNIVU",
        "colab_type": "text"
      },
      "source": [
        "# Notebook by: OLALEKE, MOSHOOD ADEGBOYEGA"
      ]
    },
    {
      "cell_type": "code",
      "metadata": {
        "id": "ChbRptKCNIVV",
        "colab_type": "code",
        "colab": {}
      },
      "source": [
        ""
      ],
      "execution_count": 29,
      "outputs": []
    }
  ]
}
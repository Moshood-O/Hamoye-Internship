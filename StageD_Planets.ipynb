{
  "nbformat": 4,
  "nbformat_minor": 0,
  "metadata": {
    "colab": {
      "name": "StageD_Planets.ipynb",
      "provenance": [],
      "authorship_tag": "ABX9TyM5VOf2ctlexEu7920W84Ls",
      "include_colab_link": true
    },
    "kernelspec": {
      "name": "python3",
      "display_name": "Python 3"
    },
    "accelerator": "GPU"
  },
  "cells": [
    {
      "cell_type": "markdown",
      "metadata": {
        "id": "view-in-github",
        "colab_type": "text"
      },
      "source": [
        "<a href=\"https://colab.research.google.com/github/Moshood-O/Hamoye-Internship/blob/master/StageD_Planets.ipynb\" target=\"_parent\"><img src=\"https://colab.research.google.com/assets/colab-badge.svg\" alt=\"Open In Colab\"/></a>"
      ]
    },
    {
      "cell_type": "markdown",
      "metadata": {
        "id": "zhEnkivk7Js5",
        "colab_type": "text"
      },
      "source": [
        "# This notebook contains code used to solve the \"Planet: Understanding the Amazon from space\" competition hosted on kaggle"
      ]
    },
    {
      "cell_type": "markdown",
      "metadata": {
        "id": "5HpvM62A_qEW",
        "colab_type": "text"
      },
      "source": [
        "# Import necessary dependencies"
      ]
    },
    {
      "cell_type": "code",
      "metadata": {
        "id": "owxZahUa_tLf",
        "colab_type": "code",
        "colab": {}
      },
      "source": [
        "from os import listdir\n",
        "\n",
        "import numpy as np\n",
        "import pandas as pd\n",
        "\n",
        "import matplotlib.pyplot as plt\n",
        "%matplotlib inline\n",
        "\n",
        "from collections import Counter\n",
        "\n",
        "from sklearn.preprocessing import MultiLabelBinarizer\n",
        "from sklearn.utils import shuffle\n",
        "from sklearn.model_selection import train_test_split\n",
        "from sklearn.metrics import fbeta_score\n",
        "\n",
        "from tensorflow import keras\n",
        "import tensorflow as tf\n",
        "\n",
        "import cv2\n",
        "\n",
        "from keras import backend\n",
        "from keras.preprocessing.image import ImageDataGenerator\n",
        "from keras.models import Sequential, Model\n",
        "from keras.layers import Dense, Flatten, GlobalAveragePooling2D, Dropout, BatchNormalization\n",
        "from keras.optimizers import Nadam, SGD\n",
        "from keras.callbacks import ModelCheckpoint, EarlyStopping, ReduceLROnPlateau\n",
        "from keras.applications.vgg16 import preprocess_input as vgg16_preprocess, VGG16\n",
        "from keras.applications.vgg19 import preprocess_input as vgg19_preprocess, VGG19\n",
        "\n",
        "from tqdm import tqdm\n",
        "\n",
        "import gc"
      ],
      "execution_count": null,
      "outputs": []
    },
    {
      "cell_type": "markdown",
      "metadata": {
        "id": "Mixyu6tS7gjs",
        "colab_type": "text"
      },
      "source": [
        "# Fetch the data"
      ]
    },
    {
      "cell_type": "code",
      "metadata": {
        "id": "ZpWPX-_n3yX5",
        "colab_type": "code",
        "colab": {
          "resources": {
            "http://localhost:8080/nbextensions/google.colab/files.js": {
              "data": "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",
              "ok": true,
              "headers": [
                [
                  "content-type",
                  "application/javascript"
                ]
              ],
              "status": 200,
              "status_text": ""
            }
          },
          "base_uri": "https://localhost:8080/",
          "height": 90
        },
        "outputId": "9d320e90-344b-4a2f-c2fb-f7204e154879"
      },
      "source": [
        "from google.colab import files\n",
        "files.upload()"
      ],
      "execution_count": null,
      "outputs": [
        {
          "output_type": "display_data",
          "data": {
            "text/html": [
              "\n",
              "     <input type=\"file\" id=\"files-1d8ab108-03f2-4593-83f0-6960c934408d\" name=\"files[]\" multiple disabled\n",
              "        style=\"border:none\" />\n",
              "     <output id=\"result-1d8ab108-03f2-4593-83f0-6960c934408d\">\n",
              "      Upload widget is only available when the cell has been executed in the\n",
              "      current browser session. Please rerun this cell to enable.\n",
              "      </output>\n",
              "      <script src=\"/nbextensions/google.colab/files.js\"></script> "
            ],
            "text/plain": [
              "<IPython.core.display.HTML object>"
            ]
          },
          "metadata": {
            "tags": []
          }
        },
        {
          "output_type": "stream",
          "text": [
            "Saving kaggle.json to kaggle.json\n"
          ],
          "name": "stdout"
        },
        {
          "output_type": "execute_result",
          "data": {
            "text/plain": [
              "{'kaggle.json': b'{\"username\":\"moshoodolaleke\",\"key\":\"11376013675aa6c6ee080d7a27d4fb37\"}'}"
            ]
          },
          "metadata": {
            "tags": []
          },
          "execution_count": 2
        }
      ]
    },
    {
      "cell_type": "markdown",
      "metadata": {
        "id": "TNsI53XT7pw6",
        "colab_type": "text"
      },
      "source": [
        "**Define a function used to download the data from kaggle**"
      ]
    },
    {
      "cell_type": "code",
      "metadata": {
        "id": "FBj6hbkKz8Su",
        "colab_type": "code",
        "colab": {}
      },
      "source": [
        "def fetch_planet_data():\n",
        "    !pip uninstall -y kaggle\n",
        "    !pip install --upgrade pip\n",
        "    !pip install kaggle==1.5.6\n",
        "    !mkdir -p ~/.kaggle\n",
        "    !cp kaggle.json ~/.kaggle/\n",
        "    !ls ~/.kaggle\n",
        "    !chmod 600 /root/.kaggle/kaggle.json\n",
        "    !kaggle datasets download -d nikitarom/planets-dataset\n",
        "    !mkdir planets_dataset\n",
        "    !unzip planets-dataset -d planets_dataset"
      ],
      "execution_count": null,
      "outputs": []
    },
    {
      "cell_type": "code",
      "metadata": {
        "id": "y0J1TOMz89Oc",
        "colab_type": "code",
        "colab": {}
      },
      "source": [
        "%%capture\n",
        "fetch_planet_data()"
      ],
      "execution_count": null,
      "outputs": []
    },
    {
      "cell_type": "markdown",
      "metadata": {
        "id": "wqzL45NYCIe_",
        "colab_type": "text"
      },
      "source": [
        "# Read and preprocess the data containing the training classes"
      ]
    },
    {
      "cell_type": "code",
      "metadata": {
        "id": "a8j6mIIZ8-8-",
        "colab_type": "code",
        "colab": {
          "base_uri": "https://localhost:8080/",
          "height": 195
        },
        "outputId": "50bfd534-8ea4-4909-9bbf-4c8d36ede903"
      },
      "source": [
        "train_classes = pd.read_csv(\"/content/planets_dataset/planet/planet/train_classes.csv\")\n",
        "train_classes.head()"
      ],
      "execution_count": null,
      "outputs": [
        {
          "output_type": "execute_result",
          "data": {
            "text/html": [
              "<div>\n",
              "<style scoped>\n",
              "    .dataframe tbody tr th:only-of-type {\n",
              "        vertical-align: middle;\n",
              "    }\n",
              "\n",
              "    .dataframe tbody tr th {\n",
              "        vertical-align: top;\n",
              "    }\n",
              "\n",
              "    .dataframe thead th {\n",
              "        text-align: right;\n",
              "    }\n",
              "</style>\n",
              "<table border=\"1\" class=\"dataframe\">\n",
              "  <thead>\n",
              "    <tr style=\"text-align: right;\">\n",
              "      <th></th>\n",
              "      <th>image_name</th>\n",
              "      <th>tags</th>\n",
              "    </tr>\n",
              "  </thead>\n",
              "  <tbody>\n",
              "    <tr>\n",
              "      <th>0</th>\n",
              "      <td>train_0</td>\n",
              "      <td>haze primary</td>\n",
              "    </tr>\n",
              "    <tr>\n",
              "      <th>1</th>\n",
              "      <td>train_1</td>\n",
              "      <td>agriculture clear primary water</td>\n",
              "    </tr>\n",
              "    <tr>\n",
              "      <th>2</th>\n",
              "      <td>train_2</td>\n",
              "      <td>clear primary</td>\n",
              "    </tr>\n",
              "    <tr>\n",
              "      <th>3</th>\n",
              "      <td>train_3</td>\n",
              "      <td>clear primary</td>\n",
              "    </tr>\n",
              "    <tr>\n",
              "      <th>4</th>\n",
              "      <td>train_4</td>\n",
              "      <td>agriculture clear habitation primary road</td>\n",
              "    </tr>\n",
              "  </tbody>\n",
              "</table>\n",
              "</div>"
            ],
            "text/plain": [
              "  image_name                                       tags\n",
              "0    train_0                               haze primary\n",
              "1    train_1            agriculture clear primary water\n",
              "2    train_2                              clear primary\n",
              "3    train_3                              clear primary\n",
              "4    train_4  agriculture clear habitation primary road"
            ]
          },
          "metadata": {
            "tags": []
          },
          "execution_count": 2
        }
      ]
    },
    {
      "cell_type": "markdown",
      "metadata": {
        "id": "m1OuzikbCE_Y",
        "colab_type": "text"
      },
      "source": [
        "**The classes (tags) are space-delineated so they are converted to lists**"
      ]
    },
    {
      "cell_type": "code",
      "metadata": {
        "id": "DfSgGDAbB0IN",
        "colab_type": "code",
        "colab": {
          "base_uri": "https://localhost:8080/",
          "height": 195
        },
        "outputId": "a83da2ef-916e-4bd8-c747-dde3b615b10f"
      },
      "source": [
        "train_classes[\"tags\"] = train_classes[\"tags\"].map(lambda x: x.split(\" \"))\n",
        "train_classes.head()"
      ],
      "execution_count": null,
      "outputs": [
        {
          "output_type": "execute_result",
          "data": {
            "text/html": [
              "<div>\n",
              "<style scoped>\n",
              "    .dataframe tbody tr th:only-of-type {\n",
              "        vertical-align: middle;\n",
              "    }\n",
              "\n",
              "    .dataframe tbody tr th {\n",
              "        vertical-align: top;\n",
              "    }\n",
              "\n",
              "    .dataframe thead th {\n",
              "        text-align: right;\n",
              "    }\n",
              "</style>\n",
              "<table border=\"1\" class=\"dataframe\">\n",
              "  <thead>\n",
              "    <tr style=\"text-align: right;\">\n",
              "      <th></th>\n",
              "      <th>image_name</th>\n",
              "      <th>tags</th>\n",
              "    </tr>\n",
              "  </thead>\n",
              "  <tbody>\n",
              "    <tr>\n",
              "      <th>0</th>\n",
              "      <td>train_0</td>\n",
              "      <td>[haze, primary]</td>\n",
              "    </tr>\n",
              "    <tr>\n",
              "      <th>1</th>\n",
              "      <td>train_1</td>\n",
              "      <td>[agriculture, clear, primary, water]</td>\n",
              "    </tr>\n",
              "    <tr>\n",
              "      <th>2</th>\n",
              "      <td>train_2</td>\n",
              "      <td>[clear, primary]</td>\n",
              "    </tr>\n",
              "    <tr>\n",
              "      <th>3</th>\n",
              "      <td>train_3</td>\n",
              "      <td>[clear, primary]</td>\n",
              "    </tr>\n",
              "    <tr>\n",
              "      <th>4</th>\n",
              "      <td>train_4</td>\n",
              "      <td>[agriculture, clear, habitation, primary, road]</td>\n",
              "    </tr>\n",
              "  </tbody>\n",
              "</table>\n",
              "</div>"
            ],
            "text/plain": [
              "  image_name                                             tags\n",
              "0    train_0                                  [haze, primary]\n",
              "1    train_1             [agriculture, clear, primary, water]\n",
              "2    train_2                                 [clear, primary]\n",
              "3    train_3                                 [clear, primary]\n",
              "4    train_4  [agriculture, clear, habitation, primary, road]"
            ]
          },
          "metadata": {
            "tags": []
          },
          "execution_count": 3
        }
      ]
    },
    {
      "cell_type": "markdown",
      "metadata": {
        "id": "vW8dzofhDJgB",
        "colab_type": "text"
      },
      "source": [
        "**The classes are then one-hot encoded**"
      ]
    },
    {
      "cell_type": "code",
      "metadata": {
        "id": "4DSbuQbtC0DQ",
        "colab_type": "code",
        "colab": {
          "base_uri": "https://localhost:8080/",
          "height": 383
        },
        "outputId": "ba973c17-ca3e-4672-b96b-25ee9c29beee"
      },
      "source": [
        "encoder = MultiLabelBinarizer()\n",
        "tags_df = pd.DataFrame(encoder.fit_transform(train_classes.tags), columns=encoder.classes_)\n",
        "train_df = pd.concat([train_classes, tags_df], axis=1)\n",
        "train_df.head()"
      ],
      "execution_count": null,
      "outputs": [
        {
          "output_type": "execute_result",
          "data": {
            "text/html": [
              "<div>\n",
              "<style scoped>\n",
              "    .dataframe tbody tr th:only-of-type {\n",
              "        vertical-align: middle;\n",
              "    }\n",
              "\n",
              "    .dataframe tbody tr th {\n",
              "        vertical-align: top;\n",
              "    }\n",
              "\n",
              "    .dataframe thead th {\n",
              "        text-align: right;\n",
              "    }\n",
              "</style>\n",
              "<table border=\"1\" class=\"dataframe\">\n",
              "  <thead>\n",
              "    <tr style=\"text-align: right;\">\n",
              "      <th></th>\n",
              "      <th>image_name</th>\n",
              "      <th>tags</th>\n",
              "      <th>agriculture</th>\n",
              "      <th>artisinal_mine</th>\n",
              "      <th>bare_ground</th>\n",
              "      <th>blooming</th>\n",
              "      <th>blow_down</th>\n",
              "      <th>clear</th>\n",
              "      <th>cloudy</th>\n",
              "      <th>conventional_mine</th>\n",
              "      <th>cultivation</th>\n",
              "      <th>habitation</th>\n",
              "      <th>haze</th>\n",
              "      <th>partly_cloudy</th>\n",
              "      <th>primary</th>\n",
              "      <th>road</th>\n",
              "      <th>selective_logging</th>\n",
              "      <th>slash_burn</th>\n",
              "      <th>water</th>\n",
              "    </tr>\n",
              "  </thead>\n",
              "  <tbody>\n",
              "    <tr>\n",
              "      <th>0</th>\n",
              "      <td>train_0</td>\n",
              "      <td>[haze, primary]</td>\n",
              "      <td>0</td>\n",
              "      <td>0</td>\n",
              "      <td>0</td>\n",
              "      <td>0</td>\n",
              "      <td>0</td>\n",
              "      <td>0</td>\n",
              "      <td>0</td>\n",
              "      <td>0</td>\n",
              "      <td>0</td>\n",
              "      <td>0</td>\n",
              "      <td>1</td>\n",
              "      <td>0</td>\n",
              "      <td>1</td>\n",
              "      <td>0</td>\n",
              "      <td>0</td>\n",
              "      <td>0</td>\n",
              "      <td>0</td>\n",
              "    </tr>\n",
              "    <tr>\n",
              "      <th>1</th>\n",
              "      <td>train_1</td>\n",
              "      <td>[agriculture, clear, primary, water]</td>\n",
              "      <td>1</td>\n",
              "      <td>0</td>\n",
              "      <td>0</td>\n",
              "      <td>0</td>\n",
              "      <td>0</td>\n",
              "      <td>1</td>\n",
              "      <td>0</td>\n",
              "      <td>0</td>\n",
              "      <td>0</td>\n",
              "      <td>0</td>\n",
              "      <td>0</td>\n",
              "      <td>0</td>\n",
              "      <td>1</td>\n",
              "      <td>0</td>\n",
              "      <td>0</td>\n",
              "      <td>0</td>\n",
              "      <td>1</td>\n",
              "    </tr>\n",
              "    <tr>\n",
              "      <th>2</th>\n",
              "      <td>train_2</td>\n",
              "      <td>[clear, primary]</td>\n",
              "      <td>0</td>\n",
              "      <td>0</td>\n",
              "      <td>0</td>\n",
              "      <td>0</td>\n",
              "      <td>0</td>\n",
              "      <td>1</td>\n",
              "      <td>0</td>\n",
              "      <td>0</td>\n",
              "      <td>0</td>\n",
              "      <td>0</td>\n",
              "      <td>0</td>\n",
              "      <td>0</td>\n",
              "      <td>1</td>\n",
              "      <td>0</td>\n",
              "      <td>0</td>\n",
              "      <td>0</td>\n",
              "      <td>0</td>\n",
              "    </tr>\n",
              "    <tr>\n",
              "      <th>3</th>\n",
              "      <td>train_3</td>\n",
              "      <td>[clear, primary]</td>\n",
              "      <td>0</td>\n",
              "      <td>0</td>\n",
              "      <td>0</td>\n",
              "      <td>0</td>\n",
              "      <td>0</td>\n",
              "      <td>1</td>\n",
              "      <td>0</td>\n",
              "      <td>0</td>\n",
              "      <td>0</td>\n",
              "      <td>0</td>\n",
              "      <td>0</td>\n",
              "      <td>0</td>\n",
              "      <td>1</td>\n",
              "      <td>0</td>\n",
              "      <td>0</td>\n",
              "      <td>0</td>\n",
              "      <td>0</td>\n",
              "    </tr>\n",
              "    <tr>\n",
              "      <th>4</th>\n",
              "      <td>train_4</td>\n",
              "      <td>[agriculture, clear, habitation, primary, road]</td>\n",
              "      <td>1</td>\n",
              "      <td>0</td>\n",
              "      <td>0</td>\n",
              "      <td>0</td>\n",
              "      <td>0</td>\n",
              "      <td>1</td>\n",
              "      <td>0</td>\n",
              "      <td>0</td>\n",
              "      <td>0</td>\n",
              "      <td>1</td>\n",
              "      <td>0</td>\n",
              "      <td>0</td>\n",
              "      <td>1</td>\n",
              "      <td>1</td>\n",
              "      <td>0</td>\n",
              "      <td>0</td>\n",
              "      <td>0</td>\n",
              "    </tr>\n",
              "  </tbody>\n",
              "</table>\n",
              "</div>"
            ],
            "text/plain": [
              "  image_name  ... water\n",
              "0    train_0  ...     0\n",
              "1    train_1  ...     1\n",
              "2    train_2  ...     0\n",
              "3    train_3  ...     0\n",
              "4    train_4  ...     0\n",
              "\n",
              "[5 rows x 19 columns]"
            ]
          },
          "metadata": {
            "tags": []
          },
          "execution_count": 4
        }
      ]
    },
    {
      "cell_type": "markdown",
      "metadata": {
        "id": "xmr2yI6LHuQK",
        "colab_type": "text"
      },
      "source": [
        "**Visualize the distribution of the classes**"
      ]
    },
    {
      "cell_type": "code",
      "metadata": {
        "id": "99waxcQ7LE75",
        "colab_type": "code",
        "colab": {
          "base_uri": "https://localhost:8080/",
          "height": 34
        },
        "outputId": "c69a69a8-80c6-4ad1-ef29-3fc999b8e554"
      },
      "source": [
        "num_tags = len(encoder.classes_)\n",
        "num_tags"
      ],
      "execution_count": null,
      "outputs": [
        {
          "output_type": "execute_result",
          "data": {
            "text/plain": [
              "17"
            ]
          },
          "metadata": {
            "tags": []
          },
          "execution_count": 5
        }
      ]
    },
    {
      "cell_type": "markdown",
      "metadata": {
        "id": "-UGz3lDGt3rk",
        "colab_type": "text"
      },
      "source": [
        "There are 17 different classes"
      ]
    },
    {
      "cell_type": "code",
      "metadata": {
        "id": "weurK860Ioyo",
        "colab_type": "code",
        "colab": {
          "base_uri": "https://localhost:8080/",
          "height": 561
        },
        "outputId": "e51d707b-e743-4d1d-9f40-5a511e928779"
      },
      "source": [
        "# create a series holder for the count of each class\n",
        "tag_counts = pd.Series(0, index=encoder.classes_)\n",
        "\n",
        "# get count of each class\n",
        "for tags in train_df.tags:\n",
        "    for tag in tags:\n",
        "        tag_counts[tag] += 1\n",
        "\n",
        "# plot the distribution of the classes\n",
        "tag_counts.plot.bar(figsize=(12, 8), grid=True)\n",
        "plt.xticks(rotation=45)\n",
        "plt.xlabel(\"Tags\")\n",
        "plt.ylabel(\"Number of occurence\")\n",
        "plt.show()"
      ],
      "execution_count": null,
      "outputs": [
        {
          "output_type": "display_data",
          "data": {
            "image/png": "[encoded data removed]",
            "text/plain": [
              "<Figure size 864x576 with 1 Axes>"
            ]
          },
          "metadata": {
            "tags": [],
            "needs_background": "light"
          }
        }
      ]
    },
    {
      "cell_type": "markdown",
      "metadata": {
        "id": "GDS9-RdpOmWE",
        "colab_type": "text"
      },
      "source": [
        "**From the plot above, it is seen that the commonest areas are primary rainforests suggesting that those are densely covered by trees. Areas that are clear, Areas used for agriculture (which contributes to deforestation) and water bodies are also quite common**"
      ]
    },
    {
      "cell_type": "markdown",
      "metadata": {
        "id": "p5Buqqw3E7mo",
        "colab_type": "text"
      },
      "source": [
        "**Drop the `tags` column as that is no longer needed**"
      ]
    },
    {
      "cell_type": "code",
      "metadata": {
        "id": "G-d3sem9E4NG",
        "colab_type": "code",
        "colab": {}
      },
      "source": [
        "train_df.drop(\"tags\", axis=1, inplace=True)"
      ],
      "execution_count": null,
      "outputs": []
    },
    {
      "cell_type": "markdown",
      "metadata": {
        "id": "rVaWWe2QFICN",
        "colab_type": "text"
      },
      "source": [
        "Delete unsused variables to clear up space due to memory"
      ]
    },
    {
      "cell_type": "code",
      "metadata": {
        "id": "i29ImF22FGkB",
        "colab_type": "code",
        "colab": {
          "base_uri": "https://localhost:8080/",
          "height": 34
        },
        "outputId": "e65b222b-6a23-4fac-fb54-7043d6d0d9eb"
      },
      "source": [
        "del tags_df, train_classes\n",
        "\n",
        "gc.collect()"
      ],
      "execution_count": null,
      "outputs": [
        {
          "output_type": "execute_result",
          "data": {
            "text/plain": [
              "4253"
            ]
          },
          "metadata": {
            "tags": []
          },
          "execution_count": 8
        }
      ]
    },
    {
      "cell_type": "markdown",
      "metadata": {
        "id": "dDixDliuUejT",
        "colab_type": "text"
      },
      "source": [
        "# Load the training images"
      ]
    },
    {
      "cell_type": "code",
      "metadata": {
        "id": "aIiWylxnFF1W",
        "colab_type": "code",
        "colab": {
          "base_uri": "https://localhost:8080/",
          "height": 34
        },
        "outputId": "388d452e-9d47-489e-91e9-0c1ddf621aa5"
      },
      "source": [
        "train_images = []\n",
        "for image in tqdm(train_df.image_name.values, miniters=1000):\n",
        "    train_images.append(cv2.resize(cv2.imread(f\"/content/planets_dataset/planet/planet/train-jpg/{image}.jpg\"), (64, 64)))\n",
        "train_images = np.array(train_images, dtype=\"float16\")"
      ],
      "execution_count": null,
      "outputs": [
        {
          "output_type": "stream",
          "text": [
            "100%|██████████| 40479/40479 [01:03<00:00, 638.94it/s]\n"
          ],
          "name": "stderr"
        }
      ]
    },
    {
      "cell_type": "markdown",
      "metadata": {
        "id": "sqvug6nj3GhW",
        "colab_type": "text"
      },
      "source": [
        "# Prepare the data to be fed into the models"
      ]
    },
    {
      "cell_type": "code",
      "metadata": {
        "id": "NtEvLHKb3P59",
        "colab_type": "code",
        "colab": {}
      },
      "source": [
        "def prepare_data(train_images=train_images, train_df=train_df):\n",
        "    X, Y = train_images, train_df.iloc[:, 1:].values.astype(\"float16\")\n",
        "    X, Y = shuffle(X, Y, random_state=42)\n",
        "    train_X, val_X, train_Y, val_Y = train_test_split(X, Y, test_size=0.2, random_state=42)\n",
        "\n",
        "    # del train_images, train_df\n",
        "    # gc.collect()\n",
        "\n",
        "    return (X, Y), (train_X, val_X, train_Y, val_Y)"
      ],
      "execution_count": null,
      "outputs": []
    },
    {
      "cell_type": "code",
      "metadata": {
        "id": "EXyGtwqNoP3R",
        "colab_type": "code",
        "colab": {}
      },
      "source": [
        "(X, Y), (train_X, val_X, train_Y, val_Y) = prepare_data()"
      ],
      "execution_count": null,
      "outputs": []
    },
    {
      "cell_type": "markdown",
      "metadata": {
        "id": "IFHDZjvS7tlN",
        "colab_type": "text"
      },
      "source": [
        "# Model Development and Evaluation"
      ]
    },
    {
      "cell_type": "markdown",
      "metadata": {
        "id": "gAoiQtXx7apI",
        "colab_type": "text"
      },
      "source": [
        "**Define a custom f-beta metric function for model evaluation**"
      ]
    },
    {
      "cell_type": "code",
      "metadata": {
        "id": "RNYtJ2NN7Zpc",
        "colab_type": "code",
        "colab": {}
      },
      "source": [
        "def fbeta(y_true, y_pred, beta=2):\n",
        "    # clip predictions\n",
        "    y_pred = backend.clip(y_pred, 0, 1)\n",
        "    # calculate elements\n",
        "    tp = backend.sum(backend.round(backend.clip(y_true * y_pred, 0, 1)), axis=1)\n",
        "    fp = backend.sum(backend.round(backend.clip(y_pred - y_true, 0, 1)), axis=1)\n",
        "    fn = backend.sum(backend.round(backend.clip(y_true - y_pred, 0, 1)), axis=1)\n",
        "    # calculate precision\n",
        "    p = tp / (tp + fp + backend.epsilon())\n",
        "    # calculate recall\n",
        "    r = tp / (tp + fn + backend.epsilon())\n",
        "    # calculate fbeta, averaged across each class\n",
        "    bb = beta ** 2\n",
        "    fbeta_score = backend.mean((1 + bb) * (p * r) / (bb * p + r + backend.epsilon()))\n",
        "    return fbeta_score"
      ],
      "execution_count": null,
      "outputs": []
    },
    {
      "cell_type": "markdown",
      "metadata": {
        "id": "ChOYkfxxvBwQ",
        "colab_type": "text"
      },
      "source": [
        "**Define model architecture**"
      ]
    },
    {
      "cell_type": "code",
      "metadata": {
        "id": "hLmR14Qf7oXI",
        "colab_type": "code",
        "colab": {}
      },
      "source": [
        "def model(base_model, learning_rate, metric=fbeta):\n",
        "    # create a Sequential model and add the layers of a base model as weel as a classifier layer to it\n",
        "    model = Sequential([\n",
        "                        base_model,\n",
        "                        Flatten(),\n",
        "                        Dense(num_tags, activation=\"sigmoid\")\n",
        "    ])\n",
        "\n",
        "    # Freeze the layers of the base model to retain their weights\n",
        "    for layer in base_model.layers:\n",
        "        layer.trainable = False\n",
        "\n",
        "    # Define optimizer\n",
        "    optimizer = Nadam(learning_rate=learning_rate)\n",
        "\n",
        "    # compile the model\n",
        "    model.compile(loss=\"binary_crossentropy\", optimizer=optimizer, metrics=[fbeta])\n",
        "\n",
        "    return model\n"
      ],
      "execution_count": null,
      "outputs": []
    },
    {
      "cell_type": "markdown",
      "metadata": {
        "id": "ASDdjmbyvvZx",
        "colab_type": "text"
      },
      "source": [
        "**Define a function to fine-tune the model if necessary**"
      ]
    },
    {
      "cell_type": "code",
      "metadata": {
        "id": "Uc5gRQXqA1ux",
        "colab_type": "code",
        "colab": {}
      },
      "source": [
        "def fine_tune(base_model, model, learning_rate, num_layers=-1):\n",
        "    \n",
        "    # if num_layers = -1, unfreeze all layers of the base model so they can be\n",
        "    # trained. If another number (n), unfreeze only the top n layers of the base\n",
        "    # model\n",
        "    if num_layers == -1:\n",
        "        layers_to_train = base_model.layers\n",
        "    else:\n",
        "        layers_to_train = base_model.layers[-num_layers:]\n",
        "    \n",
        "    for layer in layers_to_train:\n",
        "        layer.trainable = True\n",
        "    \n",
        "    # define optimizer\n",
        "    optimizer = Nadam(learning_rate=learning_rate)\n",
        "    \n",
        "    # compile the fine-tuned model\n",
        "    model.compile(loss=\"binary_crossentropy\", optimizer=optimizer, metrics=[fbeta])\n",
        "\n",
        "    return model\n"
      ],
      "execution_count": null,
      "outputs": []
    },
    {
      "cell_type": "markdown",
      "metadata": {
        "id": "G463SMUow5nh",
        "colab_type": "text"
      },
      "source": [
        "**Define a function that returns iterators that pass data in batches to the model for training**"
      ]
    },
    {
      "cell_type": "code",
      "metadata": {
        "id": "LkRhR8NkCTYF",
        "colab_type": "code",
        "colab": {}
      },
      "source": [
        "def data_iterators(model_preprocess):\n",
        "    \n",
        "    # preprocess the input images to the required format for vgg19 implementation\n",
        "    processed_train_X, processed_val_X = model_preprocess(train_X), model_preprocess(val_X)\n",
        "\n",
        "    # create data generators and also implement data augmentaion which introduces\n",
        "    # random transformations to the images. This is done to improve the\n",
        "    # generalization of the model\n",
        "    train_generator = ImageDataGenerator(horizontal_flip=True, vertical_flip=True, rotation_range=90)\n",
        "    val_generator = ImageDataGenerator()\n",
        "    train_iterator = train_generator.flow(processed_train_X, train_Y, batch_size=64)\n",
        "    val_iterator = val_generator.flow(processed_val_X, val_Y, batch_size=64)\n",
        "\n",
        "    return train_iterator, val_iterator\n"
      ],
      "execution_count": null,
      "outputs": []
    },
    {
      "cell_type": "markdown",
      "metadata": {
        "id": "MBdLQ28Fyapr",
        "colab_type": "text"
      },
      "source": [
        "**Implement callbacks for training**"
      ]
    },
    {
      "cell_type": "code",
      "metadata": {
        "id": "GeJKgJa6KB8P",
        "colab_type": "code",
        "colab": {}
      },
      "source": [
        "def callbacks(validation=True):\n",
        "    # implement an early stopping callback to prevent overfitting\n",
        "    \n",
        "    early_stopping = EarlyStopping(monitor=\"loss\", patience=5,\n",
        "                                    restore_best_weights=True)\n",
        "    \n",
        "    # implement performance scheduling for tuning the learning rate\n",
        "    scheduler = ReduceLROnPlateau(monitor=\"loss\", factor=0.1, patience=2,\n",
        "                                  min_lr=1e-7, cooldown=0)\n",
        "    return [early_stopping, scheduler]"
      ],
      "execution_count": null,
      "outputs": []
    },
    {
      "cell_type": "code",
      "metadata": {
        "id": "VwsvOM9sIlqa",
        "colab_type": "code",
        "colab": {}
      },
      "source": [
        "base_model = VGG19(include_top=False, input_shape=(64, 64, 3)) # define the base model using all layers except the top"
      ],
      "execution_count": null,
      "outputs": []
    },
    {
      "cell_type": "code",
      "metadata": {
        "id": "D9m7L7meKqOe",
        "colab_type": "code",
        "colab": {}
      },
      "source": [
        "train_iterator, val_iterator = data_iterators(model_preprocess=vgg19_preprocess) # get the data iterators"
      ],
      "execution_count": null,
      "outputs": []
    },
    {
      "cell_type": "code",
      "metadata": {
        "id": "UeQUgYsIIk42",
        "colab_type": "code",
        "colab": {}
      },
      "source": [
        "model = model(base_model, learning_rate=0.001) # define the model"
      ],
      "execution_count": null,
      "outputs": []
    },
    {
      "cell_type": "code",
      "metadata": {
        "id": "7S-sVRX5KiTJ",
        "colab_type": "code",
        "colab": {
          "base_uri": "https://localhost:8080/",
          "height": 353
        },
        "outputId": "37f64abb-601e-4c6d-f72a-c578e51671d2"
      },
      "source": [
        "# train the model\n",
        "history = model.fit(train_iterator, validation_data=val_iterator, steps_per_epoch=len(train_iterator),\n",
        "          validation_steps=len(val_iterator), epochs=10, callbacks=[callbacks()])"
      ],
      "execution_count": null,
      "outputs": [
        {
          "output_type": "stream",
          "text": [
            "Epoch 1/10\n",
            "506/506 [==============================] - 57s 112ms/step - loss: 0.2272 - fbeta: 0.7957 - val_loss: 0.1913 - val_fbeta: 0.8136\n",
            "Epoch 2/10\n",
            "506/506 [==============================] - 55s 109ms/step - loss: 0.1734 - fbeta: 0.8225 - val_loss: 0.1750 - val_fbeta: 0.8278\n",
            "Epoch 3/10\n",
            "506/506 [==============================] - 55s 108ms/step - loss: 0.1661 - fbeta: 0.8247 - val_loss: 0.1744 - val_fbeta: 0.8263\n",
            "Epoch 4/10\n",
            "506/506 [==============================] - 55s 109ms/step - loss: 0.1635 - fbeta: 0.8264 - val_loss: 0.1750 - val_fbeta: 0.8217\n",
            "Epoch 5/10\n",
            "506/506 [==============================] - 54s 107ms/step - loss: 0.1632 - fbeta: 0.8278 - val_loss: 0.1785 - val_fbeta: 0.8335\n",
            "Epoch 6/10\n",
            "506/506 [==============================] - 55s 108ms/step - loss: 0.1493 - fbeta: 0.8335 - val_loss: 0.1624 - val_fbeta: 0.8309\n",
            "Epoch 7/10\n",
            "506/506 [==============================] - 55s 108ms/step - loss: 0.1458 - fbeta: 0.8339 - val_loss: 0.1581 - val_fbeta: 0.8342\n",
            "Epoch 8/10\n",
            "506/506 [==============================] - 55s 108ms/step - loss: 0.1433 - fbeta: 0.8348 - val_loss: 0.1570 - val_fbeta: 0.8302\n",
            "Epoch 9/10\n",
            "506/506 [==============================] - 54s 107ms/step - loss: 0.1412 - fbeta: 0.8345 - val_loss: 0.1547 - val_fbeta: 0.8342\n",
            "Epoch 10/10\n",
            "506/506 [==============================] - 55s 108ms/step - loss: 0.1413 - fbeta: 0.8345 - val_loss: 0.1542 - val_fbeta: 0.8304\n"
          ],
          "name": "stdout"
        }
      ]
    },
    {
      "cell_type": "markdown",
      "metadata": {
        "id": "fW7U-Z6ezAll",
        "colab_type": "text"
      },
      "source": [
        "**Visualize the trajectories for the losses and fbeta scores**"
      ]
    },
    {
      "cell_type": "code",
      "metadata": {
        "id": "jZDfyJbLM-jE",
        "colab_type": "code",
        "colab": {
          "base_uri": "https://localhost:8080/",
          "height": 295
        },
        "outputId": "32936c8e-bc98-4643-c518-24104f67c94f"
      },
      "source": [
        "plt.plot(history.history['loss'])\n",
        "plt.plot(history.history['val_loss'])\n",
        "plt.title('model loss')\n",
        "plt.ylabel('loss')\n",
        "plt.xlabel('epoch')\n",
        "plt.legend(['train', 'validation'], loc='best')\n",
        "plt.show()"
      ],
      "execution_count": null,
      "outputs": [
        {
          "output_type": "display_data",
          "data": {
            "image/png": "[encoded data removed]",
            "text/plain": [
              "<Figure size 432x288 with 1 Axes>"
            ]
          },
          "metadata": {
            "tags": [],
            "needs_background": "light"
          }
        }
      ]
    },
    {
      "cell_type": "code",
      "metadata": {
        "id": "SHvFpCR9RuZq",
        "colab_type": "code",
        "colab": {
          "base_uri": "https://localhost:8080/",
          "height": 295
        },
        "outputId": "d84ff67a-7893-4891-f673-f62cf579c5bb"
      },
      "source": [
        "plt.plot(history.history[\"fbeta\"])\n",
        "plt.plot(history.history['val_fbeta'])\n",
        "plt.title('model metric')\n",
        "plt.ylabel('fbeta')\n",
        "plt.xlabel('epoch')\n",
        "plt.legend(['train', 'validation'], loc='best')\n",
        "plt.show()"
      ],
      "execution_count": null,
      "outputs": [
        {
          "output_type": "display_data",
          "data": {
            "image/png": "[encoded data removed]",
            "text/plain": [
              "<Figure size 432x288 with 1 Axes>"
            ]
          },
          "metadata": {
            "tags": [],
            "needs_background": "light"
          }
        }
      ]
    },
    {
      "cell_type": "markdown",
      "metadata": {
        "id": "ttXwyJ0bSRJc",
        "colab_type": "text"
      },
      "source": [
        "**From the plots above, it can be seen that the metrics and losses have not yet reached an extrema so incresing the number of epochs and fine-tuning the model by training more of the base model's layers might improve the accuracy**"
      ]
    },
    {
      "cell_type": "code",
      "metadata": {
        "id": "bDJz8zTESMeS",
        "colab_type": "code",
        "colab": {}
      },
      "source": [
        "model = fine_tune(base_model, model, learning_rate=0.0001) # Fine-tune the model"
      ],
      "execution_count": null,
      "outputs": []
    },
    {
      "cell_type": "code",
      "metadata": {
        "id": "6Uhoz5YuS_CC",
        "colab_type": "code",
        "colab": {
          "base_uri": "https://localhost:8080/",
          "height": 591
        },
        "outputId": "2726a1b1-676b-49bb-eeaf-c2dd75484d3d"
      },
      "source": [
        "# Train the fine-tuned model\n",
        "history = model.fit(train_iterator, validation_data=val_iterator, steps_per_epoch=len(train_iterator),\n",
        "          validation_steps=len(val_iterator), epochs=50, callbacks=[callbacks()])"
      ],
      "execution_count": null,
      "outputs": [
        {
          "output_type": "stream",
          "text": [
            "Epoch 1/50\n",
            "  2/506 [..............................] - ETA: 53s - loss: 0.1813 - fbeta: 0.7851WARNING:tensorflow:Callbacks method `on_train_batch_end` is slow compared to the batch time (batch time: 0.0798s vs `on_train_batch_end` time: 0.1336s). Check your callbacks.\n",
            "506/506 [==============================] - 116s 230ms/step - loss: 0.1328 - fbeta: 0.8378 - val_loss: 0.1253 - val_fbeta: 0.8527\n",
            "Epoch 2/50\n",
            "506/506 [==============================] - 115s 227ms/step - loss: 0.1129 - fbeta: 0.8639 - val_loss: 0.1132 - val_fbeta: 0.8689\n",
            "Epoch 3/50\n",
            "506/506 [==============================] - 115s 227ms/step - loss: 0.1077 - fbeta: 0.8719 - val_loss: 0.1119 - val_fbeta: 0.8651\n",
            "Epoch 4/50\n",
            "506/506 [==============================] - 115s 227ms/step - loss: 0.1047 - fbeta: 0.8768 - val_loss: 0.1064 - val_fbeta: 0.8791\n",
            "Epoch 5/50\n",
            "506/506 [==============================] - 115s 227ms/step - loss: 0.1020 - fbeta: 0.8794 - val_loss: 0.1031 - val_fbeta: 0.8794\n",
            "Epoch 6/50\n",
            "506/506 [==============================] - 115s 227ms/step - loss: 0.1005 - fbeta: 0.8809 - val_loss: 0.1093 - val_fbeta: 0.8824\n",
            "Epoch 7/50\n",
            "506/506 [==============================] - 115s 227ms/step - loss: 0.0986 - fbeta: 0.8838 - val_loss: 0.1082 - val_fbeta: 0.8732\n",
            "Epoch 8/50\n",
            "506/506 [==============================] - 115s 227ms/step - loss: 0.0904 - fbeta: 0.8939 - val_loss: 0.1023 - val_fbeta: 0.8880\n",
            "Epoch 9/50\n",
            "506/506 [==============================] - 115s 227ms/step - loss: 0.0883 - fbeta: 0.8971 - val_loss: 0.1018 - val_fbeta: 0.8901\n",
            "Epoch 10/50\n",
            "506/506 [==============================] - 115s 227ms/step - loss: 0.0875 - fbeta: 0.8983 - val_loss: 0.1020 - val_fbeta: 0.8905\n",
            "Epoch 11/50\n",
            "506/506 [==============================] - 115s 227ms/step - loss: 0.0862 - fbeta: 0.8993 - val_loss: 0.0985 - val_fbeta: 0.8930\n",
            "Epoch 12/50\n",
            "506/506 [==============================] - 115s 227ms/step - loss: 0.0854 - fbeta: 0.9008 - val_loss: 0.1005 - val_fbeta: 0.8935\n",
            "Epoch 13/50\n",
            "506/506 [==============================] - 115s 227ms/step - loss: 0.0854 - fbeta: 0.8998 - val_loss: 0.1002 - val_fbeta: 0.8924\n",
            "Epoch 14/50\n",
            "506/506 [==============================] - 115s 227ms/step - loss: 0.0839 - fbeta: 0.9025 - val_loss: 0.0993 - val_fbeta: 0.8930\n",
            "Epoch 15/50\n",
            "506/506 [==============================] - 115s 227ms/step - loss: 0.0831 - fbeta: 0.9032 - val_loss: 0.0997 - val_fbeta: 0.8929\n",
            "Epoch 16/50\n",
            "506/506 [==============================] - 116s 230ms/step - loss: 0.0827 - fbeta: 0.9039 - val_loss: 0.0995 - val_fbeta: 0.8934\n"
          ],
          "name": "stdout"
        }
      ]
    },
    {
      "cell_type": "markdown",
      "metadata": {
        "id": "HMvf2oqhzbTd",
        "colab_type": "text"
      },
      "source": [
        "**Visualize learning trajectories**"
      ]
    },
    {
      "cell_type": "code",
      "metadata": {
        "id": "ce-_dRXNTEP_",
        "colab_type": "code",
        "colab": {
          "base_uri": "https://localhost:8080/",
          "height": 295
        },
        "outputId": "b02ff8bd-9595-4814-8d1f-7367b1801323"
      },
      "source": [
        "plt.plot(history.history['loss'])\n",
        "plt.plot(history.history['val_loss'])\n",
        "plt.title('model loss')\n",
        "plt.ylabel('loss')\n",
        "plt.xlabel('epoch')\n",
        "plt.legend(['train', 'validation'], loc='upper left')\n",
        "plt.show()"
      ],
      "execution_count": null,
      "outputs": [
        {
          "output_type": "display_data",
          "data": {
            "image/png": "[encoded data removed]",
            "text/plain": [
              "<Figure size 432x288 with 1 Axes>"
            ]
          },
          "metadata": {
            "tags": [],
            "needs_background": "light"
          }
        }
      ]
    },
    {
      "cell_type": "code",
      "metadata": {
        "id": "qfAH_hkfceEN",
        "colab_type": "code",
        "colab": {
          "base_uri": "https://localhost:8080/",
          "height": 295
        },
        "outputId": "55fd5610-89b3-43fe-e0fe-39120c2cb7c8"
      },
      "source": [
        "plt.plot(history.history[\"fbeta\"])\n",
        "plt.plot(history.history['val_fbeta'])\n",
        "plt.title('model metric')\n",
        "plt.ylabel('fbeta')\n",
        "plt.xlabel('epoch')\n",
        "plt.legend(['train', 'validation'], loc='best')\n",
        "plt.show()"
      ],
      "execution_count": null,
      "outputs": [
        {
          "output_type": "display_data",
          "data": {
            "image/png": "[encoded data removed]",
            "text/plain": [
              "<Figure size 432x288 with 1 Axes>"
            ]
          },
          "metadata": {
            "tags": [],
            "needs_background": "light"
          }
        }
      ]
    },
    {
      "cell_type": "markdown",
      "metadata": {
        "id": "jYFknyiUd5_U",
        "colab_type": "text"
      },
      "source": [
        "**The performance of the model during this training yielded much better results than the first training**"
      ]
    },
    {
      "cell_type": "markdown",
      "metadata": {
        "id": "NeeGD9ilebjg",
        "colab_type": "text"
      },
      "source": [
        "**Seeing how we have many classes, having an fbeta threshold of 0.5 could slightly diminish performance hence it would be reasonable to determine the optimal fbeta threshold for each class to make better predictions.**"
      ]
    },
    {
      "cell_type": "code",
      "metadata": {
        "id": "6dDuyQe_dyoB",
        "colab_type": "code",
        "colab": {}
      },
      "source": [
        "def get_optimal_threshold(true_label, predicted_label, iterations = 100):\n",
        "    \n",
        "    # use sklearn's fbeta_score function instead of the one defined above using\n",
        "    # keras' backend due to incompatible data types\n",
        "    def fbeta(true_label, predicted_label):\n",
        "        return fbeta_score(true_label, predicted_label, beta=2, average='samples')\n",
        "\n",
        "    best_threshold = [0.2] * num_tags # set a best threshold holder\n",
        "    \n",
        "    # iterate through the various tags   \n",
        "    for t in range(num_tags):\n",
        "        best_fbeta = 0 # temporary fbeta score\n",
        "        temp_threshold = [0.2] * num_tags # temporary threshold\n",
        "        \n",
        "        # Make a 100 iterations for each tag to ensure convergence\n",
        "        # Keep updating the best threshold until a maximum fbeta is achieved\n",
        "        for i in range(iterations):\n",
        "            temp_value = i / float(iterations)\n",
        "            temp_threshold[t] = temp_value\n",
        "            temp_fbeta = fbeta(true_label, predicted_label > temp_threshold)\n",
        "            if  temp_fbeta> best_fbeta:\n",
        "                best_fbeta = temp_fbeta\n",
        "                best_threshold[t] = temp_value\n",
        "    return best_threshold"
      ],
      "execution_count": null,
      "outputs": []
    },
    {
      "cell_type": "code",
      "metadata": {
        "id": "J07oqLkTgFgV",
        "colab_type": "code",
        "colab": {
          "base_uri": "https://localhost:8080/",
          "height": 34
        },
        "outputId": "a2a895fe-a10c-4789-ee98-5b5921c30f30"
      },
      "source": [
        "val_X = vgg19_preprocess(val_X) # preprocess the validation images\n",
        "val_predictions = model.predict(val_X) # make predictions on the validation \n",
        "\n",
        "get optimal thresholds\n",
        "thresholds = get_optimal_threshold(val_Y, val_predictions)\n",
        "\n",
        "delete unused variables to save up space\n",
        "del val_predictions, train_X, val_X, train_Y, val_Y\n",
        "gc.collect()"
      ],
      "execution_count": null,
      "outputs": [
        {
          "output_type": "execute_result",
          "data": {
            "text/plain": [
              "677"
            ]
          },
          "metadata": {
            "tags": []
          },
          "execution_count": 28
        }
      ]
    },
    {
      "cell_type": "markdown",
      "metadata": {
        "id": "70BeoiJp13JB",
        "colab_type": "text"
      },
      "source": [
        "**Let's now train the model on the whole dataset**"
      ]
    },
    {
      "cell_type": "code",
      "metadata": {
        "id": "F6GZP0U41IZf",
        "colab_type": "code",
        "colab": {}
      },
      "source": [
        "X = vgg19_preprocess(X) # preprocess the entire training images\n",
        "\n",
        "# Obtain a data iterator for the entire dataset\n",
        "train_generator = ImageDataGenerator(horizontal_flip=True, vertical_flip=True, rotation_range=90)\n",
        "train_iterator = train_generator.flow(X, Y, batch_size=64)"
      ],
      "execution_count": null,
      "outputs": []
    },
    {
      "cell_type": "code",
      "metadata": {
        "id": "XvUD1M-K3NOZ",
        "colab_type": "code",
        "colab": {}
      },
      "source": [
        "model = fine_tune(base_model, model, learning_rate=0.0001) # define model"
      ],
      "execution_count": null,
      "outputs": []
    },
    {
      "cell_type": "code",
      "metadata": {
        "id": "rT42Yq4p2s4A",
        "colab_type": "code",
        "colab": {
          "base_uri": "https://localhost:8080/",
          "height": 726
        },
        "outputId": "c88c913e-9682-4b91-b3d2-0f3bd417cbc8"
      },
      "source": [
        "history = model.fit(train_iterator, steps_per_epoch=len(train_iterator), epochs=20) # Train the model"
      ],
      "execution_count": null,
      "outputs": [
        {
          "output_type": "stream",
          "text": [
            "Epoch 1/20\n",
            "  2/633 [..............................] - ETA: 2:15 - loss: 0.0887 - fbeta: 0.8909WARNING:tensorflow:Callbacks method `on_train_batch_end` is slow compared to the batch time (batch time: 0.0904s vs `on_train_batch_end` time: 0.1584s). Check your callbacks.\n",
            "633/633 [==============================] - 136s 215ms/step - loss: 0.1000 - fbeta: 0.8821\n",
            "Epoch 2/20\n",
            "633/633 [==============================] - 135s 214ms/step - loss: 0.0980 - fbeta: 0.8852\n",
            "Epoch 3/20\n",
            "633/633 [==============================] - 135s 213ms/step - loss: 0.0963 - fbeta: 0.8880\n",
            "Epoch 4/20\n",
            "633/633 [==============================] - 135s 213ms/step - loss: 0.0951 - fbeta: 0.8892\n",
            "Epoch 5/20\n",
            "633/633 [==============================] - 135s 213ms/step - loss: 0.0943 - fbeta: 0.8899\n",
            "Epoch 6/20\n",
            "633/633 [==============================] - 135s 213ms/step - loss: 0.0936 - fbeta: 0.8913\n",
            "Epoch 7/20\n",
            "633/633 [==============================] - 135s 213ms/step - loss: 0.0926 - fbeta: 0.8915\n",
            "Epoch 8/20\n",
            "633/633 [==============================] - 135s 213ms/step - loss: 0.0918 - fbeta: 0.8934\n",
            "Epoch 9/20\n",
            "633/633 [==============================] - 135s 213ms/step - loss: 0.0908 - fbeta: 0.8948\n",
            "Epoch 10/20\n",
            "633/633 [==============================] - 135s 213ms/step - loss: 0.0901 - fbeta: 0.8953\n",
            "Epoch 11/20\n",
            "633/633 [==============================] - 135s 213ms/step - loss: 0.0896 - fbeta: 0.8961\n",
            "Epoch 12/20\n",
            "633/633 [==============================] - 135s 213ms/step - loss: 0.0892 - fbeta: 0.8975\n",
            "Epoch 13/20\n",
            "633/633 [==============================] - 135s 213ms/step - loss: 0.0882 - fbeta: 0.8981\n",
            "Epoch 14/20\n",
            "633/633 [==============================] - 135s 213ms/step - loss: 0.0876 - fbeta: 0.8978\n",
            "Epoch 15/20\n",
            "633/633 [==============================] - 135s 213ms/step - loss: 0.0870 - fbeta: 0.8994\n",
            "Epoch 16/20\n",
            "633/633 [==============================] - 135s 213ms/step - loss: 0.0869 - fbeta: 0.8986\n",
            "Epoch 17/20\n",
            "633/633 [==============================] - 135s 213ms/step - loss: 0.0862 - fbeta: 0.9000\n",
            "Epoch 18/20\n",
            "633/633 [==============================] - 135s 213ms/step - loss: 0.0853 - fbeta: 0.9011\n",
            "Epoch 19/20\n",
            "633/633 [==============================] - 135s 213ms/step - loss: 0.0844 - fbeta: 0.9021\n",
            "Epoch 20/20\n",
            "633/633 [==============================] - 135s 213ms/step - loss: 0.0838 - fbeta: 0.9027\n"
          ],
          "name": "stdout"
        }
      ]
    },
    {
      "cell_type": "markdown",
      "metadata": {
        "id": "Ubr0qKG9Ksk1",
        "colab_type": "text"
      },
      "source": [
        "**Save the model**"
      ]
    },
    {
      "cell_type": "code",
      "metadata": {
        "id": "O2CCFeKk3itg",
        "colab_type": "code",
        "colab": {}
      },
      "source": [
        "model.save(\"final_vgg19_model.h5\")"
      ],
      "execution_count": null,
      "outputs": []
    },
    {
      "cell_type": "markdown",
      "metadata": {
        "id": "KUvSfzMfK7UJ",
        "colab_type": "text"
      },
      "source": [
        "# Predictions"
      ]
    },
    {
      "cell_type": "markdown",
      "metadata": {
        "id": "2eOINCNd38z3",
        "colab_type": "text"
      },
      "source": [
        "**Load the model**"
      ]
    },
    {
      "cell_type": "code",
      "metadata": {
        "id": "Z4R4ViMDMnBs",
        "colab_type": "code",
        "colab": {}
      },
      "source": [
        "model = keras.models.load_model(\"/content/final_vgg19_model.h5\", custom_objects={\"fbeta\": fbeta})"
      ],
      "execution_count": null,
      "outputs": []
    },
    {
      "cell_type": "markdown",
      "metadata": {
        "id": "W8VkIbaeLJFz",
        "colab_type": "text"
      },
      "source": [
        "## Read test images"
      ]
    },
    {
      "cell_type": "code",
      "metadata": {
        "id": "7bhYlWwuKzWY",
        "colab_type": "code",
        "colab": {
          "base_uri": "https://localhost:8080/",
          "height": 50
        },
        "outputId": "f8ff0fbc-d357-4685-f836-10c600acb2bc"
      },
      "source": [
        "folder = \"/content/planets_dataset/planet/planet/test-jpg\"\n",
        "test_images1 = []\n",
        "test_images1_names = []\n",
        "for image in tqdm(listdir(folder), miniters=1000):\n",
        "    test_images1.append(cv2.resize(cv2.imread(folder + \"/\" + image), (64, 64)))\n",
        "    test_images1_names.append(image.split(\".\")[0])\n",
        "\n",
        "folder = \"/content/planets_dataset/test-jpg-additional/test-jpg-additional\"\n",
        "test_images2 = []\n",
        "test_images2_names = []\n",
        "for image in tqdm(listdir(folder), miniters=1000):\n",
        "    test_images2.append(cv2.resize(cv2.imread(folder + \"/\" + image), (64, 64)))\n",
        "    test_images2_names.append(image.split(\".\")[0])"
      ],
      "execution_count": null,
      "outputs": [
        {
          "output_type": "stream",
          "text": [
            "100%|██████████| 40669/40669 [01:18<00:00, 518.20it/s]\n",
            "100%|██████████| 20522/20522 [00:39<00:00, 522.03it/s]\n"
          ],
          "name": "stderr"
        }
      ]
    },
    {
      "cell_type": "markdown",
      "metadata": {
        "id": "c-rAIy0m509U",
        "colab_type": "text"
      },
      "source": [
        "**Carry out some processing on the images**"
      ]
    },
    {
      "cell_type": "code",
      "metadata": {
        "id": "BrqK16WZLsB6",
        "colab_type": "code",
        "colab": {
          "base_uri": "https://localhost:8080/",
          "height": 34
        },
        "outputId": "c11f0d0e-51ac-4fc4-e0e4-fe8391dbc104"
      },
      "source": [
        "test_X = np.array(test_images1 + test_images2, dtype=\"float16\") # combine the test images from both sources\n",
        "\n",
        "# get the corresponding image names of the test images\n",
        "test_names = test_images1_names + test_images2_names\n",
        "\n",
        "# delete unused variables\n",
        "del test_images1, test_images2, test_images1_names, test_images2_names\n",
        "gc.collect()"
      ],
      "execution_count": null,
      "outputs": [
        {
          "output_type": "execute_result",
          "data": {
            "text/plain": [
              "306"
            ]
          },
          "metadata": {
            "tags": []
          },
          "execution_count": 40
        }
      ]
    },
    {
      "cell_type": "markdown",
      "metadata": {
        "id": "x58S7h3BMK3I",
        "colab_type": "text"
      },
      "source": [
        "## Make predictions"
      ]
    },
    {
      "cell_type": "code",
      "metadata": {
        "id": "5Gf3-r3-4P7e",
        "colab_type": "code",
        "colab": {}
      },
      "source": [
        "test_X = vgg19_preprocess(test_X) # preprocess the test images\n",
        "\n",
        "# make predictions based on the earlier-defined thresholds\n",
        "predictions = (model.predict(test_X) > thresholds).astype(\"int32\")"
      ],
      "execution_count": null,
      "outputs": []
    },
    {
      "cell_type": "markdown",
      "metadata": {
        "id": "cWLhnihU4ibw",
        "colab_type": "text"
      },
      "source": [
        "**Convert the numerical predictions to their appropriate labels**"
      ]
    },
    {
      "cell_type": "code",
      "metadata": {
        "id": "1ae0uYtYMX_l",
        "colab_type": "code",
        "colab": {
          "base_uri": "https://localhost:8080/",
          "height": 34
        },
        "outputId": "0fac32cb-23ee-4b53-c659-f5169528b2b5"
      },
      "source": [
        "tags = train_df.columns[1:] # get the tags\n",
        "\n",
        "labelled_predictions = []\n",
        "\n",
        "# iterate through the predictions\n",
        "for prediction in predictions:\n",
        "    labels = []\n",
        "\n",
        "    # iterate throuh the tags\n",
        "    for i in range(len(tags)):\n",
        "        # add the appropriate tag if prediction is 1\n",
        "        if prediction[i] == 1:\n",
        "            labels.append(tags[i])\n",
        "    labelled_predictions.append(labels)\n",
        "labelled_predictions[0]"
      ],
      "execution_count": null,
      "outputs": [
        {
          "output_type": "execute_result",
          "data": {
            "text/plain": [
              "['clear', 'cloudy', 'haze', 'primary']"
            ]
          },
          "metadata": {
            "tags": []
          },
          "execution_count": 43
        }
      ]
    },
    {
      "cell_type": "markdown",
      "metadata": {
        "id": "9dnN26xh5Qf0",
        "colab_type": "text"
      },
      "source": [
        "**Convert the list of tags to space-delineated strings**"
      ]
    },
    {
      "cell_type": "code",
      "metadata": {
        "id": "Nj39fGneNTf-",
        "colab_type": "code",
        "colab": {}
      },
      "source": [
        "processed_predictions = list(map(lambda x: (\" \").join(x), labelled_predictions))"
      ],
      "execution_count": null,
      "outputs": []
    },
    {
      "cell_type": "code",
      "metadata": {
        "id": "qH2-5AyENazC",
        "colab_type": "code",
        "colab": {
          "base_uri": "https://localhost:8080/",
          "height": 195
        },
        "outputId": "cd1ef5c0-8967-4ff1-d8cb-fa66a0f8d2ce"
      },
      "source": [
        "# convert the predictions to a dictionary\n",
        "pred_dict = {\"image_name\": test_names, \"tags\": processed_predictions}\n",
        "\n",
        "# create a datframe of the predictions\n",
        "submission = pd.DataFrame(pred_dict)\n",
        "\n",
        "# sort by image names in alphabetical order\n",
        "submission.sort_values(by=\"image_name\", inplace=True)\n",
        "submission.reset_index(drop=True, inplace=True) # reset index\n",
        "submission.head()"
      ],
      "execution_count": null,
      "outputs": [
        {
          "output_type": "execute_result",
          "data": {
            "text/html": [
              "<div>\n",
              "<style scoped>\n",
              "    .dataframe tbody tr th:only-of-type {\n",
              "        vertical-align: middle;\n",
              "    }\n",
              "\n",
              "    .dataframe tbody tr th {\n",
              "        vertical-align: top;\n",
              "    }\n",
              "\n",
              "    .dataframe thead th {\n",
              "        text-align: right;\n",
              "    }\n",
              "</style>\n",
              "<table border=\"1\" class=\"dataframe\">\n",
              "  <thead>\n",
              "    <tr style=\"text-align: right;\">\n",
              "      <th></th>\n",
              "      <th>image_name</th>\n",
              "      <th>tags</th>\n",
              "    </tr>\n",
              "  </thead>\n",
              "  <tbody>\n",
              "    <tr>\n",
              "      <th>0</th>\n",
              "      <td>file_0</td>\n",
              "      <td>clear primary</td>\n",
              "    </tr>\n",
              "    <tr>\n",
              "      <th>1</th>\n",
              "      <td>file_1</td>\n",
              "      <td>agriculture cultivation habitation partly_clou...</td>\n",
              "    </tr>\n",
              "    <tr>\n",
              "      <th>2</th>\n",
              "      <td>file_10</td>\n",
              "      <td>agriculture haze partly_cloudy primary road water</td>\n",
              "    </tr>\n",
              "    <tr>\n",
              "      <th>3</th>\n",
              "      <td>file_100</td>\n",
              "      <td>agriculture clear primary road water</td>\n",
              "    </tr>\n",
              "    <tr>\n",
              "      <th>4</th>\n",
              "      <td>file_1000</td>\n",
              "      <td>agriculture clear primary</td>\n",
              "    </tr>\n",
              "  </tbody>\n",
              "</table>\n",
              "</div>"
            ],
            "text/plain": [
              "  image_name                                               tags\n",
              "0     file_0                                      clear primary\n",
              "1     file_1  agriculture cultivation habitation partly_clou...\n",
              "2    file_10  agriculture haze partly_cloudy primary road water\n",
              "3   file_100               agriculture clear primary road water\n",
              "4  file_1000                          agriculture clear primary"
            ]
          },
          "metadata": {
            "tags": []
          },
          "execution_count": 45
        }
      ]
    },
    {
      "cell_type": "markdown",
      "metadata": {
        "id": "pD_ncWgk5tcr",
        "colab_type": "text"
      },
      "source": [
        "**Create a submission csv file**"
      ]
    },
    {
      "cell_type": "code",
      "metadata": {
        "id": "naTM7j7KNpVH",
        "colab_type": "code",
        "colab": {}
      },
      "source": [
        "submission.to_csv(\"planets_submission1.csv\", index=False)"
      ],
      "execution_count": null,
      "outputs": []
    },
    {
      "cell_type": "markdown",
      "metadata": {
        "id": "uK-iuJrcbJqn",
        "colab_type": "text"
      },
      "source": [
        "The submission gave a private score of 0.91688 and public score of 0.91767 with a rank between positions 353 and 354 on the private leaderboard."
      ]
    },
    {
      "cell_type": "markdown",
      "metadata": {
        "id": "3Wkt4AuCbmv7",
        "colab_type": "text"
      },
      "source": [
        "# Notebook by: OLALEKE Moshood A."
      ]
    },
    {
      "cell_type": "code",
      "metadata": {
        "id": "5M_JtbplVjFG",
        "colab_type": "code",
        "colab": {}
      },
      "source": [
        ""
      ],
      "execution_count": null,
      "outputs": []
    }
  ]
}
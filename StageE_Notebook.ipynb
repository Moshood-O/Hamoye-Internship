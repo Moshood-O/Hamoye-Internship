{
  "nbformat": 4,
  "nbformat_minor": 0,
  "metadata": {
    "colab": {
      "name": "StageE_Notebook.ipynb",
      "provenance": [],
      "collapsed_sections": [],
      "mount_file_id": "1zGb4Ro7yFiqbLh8TRpwoVePSudQf-0sj",
      "authorship_tag": "ABX9TyO9vM2iFcvMuDTbZ27CrlDL",
      "include_colab_link": true
    },
    "kernelspec": {
      "name": "python3",
      "display_name": "Python 3"
    }
  },
  "cells": [
    {
      "cell_type": "markdown",
      "metadata": {
        "id": "view-in-github",
        "colab_type": "text"
      },
      "source": [
        "<a href=\"https://colab.research.google.com/github/Moshood-O/Hamoye-Internship/blob/master/StageE_Notebook.ipynb\" target=\"_parent\"><img src=\"https://colab.research.google.com/assets/colab-badge.svg\" alt=\"Open In Colab\"/></a>"
      ]
    },
    {
      "cell_type": "markdown",
      "metadata": {
        "id": "h1xhSnqSgBqj"
      },
      "source": [
        "# This is a notebook containing the code solutions to the Stage E quiz questions"
      ]
    },
    {
      "cell_type": "markdown",
      "metadata": {
        "id": "EQkYrmukgL0z"
      },
      "source": [
        "## Import Necessary Dependencies"
      ]
    },
    {
      "cell_type": "code",
      "metadata": {
        "id": "L4VmcxXr0dJL"
      },
      "source": [
        "# numerical computing and data manipulation\n",
        "import pandas as pd\n",
        "import numpy as np\n",
        "\n",
        "# visualization\n",
        "import matplotlib.pyplot as plt\n",
        "from matplotlib.dates import DateFormatter\n",
        "# from pylab import rcParams\n",
        "# rcParams['figure.figsize'] = 15, 8\n",
        "\n",
        "from sklearn.metrics import mean_squared_error # model evaluation\n",
        "\n",
        "from fbprophet import Prophet # time series forecasting\n",
        "from fbprophet.plot import plot_yearly, plot_weekly\n",
        "\n",
        "import warnings\n",
        "warnings.filterwarnings(\"ignore\")"
      ],
      "execution_count": 1,
      "outputs": []
    },
    {
      "cell_type": "markdown",
      "metadata": {
        "id": "e6ZBVbBWggLo"
      },
      "source": [
        "**Read the data into a dataframe**"
      ]
    },
    {
      "cell_type": "code",
      "metadata": {
        "id": "xs5JIZrz2Zc1",
        "outputId": "de357b88-7be2-4f86-c0fd-0b1af041dfd1",
        "colab": {
          "base_uri": "https://localhost:8080/",
          "height": 235
        }
      },
      "source": [
        "household_df = pd.read_csv(\"/content/drive/My Drive/Colab Notebooks/household_power_consumption.zip (Unzipped Files)/household_power_consumption.txt\",\n",
        "                           sep=\";\", low_memory=False, header=0, infer_datetime_format=True, parse_dates={\"Datetime\": [\"Date\", \"Time\"]},\n",
        "                           index_col=\"Datetime\", na_values=\"?\", dtype=\"float\")\n",
        "\n",
        "household_df.head() # Read the first five rows"
      ],
      "execution_count": 2,
      "outputs": [
        {
          "output_type": "execute_result",
          "data": {
            "text/html": [
              "<div>\n",
              "<style scoped>\n",
              "    .dataframe tbody tr th:only-of-type {\n",
              "        vertical-align: middle;\n",
              "    }\n",
              "\n",
              "    .dataframe tbody tr th {\n",
              "        vertical-align: top;\n",
              "    }\n",
              "\n",
              "    .dataframe thead th {\n",
              "        text-align: right;\n",
              "    }\n",
              "</style>\n",
              "<table border=\"1\" class=\"dataframe\">\n",
              "  <thead>\n",
              "    <tr style=\"text-align: right;\">\n",
              "      <th></th>\n",
              "      <th>Global_active_power</th>\n",
              "      <th>Global_reactive_power</th>\n",
              "      <th>Voltage</th>\n",
              "      <th>Global_intensity</th>\n",
              "      <th>Sub_metering_1</th>\n",
              "      <th>Sub_metering_2</th>\n",
              "      <th>Sub_metering_3</th>\n",
              "    </tr>\n",
              "    <tr>\n",
              "      <th>Datetime</th>\n",
              "      <th></th>\n",
              "      <th></th>\n",
              "      <th></th>\n",
              "      <th></th>\n",
              "      <th></th>\n",
              "      <th></th>\n",
              "      <th></th>\n",
              "    </tr>\n",
              "  </thead>\n",
              "  <tbody>\n",
              "    <tr>\n",
              "      <th>2006-12-16 17:24:00</th>\n",
              "      <td>4.216</td>\n",
              "      <td>0.418</td>\n",
              "      <td>234.84</td>\n",
              "      <td>18.4</td>\n",
              "      <td>0.0</td>\n",
              "      <td>1.0</td>\n",
              "      <td>17.0</td>\n",
              "    </tr>\n",
              "    <tr>\n",
              "      <th>2006-12-16 17:25:00</th>\n",
              "      <td>5.360</td>\n",
              "      <td>0.436</td>\n",
              "      <td>233.63</td>\n",
              "      <td>23.0</td>\n",
              "      <td>0.0</td>\n",
              "      <td>1.0</td>\n",
              "      <td>16.0</td>\n",
              "    </tr>\n",
              "    <tr>\n",
              "      <th>2006-12-16 17:26:00</th>\n",
              "      <td>5.374</td>\n",
              "      <td>0.498</td>\n",
              "      <td>233.29</td>\n",
              "      <td>23.0</td>\n",
              "      <td>0.0</td>\n",
              "      <td>2.0</td>\n",
              "      <td>17.0</td>\n",
              "    </tr>\n",
              "    <tr>\n",
              "      <th>2006-12-16 17:27:00</th>\n",
              "      <td>5.388</td>\n",
              "      <td>0.502</td>\n",
              "      <td>233.74</td>\n",
              "      <td>23.0</td>\n",
              "      <td>0.0</td>\n",
              "      <td>1.0</td>\n",
              "      <td>17.0</td>\n",
              "    </tr>\n",
              "    <tr>\n",
              "      <th>2006-12-16 17:28:00</th>\n",
              "      <td>3.666</td>\n",
              "      <td>0.528</td>\n",
              "      <td>235.68</td>\n",
              "      <td>15.8</td>\n",
              "      <td>0.0</td>\n",
              "      <td>1.0</td>\n",
              "      <td>17.0</td>\n",
              "    </tr>\n",
              "  </tbody>\n",
              "</table>\n",
              "</div>"
            ],
            "text/plain": [
              "                     Global_active_power  ...  Sub_metering_3\n",
              "Datetime                                  ...                \n",
              "2006-12-16 17:24:00                4.216  ...            17.0\n",
              "2006-12-16 17:25:00                5.360  ...            16.0\n",
              "2006-12-16 17:26:00                5.374  ...            17.0\n",
              "2006-12-16 17:27:00                5.388  ...            17.0\n",
              "2006-12-16 17:28:00                3.666  ...            17.0\n",
              "\n",
              "[5 rows x 7 columns]"
            ]
          },
          "metadata": {
            "tags": []
          },
          "execution_count": 2
        }
      ]
    },
    {
      "cell_type": "markdown",
      "metadata": {
        "id": "T327wFC_hJr5"
      },
      "source": [
        "## Fill the missing values with the average of their columns"
      ]
    },
    {
      "cell_type": "markdown",
      "metadata": {
        "id": "2fvPpxCTiE4r"
      },
      "source": [
        "**Check the number of missing values in each columns**"
      ]
    },
    {
      "cell_type": "code",
      "metadata": {
        "id": "1gDt4Q_JhkOA",
        "outputId": "139164b2-054a-4a5b-fce3-43e0591757c0",
        "colab": {
          "base_uri": "https://localhost:8080/",
          "height": 153
        }
      },
      "source": [
        "household_df.isna().sum()"
      ],
      "execution_count": 3,
      "outputs": [
        {
          "output_type": "execute_result",
          "data": {
            "text/plain": [
              "Global_active_power      25979\n",
              "Global_reactive_power    25979\n",
              "Voltage                  25979\n",
              "Global_intensity         25979\n",
              "Sub_metering_1           25979\n",
              "Sub_metering_2           25979\n",
              "Sub_metering_3           25979\n",
              "dtype: int64"
            ]
          },
          "metadata": {
            "tags": []
          },
          "execution_count": 3
        }
      ]
    },
    {
      "cell_type": "markdown",
      "metadata": {
        "id": "l3rWN4iP7LUy"
      },
      "source": [
        "**Fill in missing values**"
      ]
    },
    {
      "cell_type": "code",
      "metadata": {
        "id": "ojI3UA_GhRSn"
      },
      "source": [
        "column_averages = household_df.mean() # get the average of each column\n",
        "household_df.fillna(column_averages, inplace=True) # Fill the missing the values with averages"
      ],
      "execution_count": 4,
      "outputs": []
    },
    {
      "cell_type": "markdown",
      "metadata": {
        "id": "aXW2-0BviDSP"
      },
      "source": [
        "**Confirm that there are no longer missing values**"
      ]
    },
    {
      "cell_type": "code",
      "metadata": {
        "id": "4OxoJ6MZiTNZ",
        "outputId": "0ab97cd7-70a0-4240-bf48-c7688a60e43b",
        "colab": {
          "base_uri": "https://localhost:8080/",
          "height": 153
        }
      },
      "source": [
        "household_df.isna().sum()"
      ],
      "execution_count": 5,
      "outputs": [
        {
          "output_type": "execute_result",
          "data": {
            "text/plain": [
              "Global_active_power      0\n",
              "Global_reactive_power    0\n",
              "Voltage                  0\n",
              "Global_intensity         0\n",
              "Sub_metering_1           0\n",
              "Sub_metering_2           0\n",
              "Sub_metering_3           0\n",
              "dtype: int64"
            ]
          },
          "metadata": {
            "tags": []
          },
          "execution_count": 5
        }
      ]
    },
    {
      "cell_type": "markdown",
      "metadata": {
        "id": "_E7MG_Oyg5C5"
      },
      "source": [
        "## Resample the data from a minute sampling rate to a daily sampling rate"
      ]
    },
    {
      "cell_type": "code",
      "metadata": {
        "id": "yJyeYPFc20oL",
        "outputId": "402e4a11-ce6b-4d3f-8be3-19e05ae8a66e",
        "colab": {
          "base_uri": "https://localhost:8080/",
          "height": 235
        }
      },
      "source": [
        "household_df = household_df.resample(\"D\").sum()\n",
        "\n",
        "household_df.head()"
      ],
      "execution_count": 6,
      "outputs": [
        {
          "output_type": "execute_result",
          "data": {
            "text/html": [
              "<div>\n",
              "<style scoped>\n",
              "    .dataframe tbody tr th:only-of-type {\n",
              "        vertical-align: middle;\n",
              "    }\n",
              "\n",
              "    .dataframe tbody tr th {\n",
              "        vertical-align: top;\n",
              "    }\n",
              "\n",
              "    .dataframe thead th {\n",
              "        text-align: right;\n",
              "    }\n",
              "</style>\n",
              "<table border=\"1\" class=\"dataframe\">\n",
              "  <thead>\n",
              "    <tr style=\"text-align: right;\">\n",
              "      <th></th>\n",
              "      <th>Global_active_power</th>\n",
              "      <th>Global_reactive_power</th>\n",
              "      <th>Voltage</th>\n",
              "      <th>Global_intensity</th>\n",
              "      <th>Sub_metering_1</th>\n",
              "      <th>Sub_metering_2</th>\n",
              "      <th>Sub_metering_3</th>\n",
              "    </tr>\n",
              "    <tr>\n",
              "      <th>Datetime</th>\n",
              "      <th></th>\n",
              "      <th></th>\n",
              "      <th></th>\n",
              "      <th></th>\n",
              "      <th></th>\n",
              "      <th></th>\n",
              "      <th></th>\n",
              "    </tr>\n",
              "  </thead>\n",
              "  <tbody>\n",
              "    <tr>\n",
              "      <th>2006-12-16</th>\n",
              "      <td>1209.176</td>\n",
              "      <td>34.922</td>\n",
              "      <td>93552.53</td>\n",
              "      <td>5180.8</td>\n",
              "      <td>0.0</td>\n",
              "      <td>546.0</td>\n",
              "      <td>4926.0</td>\n",
              "    </tr>\n",
              "    <tr>\n",
              "      <th>2006-12-17</th>\n",
              "      <td>3390.460</td>\n",
              "      <td>226.006</td>\n",
              "      <td>345725.32</td>\n",
              "      <td>14398.6</td>\n",
              "      <td>2033.0</td>\n",
              "      <td>4187.0</td>\n",
              "      <td>13341.0</td>\n",
              "    </tr>\n",
              "    <tr>\n",
              "      <th>2006-12-18</th>\n",
              "      <td>2203.826</td>\n",
              "      <td>161.792</td>\n",
              "      <td>347373.64</td>\n",
              "      <td>9247.2</td>\n",
              "      <td>1063.0</td>\n",
              "      <td>2621.0</td>\n",
              "      <td>14018.0</td>\n",
              "    </tr>\n",
              "    <tr>\n",
              "      <th>2006-12-19</th>\n",
              "      <td>1666.194</td>\n",
              "      <td>150.942</td>\n",
              "      <td>348479.01</td>\n",
              "      <td>7094.0</td>\n",
              "      <td>839.0</td>\n",
              "      <td>7602.0</td>\n",
              "      <td>6197.0</td>\n",
              "    </tr>\n",
              "    <tr>\n",
              "      <th>2006-12-20</th>\n",
              "      <td>2225.748</td>\n",
              "      <td>160.998</td>\n",
              "      <td>348923.61</td>\n",
              "      <td>9313.0</td>\n",
              "      <td>0.0</td>\n",
              "      <td>2648.0</td>\n",
              "      <td>14063.0</td>\n",
              "    </tr>\n",
              "  </tbody>\n",
              "</table>\n",
              "</div>"
            ],
            "text/plain": [
              "            Global_active_power  ...  Sub_metering_3\n",
              "Datetime                         ...                \n",
              "2006-12-16             1209.176  ...          4926.0\n",
              "2006-12-17             3390.460  ...         13341.0\n",
              "2006-12-18             2203.826  ...         14018.0\n",
              "2006-12-19             1666.194  ...          6197.0\n",
              "2006-12-20             2225.748  ...         14063.0\n",
              "\n",
              "[5 rows x 7 columns]"
            ]
          },
          "metadata": {
            "tags": []
          },
          "execution_count": 6
        }
      ]
    },
    {
      "cell_type": "markdown",
      "metadata": {
        "id": "EHtsv8hZ6THk"
      },
      "source": [
        "# Question 11\n",
        "# Visualize a plot of the daily Global_active_power over time"
      ]
    },
    {
      "cell_type": "code",
      "metadata": {
        "id": "ACsDle3gimPS",
        "outputId": "dd943fb0-56d6-455b-918f-51684c878447",
        "colab": {
          "base_uri": "https://localhost:8080/",
          "height": 497
        }
      },
      "source": [
        "fig, ax = plt.subplots(figsize=(10, 8))\n",
        "\n",
        "ax.plot(household_df.index, household_df.Global_active_power)\n",
        "ax.set_xlabel(\"Time\")\n",
        "ax.set_ylabel(\"Global Active Power\")\n",
        "\n",
        "# Define the date format\n",
        "date_form = DateFormatter(\"%b-%Y\")\n",
        "ax.xaxis.set_major_formatter(date_form)\n",
        "plt.show()"
      ],
      "execution_count": 7,
      "outputs": [
        {
          "output_type": "display_data",
          "data": {
            "image/png": "[encoded data removed]",
            "text/plain": [
              "<Figure size 720x576 with 1 Axes>"
            ]
          },
          "metadata": {
            "tags": [],
            "needs_background": "light"
          }
        }
      ]
    },
    {
      "cell_type": "markdown",
      "metadata": {
        "id": "DTg3GbKvmeaa"
      },
      "source": [
        "# Question 12\n",
        "# Get the pearson correlation between the Global_active_power and Global_reactive_power to 2 d.p."
      ]
    },
    {
      "cell_type": "code",
      "metadata": {
        "id": "q-PW_yDE6d1N",
        "outputId": "59ad8f31-5b5b-49a0-bf45-890d75cf2931",
        "colab": {
          "base_uri": "https://localhost:8080/",
          "height": 34
        }
      },
      "source": [
        "household_df[\"Global_active_power\"].corr(household_df[\"Global_reactive_power\"], method=\"pearson\").round(2)"
      ],
      "execution_count": 8,
      "outputs": [
        {
          "output_type": "execute_result",
          "data": {
            "text/plain": [
              "0.04"
            ]
          },
          "metadata": {
            "tags": []
          },
          "execution_count": 8
        }
      ]
    },
    {
      "cell_type": "markdown",
      "metadata": {
        "id": "A1bg7AhWnEMB"
      },
      "source": [
        "**The correlation between global_active_power and global_reactive_power is 0.04**"
      ]
    },
    {
      "cell_type": "markdown",
      "metadata": {
        "id": "JOiGZgdnnMId"
      },
      "source": [
        "# Question 13\n",
        "# Get the pearson correlation between the Voltage and global_intensity to 2 d.p."
      ]
    },
    {
      "cell_type": "code",
      "metadata": {
        "id": "IwTrvnCrnVHN",
        "outputId": "c5833652-0f80-49bf-9ff8-08109caff33a",
        "colab": {
          "base_uri": "https://localhost:8080/",
          "height": 34
        }
      },
      "source": [
        "household_df[\"Voltage\"].corr(household_df[\"Global_intensity\"], method=\"pearson\").round(2)"
      ],
      "execution_count": 9,
      "outputs": [
        {
          "output_type": "execute_result",
          "data": {
            "text/plain": [
              "0.05"
            ]
          },
          "metadata": {
            "tags": []
          },
          "execution_count": 9
        }
      ]
    },
    {
      "cell_type": "markdown",
      "metadata": {
        "id": "x5F8Z8EbniK0"
      },
      "source": [
        "**The correlation between Voltage and global_intensity is 0.05**"
      ]
    },
    {
      "cell_type": "markdown",
      "metadata": {
        "id": "SKsmwHRNnzzG"
      },
      "source": [
        "## Define helper functions for metric evaluations"
      ]
    },
    {
      "cell_type": "code",
      "metadata": {
        "id": "R-IkXwIqn5-d"
      },
      "source": [
        "def rmse(y_true, y_pred):\n",
        "    \"\"\"Evaluate Root-Mean-Squared_Error to 2 d.p.\"\"\"\n",
        "    return np.sqrt(mean_squared_error(y_true, y_pred)).round(2)\n",
        "\n",
        "def mape(y_true, y_pred):\n",
        "    \"\"\"Evaluate Mean Absolute Percentage Error to 2 d.p.\"\"\"\n",
        "    y_true, y_pred = np.array(y_true), np.array(y_pred)\n",
        "    return (np.mean(np.abs((y_true - y_pred)/y_true)) * 100).round(2)\n"
      ],
      "execution_count": 10,
      "outputs": []
    },
    {
      "cell_type": "markdown",
      "metadata": {
        "id": "T1PSxAP4o-Kv"
      },
      "source": [
        "# Univariate Time Series Forecasting with the Global_active_power as the target variable"
      ]
    },
    {
      "cell_type": "code",
      "metadata": {
        "id": "LIBPtLCgpN78",
        "outputId": "16e8a9ea-ff26-40a5-81aa-e530e8b99a4a",
        "colab": {
          "base_uri": "https://localhost:8080/",
          "height": 204
        }
      },
      "source": [
        "univariate_data = household_df[[\"Global_active_power\"]]\n",
        "univariate_data.reset_index(inplace=True)\n",
        "univariate_data.columns = [\"ds\", \"y\"]\n",
        "univariate_data.head()"
      ],
      "execution_count": 11,
      "outputs": [
        {
          "output_type": "execute_result",
          "data": {
            "text/html": [
              "<div>\n",
              "<style scoped>\n",
              "    .dataframe tbody tr th:only-of-type {\n",
              "        vertical-align: middle;\n",
              "    }\n",
              "\n",
              "    .dataframe tbody tr th {\n",
              "        vertical-align: top;\n",
              "    }\n",
              "\n",
              "    .dataframe thead th {\n",
              "        text-align: right;\n",
              "    }\n",
              "</style>\n",
              "<table border=\"1\" class=\"dataframe\">\n",
              "  <thead>\n",
              "    <tr style=\"text-align: right;\">\n",
              "      <th></th>\n",
              "      <th>ds</th>\n",
              "      <th>y</th>\n",
              "    </tr>\n",
              "  </thead>\n",
              "  <tbody>\n",
              "    <tr>\n",
              "      <th>0</th>\n",
              "      <td>2006-12-16</td>\n",
              "      <td>1209.176</td>\n",
              "    </tr>\n",
              "    <tr>\n",
              "      <th>1</th>\n",
              "      <td>2006-12-17</td>\n",
              "      <td>3390.460</td>\n",
              "    </tr>\n",
              "    <tr>\n",
              "      <th>2</th>\n",
              "      <td>2006-12-18</td>\n",
              "      <td>2203.826</td>\n",
              "    </tr>\n",
              "    <tr>\n",
              "      <th>3</th>\n",
              "      <td>2006-12-19</td>\n",
              "      <td>1666.194</td>\n",
              "    </tr>\n",
              "    <tr>\n",
              "      <th>4</th>\n",
              "      <td>2006-12-20</td>\n",
              "      <td>2225.748</td>\n",
              "    </tr>\n",
              "  </tbody>\n",
              "</table>\n",
              "</div>"
            ],
            "text/plain": [
              "          ds         y\n",
              "0 2006-12-16  1209.176\n",
              "1 2006-12-17  3390.460\n",
              "2 2006-12-18  2203.826\n",
              "3 2006-12-19  1666.194\n",
              "4 2006-12-20  2225.748"
            ]
          },
          "metadata": {
            "tags": []
          },
          "execution_count": 11
        }
      ]
    },
    {
      "cell_type": "markdown",
      "metadata": {
        "id": "1vFgAta7ozRB"
      },
      "source": [
        "### Split the data into train and test sets using the last 365 days as the latter"
      ]
    },
    {
      "cell_type": "code",
      "metadata": {
        "id": "8XxmfyeV9Qld",
        "outputId": "7e96e7f9-1e15-401e-d51f-a7b281ce5269",
        "colab": {
          "base_uri": "https://localhost:8080/",
          "height": 34
        }
      },
      "source": [
        "train, test = univariate_data.iloc[:-365, :], univariate_data.iloc[-365:, :]\n",
        "univariate_data.shape, train.shape, test.shape"
      ],
      "execution_count": 12,
      "outputs": [
        {
          "output_type": "execute_result",
          "data": {
            "text/plain": [
              "((1442, 2), (1077, 2), (365, 2))"
            ]
          },
          "metadata": {
            "tags": []
          },
          "execution_count": 12
        }
      ]
    },
    {
      "cell_type": "markdown",
      "metadata": {
        "id": "vaKGVMq7pvJ1"
      },
      "source": [
        "### Train a time series model using Prophet"
      ]
    },
    {
      "cell_type": "code",
      "metadata": {
        "id": "rm8xjwSB8hp3",
        "outputId": "661ce033-51cb-42ca-af4f-37407d08e071",
        "colab": {
          "base_uri": "https://localhost:8080/",
          "height": 68
        }
      },
      "source": [
        "univariate_model = Prophet() # create a Prophet model for univariate analysis\n",
        "\n",
        "univariate_model.fit(train) # train the model"
      ],
      "execution_count": 13,
      "outputs": [
        {
          "output_type": "stream",
          "text": [
            "INFO:numexpr.utils:NumExpr defaulting to 2 threads.\n",
            "INFO:fbprophet:Disabling daily seasonality. Run prophet with daily_seasonality=True to override this.\n"
          ],
          "name": "stderr"
        },
        {
          "output_type": "execute_result",
          "data": {
            "text/plain": [
              "<fbprophet.forecaster.Prophet at 0x7f9a9af266d8>"
            ]
          },
          "metadata": {
            "tags": []
          },
          "execution_count": 13
        }
      ]
    },
    {
      "cell_type": "markdown",
      "metadata": {
        "id": "l413clbC8MFI"
      },
      "source": [
        "### Make forecast with the model"
      ]
    },
    {
      "cell_type": "code",
      "metadata": {
        "id": "GQBCw4WJqQ5z",
        "outputId": "5202738f-8a06-432d-d85a-a9b85db97a25",
        "colab": {
          "base_uri": "https://localhost:8080/",
          "height": 309
        }
      },
      "source": [
        "univariate_forecast = univariate_model.predict(test) # forecast future times with the model\n",
        "univariate_forecast.head()"
      ],
      "execution_count": 14,
      "outputs": [
        {
          "output_type": "execute_result",
          "data": {
            "text/html": [
              "<div>\n",
              "<style scoped>\n",
              "    .dataframe tbody tr th:only-of-type {\n",
              "        vertical-align: middle;\n",
              "    }\n",
              "\n",
              "    .dataframe tbody tr th {\n",
              "        vertical-align: top;\n",
              "    }\n",
              "\n",
              "    .dataframe thead th {\n",
              "        text-align: right;\n",
              "    }\n",
              "</style>\n",
              "<table border=\"1\" class=\"dataframe\">\n",
              "  <thead>\n",
              "    <tr style=\"text-align: right;\">\n",
              "      <th></th>\n",
              "      <th>ds</th>\n",
              "      <th>trend</th>\n",
              "      <th>yhat_lower</th>\n",
              "      <th>yhat_upper</th>\n",
              "      <th>trend_lower</th>\n",
              "      <th>trend_upper</th>\n",
              "      <th>additive_terms</th>\n",
              "      <th>additive_terms_lower</th>\n",
              "      <th>additive_terms_upper</th>\n",
              "      <th>weekly</th>\n",
              "      <th>weekly_lower</th>\n",
              "      <th>weekly_upper</th>\n",
              "      <th>yearly</th>\n",
              "      <th>yearly_lower</th>\n",
              "      <th>yearly_upper</th>\n",
              "      <th>multiplicative_terms</th>\n",
              "      <th>multiplicative_terms_lower</th>\n",
              "      <th>multiplicative_terms_upper</th>\n",
              "      <th>yhat</th>\n",
              "    </tr>\n",
              "  </thead>\n",
              "  <tbody>\n",
              "    <tr>\n",
              "      <th>0</th>\n",
              "      <td>2009-11-27</td>\n",
              "      <td>1582.602983</td>\n",
              "      <td>1528.030409</td>\n",
              "      <td>2634.031521</td>\n",
              "      <td>1582.602983</td>\n",
              "      <td>1582.602983</td>\n",
              "      <td>518.878164</td>\n",
              "      <td>518.878164</td>\n",
              "      <td>518.878164</td>\n",
              "      <td>-64.106330</td>\n",
              "      <td>-64.106330</td>\n",
              "      <td>-64.106330</td>\n",
              "      <td>582.984494</td>\n",
              "      <td>582.984494</td>\n",
              "      <td>582.984494</td>\n",
              "      <td>0.0</td>\n",
              "      <td>0.0</td>\n",
              "      <td>0.0</td>\n",
              "      <td>2101.481147</td>\n",
              "    </tr>\n",
              "    <tr>\n",
              "      <th>1</th>\n",
              "      <td>2009-11-28</td>\n",
              "      <td>1582.737295</td>\n",
              "      <td>1838.171998</td>\n",
              "      <td>2892.502696</td>\n",
              "      <td>1582.737295</td>\n",
              "      <td>1582.737295</td>\n",
              "      <td>822.085199</td>\n",
              "      <td>822.085199</td>\n",
              "      <td>822.085199</td>\n",
              "      <td>245.779609</td>\n",
              "      <td>245.779609</td>\n",
              "      <td>245.779609</td>\n",
              "      <td>576.305590</td>\n",
              "      <td>576.305590</td>\n",
              "      <td>576.305590</td>\n",
              "      <td>0.0</td>\n",
              "      <td>0.0</td>\n",
              "      <td>0.0</td>\n",
              "      <td>2404.822494</td>\n",
              "    </tr>\n",
              "    <tr>\n",
              "      <th>2</th>\n",
              "      <td>2009-11-29</td>\n",
              "      <td>1582.871607</td>\n",
              "      <td>1807.017593</td>\n",
              "      <td>2966.479974</td>\n",
              "      <td>1582.871607</td>\n",
              "      <td>1582.871607</td>\n",
              "      <td>796.132932</td>\n",
              "      <td>796.132932</td>\n",
              "      <td>796.132932</td>\n",
              "      <td>228.485697</td>\n",
              "      <td>228.485697</td>\n",
              "      <td>228.485697</td>\n",
              "      <td>567.647235</td>\n",
              "      <td>567.647235</td>\n",
              "      <td>567.647235</td>\n",
              "      <td>0.0</td>\n",
              "      <td>0.0</td>\n",
              "      <td>0.0</td>\n",
              "      <td>2379.004539</td>\n",
              "    </tr>\n",
              "    <tr>\n",
              "      <th>3</th>\n",
              "      <td>2009-11-30</td>\n",
              "      <td>1583.005919</td>\n",
              "      <td>1460.006019</td>\n",
              "      <td>2529.769629</td>\n",
              "      <td>1583.005919</td>\n",
              "      <td>1583.005919</td>\n",
              "      <td>396.256682</td>\n",
              "      <td>396.256682</td>\n",
              "      <td>396.256682</td>\n",
              "      <td>-161.258234</td>\n",
              "      <td>-161.258234</td>\n",
              "      <td>-161.258234</td>\n",
              "      <td>557.514916</td>\n",
              "      <td>557.514916</td>\n",
              "      <td>557.514916</td>\n",
              "      <td>0.0</td>\n",
              "      <td>0.0</td>\n",
              "      <td>0.0</td>\n",
              "      <td>1979.262602</td>\n",
              "    </tr>\n",
              "    <tr>\n",
              "      <th>4</th>\n",
              "      <td>2009-12-01</td>\n",
              "      <td>1583.140231</td>\n",
              "      <td>1524.599811</td>\n",
              "      <td>2641.359553</td>\n",
              "      <td>1583.140231</td>\n",
              "      <td>1583.140231</td>\n",
              "      <td>517.104170</td>\n",
              "      <td>517.104170</td>\n",
              "      <td>517.104170</td>\n",
              "      <td>-29.330130</td>\n",
              "      <td>-29.330130</td>\n",
              "      <td>-29.330130</td>\n",
              "      <td>546.434300</td>\n",
              "      <td>546.434300</td>\n",
              "      <td>546.434300</td>\n",
              "      <td>0.0</td>\n",
              "      <td>0.0</td>\n",
              "      <td>0.0</td>\n",
              "      <td>2100.244401</td>\n",
              "    </tr>\n",
              "  </tbody>\n",
              "</table>\n",
              "</div>"
            ],
            "text/plain": [
              "          ds        trend  ...  multiplicative_terms_upper         yhat\n",
              "0 2009-11-27  1582.602983  ...                         0.0  2101.481147\n",
              "1 2009-11-28  1582.737295  ...                         0.0  2404.822494\n",
              "2 2009-11-29  1582.871607  ...                         0.0  2379.004539\n",
              "3 2009-11-30  1583.005919  ...                         0.0  1979.262602\n",
              "4 2009-12-01  1583.140231  ...                         0.0  2100.244401\n",
              "\n",
              "[5 rows x 19 columns]"
            ]
          },
          "metadata": {
            "tags": []
          },
          "execution_count": 14
        }
      ]
    },
    {
      "cell_type": "markdown",
      "metadata": {
        "id": "BOlryrGorSeD"
      },
      "source": [
        "## Question 14\n",
        "## Calculate the Mean Absolute Percentage Error (MAPE) of the model (2 d.p.)"
      ]
    },
    {
      "cell_type": "code",
      "metadata": {
        "id": "Jyatc-WQrRRH",
        "outputId": "3691af91-90d1-441a-ee5a-9b5f9851004e",
        "colab": {
          "base_uri": "https://localhost:8080/",
          "height": 34
        }
      },
      "source": [
        "mape(test['y'], univariate_forecast['yhat'])"
      ],
      "execution_count": 15,
      "outputs": [
        {
          "output_type": "execute_result",
          "data": {
            "text/plain": [
              "20.88"
            ]
          },
          "metadata": {
            "tags": []
          },
          "execution_count": 15
        }
      ]
    },
    {
      "cell_type": "markdown",
      "metadata": {
        "id": "hRKmq31S8_s8"
      },
      "source": [
        "**The MAPE of the univariate model is 20.88**"
      ]
    },
    {
      "cell_type": "markdown",
      "metadata": {
        "id": "YvfzphGItHua"
      },
      "source": [
        "## Question 15\n",
        "## Calculate the Root Mean Squared Error (RMSE) of the model (2 d.p.)"
      ]
    },
    {
      "cell_type": "code",
      "metadata": {
        "id": "aOD5TF_RtRQs",
        "outputId": "106bbaff-e0dc-4263-b12b-5bc551090813",
        "colab": {
          "base_uri": "https://localhost:8080/",
          "height": 34
        }
      },
      "source": [
        "rmse(test['y'], univariate_forecast['yhat'][-365:])"
      ],
      "execution_count": 16,
      "outputs": [
        {
          "output_type": "execute_result",
          "data": {
            "text/plain": [
              "374.95"
            ]
          },
          "metadata": {
            "tags": []
          },
          "execution_count": 16
        }
      ]
    },
    {
      "cell_type": "markdown",
      "metadata": {
        "id": "eZpC0DXztc8E"
      },
      "source": [
        "**The RMSE of the model is 374.95**"
      ]
    },
    {
      "cell_type": "markdown",
      "metadata": {
        "id": "1gJujEEQtkC2"
      },
      "source": [
        "## Question 16\n",
        "## Plot the components of the forecasted model and determine what month of the yearly seasonality has the lowest value"
      ]
    },
    {
      "cell_type": "code",
      "metadata": {
        "id": "UVPCyJP2tsmF",
        "outputId": "38d22ba2-6cfa-4035-fee5-3c4777a3e829",
        "colab": {
          "base_uri": "https://localhost:8080/",
          "height": 388
        }
      },
      "source": [
        "plot_yearly(univariate_model)\n",
        "plt.show()"
      ],
      "execution_count": 17,
      "outputs": [
        {
          "output_type": "display_data",
          "data": {
            "image/png": "[encoded data removed]",
            "text/plain": [
              "<Figure size 720x432 with 1 Axes>"
            ]
          },
          "metadata": {
            "tags": []
          }
        }
      ]
    },
    {
      "cell_type": "markdown",
      "metadata": {
        "id": "cDeLAsnOt-up"
      },
      "source": [
        "**From the plot above, it is seen that the month of AUGUST has the lowest value of yearly seaonality**"
      ]
    },
    {
      "cell_type": "markdown",
      "metadata": {
        "id": "GJpxmo-IwETx"
      },
      "source": [
        "# Mutlivariate Time Series Forecasting"
      ]
    },
    {
      "cell_type": "code",
      "metadata": {
        "id": "MpGJWt9twEDY",
        "outputId": "81c1d321-2b39-40dc-948f-12ac73505579",
        "colab": {
          "base_uri": "https://localhost:8080/",
          "height": 204
        }
      },
      "source": [
        "multivariate_data = household_df.reset_index()\n",
        "multivariate_data.rename(columns={\"Datetime\": \"ds\", \"Global_active_power\": \"y\"}, inplace=True)\n",
        "multivariate_data.head()"
      ],
      "execution_count": 18,
      "outputs": [
        {
          "output_type": "execute_result",
          "data": {
            "text/html": [
              "<div>\n",
              "<style scoped>\n",
              "    .dataframe tbody tr th:only-of-type {\n",
              "        vertical-align: middle;\n",
              "    }\n",
              "\n",
              "    .dataframe tbody tr th {\n",
              "        vertical-align: top;\n",
              "    }\n",
              "\n",
              "    .dataframe thead th {\n",
              "        text-align: right;\n",
              "    }\n",
              "</style>\n",
              "<table border=\"1\" class=\"dataframe\">\n",
              "  <thead>\n",
              "    <tr style=\"text-align: right;\">\n",
              "      <th></th>\n",
              "      <th>ds</th>\n",
              "      <th>y</th>\n",
              "      <th>Global_reactive_power</th>\n",
              "      <th>Voltage</th>\n",
              "      <th>Global_intensity</th>\n",
              "      <th>Sub_metering_1</th>\n",
              "      <th>Sub_metering_2</th>\n",
              "      <th>Sub_metering_3</th>\n",
              "    </tr>\n",
              "  </thead>\n",
              "  <tbody>\n",
              "    <tr>\n",
              "      <th>0</th>\n",
              "      <td>2006-12-16</td>\n",
              "      <td>1209.176</td>\n",
              "      <td>34.922</td>\n",
              "      <td>93552.53</td>\n",
              "      <td>5180.8</td>\n",
              "      <td>0.0</td>\n",
              "      <td>546.0</td>\n",
              "      <td>4926.0</td>\n",
              "    </tr>\n",
              "    <tr>\n",
              "      <th>1</th>\n",
              "      <td>2006-12-17</td>\n",
              "      <td>3390.460</td>\n",
              "      <td>226.006</td>\n",
              "      <td>345725.32</td>\n",
              "      <td>14398.6</td>\n",
              "      <td>2033.0</td>\n",
              "      <td>4187.0</td>\n",
              "      <td>13341.0</td>\n",
              "    </tr>\n",
              "    <tr>\n",
              "      <th>2</th>\n",
              "      <td>2006-12-18</td>\n",
              "      <td>2203.826</td>\n",
              "      <td>161.792</td>\n",
              "      <td>347373.64</td>\n",
              "      <td>9247.2</td>\n",
              "      <td>1063.0</td>\n",
              "      <td>2621.0</td>\n",
              "      <td>14018.0</td>\n",
              "    </tr>\n",
              "    <tr>\n",
              "      <th>3</th>\n",
              "      <td>2006-12-19</td>\n",
              "      <td>1666.194</td>\n",
              "      <td>150.942</td>\n",
              "      <td>348479.01</td>\n",
              "      <td>7094.0</td>\n",
              "      <td>839.0</td>\n",
              "      <td>7602.0</td>\n",
              "      <td>6197.0</td>\n",
              "    </tr>\n",
              "    <tr>\n",
              "      <th>4</th>\n",
              "      <td>2006-12-20</td>\n",
              "      <td>2225.748</td>\n",
              "      <td>160.998</td>\n",
              "      <td>348923.61</td>\n",
              "      <td>9313.0</td>\n",
              "      <td>0.0</td>\n",
              "      <td>2648.0</td>\n",
              "      <td>14063.0</td>\n",
              "    </tr>\n",
              "  </tbody>\n",
              "</table>\n",
              "</div>"
            ],
            "text/plain": [
              "          ds         y  ...  Sub_metering_2  Sub_metering_3\n",
              "0 2006-12-16  1209.176  ...           546.0          4926.0\n",
              "1 2006-12-17  3390.460  ...          4187.0         13341.0\n",
              "2 2006-12-18  2203.826  ...          2621.0         14018.0\n",
              "3 2006-12-19  1666.194  ...          7602.0          6197.0\n",
              "4 2006-12-20  2225.748  ...          2648.0         14063.0\n",
              "\n",
              "[5 rows x 8 columns]"
            ]
          },
          "metadata": {
            "tags": []
          },
          "execution_count": 18
        }
      ]
    },
    {
      "cell_type": "markdown",
      "metadata": {
        "id": "PkROAe7LwzPr"
      },
      "source": [
        "### Split the data into train and test sets using data from the last 365 days as the test set"
      ]
    },
    {
      "cell_type": "code",
      "metadata": {
        "id": "780fzAIkxXPV",
        "outputId": "f4d6ea8c-59e6-46e6-cb8f-91252eecb1df",
        "colab": {
          "base_uri": "https://localhost:8080/",
          "height": 34
        }
      },
      "source": [
        "train, test = multivariate_data.iloc[:-365, :], multivariate_data.iloc[-365:, :]\n",
        "multivariate_data.shape, train.shape, test.shape"
      ],
      "execution_count": 19,
      "outputs": [
        {
          "output_type": "execute_result",
          "data": {
            "text/plain": [
              "((1442, 8), (1077, 8), (365, 8))"
            ]
          },
          "metadata": {
            "tags": []
          },
          "execution_count": 19
        }
      ]
    },
    {
      "cell_type": "markdown",
      "metadata": {
        "id": "5MQ3ooF2xuhH"
      },
      "source": [
        "### Train a multivariate forecasting model"
      ]
    },
    {
      "cell_type": "code",
      "metadata": {
        "id": "xHXVTQT8P_Vi",
        "outputId": "9d20c911-912d-49b0-d7b1-741a994223fd",
        "colab": {
          "base_uri": "https://localhost:8080/",
          "height": 34
        }
      },
      "source": [
        "multivariate_model = Prophet(daily_seasonality=True) # create a time series model\n",
        "\n",
        "# Add the other columns as independent variables (regressors) to the model\n",
        "for regressor in multivariate_data.columns[2:]:\n",
        "    multivariate_model.add_regressor(regressor)\n",
        "\n",
        "multivariate_model.fit(train) # train the model"
      ],
      "execution_count": 20,
      "outputs": [
        {
          "output_type": "execute_result",
          "data": {
            "text/plain": [
              "<fbprophet.forecaster.Prophet at 0x7f9a996bb9b0>"
            ]
          },
          "metadata": {
            "tags": []
          },
          "execution_count": 20
        }
      ]
    },
    {
      "cell_type": "markdown",
      "metadata": {
        "id": "gqMXjxy8-HrI"
      },
      "source": [
        "### Make forecast with the model"
      ]
    },
    {
      "cell_type": "code",
      "metadata": {
        "id": "NrSRmwlvy3Xp",
        "outputId": "ca770e21-e205-4e3d-f2bc-97fe5522698f",
        "colab": {
          "base_uri": "https://localhost:8080/",
          "height": 309
        }
      },
      "source": [
        "multivariate_forecast = multivariate_model.predict(test) # make forecasts with the model\n",
        "multivariate_forecast.head()"
      ],
      "execution_count": 21,
      "outputs": [
        {
          "output_type": "execute_result",
          "data": {
            "text/html": [
              "<div>\n",
              "<style scoped>\n",
              "    .dataframe tbody tr th:only-of-type {\n",
              "        vertical-align: middle;\n",
              "    }\n",
              "\n",
              "    .dataframe tbody tr th {\n",
              "        vertical-align: top;\n",
              "    }\n",
              "\n",
              "    .dataframe thead th {\n",
              "        text-align: right;\n",
              "    }\n",
              "</style>\n",
              "<table border=\"1\" class=\"dataframe\">\n",
              "  <thead>\n",
              "    <tr style=\"text-align: right;\">\n",
              "      <th></th>\n",
              "      <th>ds</th>\n",
              "      <th>trend</th>\n",
              "      <th>yhat_lower</th>\n",
              "      <th>yhat_upper</th>\n",
              "      <th>trend_lower</th>\n",
              "      <th>trend_upper</th>\n",
              "      <th>Global_intensity</th>\n",
              "      <th>Global_intensity_lower</th>\n",
              "      <th>Global_intensity_upper</th>\n",
              "      <th>Global_reactive_power</th>\n",
              "      <th>Global_reactive_power_lower</th>\n",
              "      <th>Global_reactive_power_upper</th>\n",
              "      <th>Sub_metering_1</th>\n",
              "      <th>Sub_metering_1_lower</th>\n",
              "      <th>Sub_metering_1_upper</th>\n",
              "      <th>Sub_metering_2</th>\n",
              "      <th>Sub_metering_2_lower</th>\n",
              "      <th>Sub_metering_2_upper</th>\n",
              "      <th>Sub_metering_3</th>\n",
              "      <th>Sub_metering_3_lower</th>\n",
              "      <th>Sub_metering_3_upper</th>\n",
              "      <th>Voltage</th>\n",
              "      <th>Voltage_lower</th>\n",
              "      <th>Voltage_upper</th>\n",
              "      <th>additive_terms</th>\n",
              "      <th>additive_terms_lower</th>\n",
              "      <th>additive_terms_upper</th>\n",
              "      <th>daily</th>\n",
              "      <th>daily_lower</th>\n",
              "      <th>daily_upper</th>\n",
              "      <th>extra_regressors_additive</th>\n",
              "      <th>extra_regressors_additive_lower</th>\n",
              "      <th>extra_regressors_additive_upper</th>\n",
              "      <th>weekly</th>\n",
              "      <th>weekly_lower</th>\n",
              "      <th>weekly_upper</th>\n",
              "      <th>yearly</th>\n",
              "      <th>yearly_lower</th>\n",
              "      <th>yearly_upper</th>\n",
              "      <th>multiplicative_terms</th>\n",
              "      <th>multiplicative_terms_lower</th>\n",
              "      <th>multiplicative_terms_upper</th>\n",
              "      <th>yhat</th>\n",
              "    </tr>\n",
              "  </thead>\n",
              "  <tbody>\n",
              "    <tr>\n",
              "      <th>0</th>\n",
              "      <td>2009-11-27</td>\n",
              "      <td>1310.007394</td>\n",
              "      <td>1365.882505</td>\n",
              "      <td>1397.713852</td>\n",
              "      <td>1310.007394</td>\n",
              "      <td>1310.007394</td>\n",
              "      <td>-232.331927</td>\n",
              "      <td>-232.331927</td>\n",
              "      <td>-232.331927</td>\n",
              "      <td>7.550897</td>\n",
              "      <td>7.550897</td>\n",
              "      <td>7.550897</td>\n",
              "      <td>2.206428</td>\n",
              "      <td>2.206428</td>\n",
              "      <td>2.206428</td>\n",
              "      <td>0.826488</td>\n",
              "      <td>0.826488</td>\n",
              "      <td>0.826488</td>\n",
              "      <td>3.862958</td>\n",
              "      <td>3.862958</td>\n",
              "      <td>3.862958</td>\n",
              "      <td>0.611613</td>\n",
              "      <td>0.611613</td>\n",
              "      <td>0.611613</td>\n",
              "      <td>71.010214</td>\n",
              "      <td>71.010214</td>\n",
              "      <td>71.010214</td>\n",
              "      <td>285.878204</td>\n",
              "      <td>285.878204</td>\n",
              "      <td>285.878204</td>\n",
              "      <td>-217.273544</td>\n",
              "      <td>-217.273544</td>\n",
              "      <td>-217.273544</td>\n",
              "      <td>-0.117448</td>\n",
              "      <td>-0.117448</td>\n",
              "      <td>-0.117448</td>\n",
              "      <td>2.523002</td>\n",
              "      <td>2.523002</td>\n",
              "      <td>2.523002</td>\n",
              "      <td>0.0</td>\n",
              "      <td>0.0</td>\n",
              "      <td>0.0</td>\n",
              "      <td>1381.017608</td>\n",
              "    </tr>\n",
              "    <tr>\n",
              "      <th>1</th>\n",
              "      <td>2009-11-28</td>\n",
              "      <td>1310.132803</td>\n",
              "      <td>1846.644782</td>\n",
              "      <td>1878.107618</td>\n",
              "      <td>1310.132803</td>\n",
              "      <td>1310.132803</td>\n",
              "      <td>263.410291</td>\n",
              "      <td>263.410291</td>\n",
              "      <td>263.410291</td>\n",
              "      <td>-8.897769</td>\n",
              "      <td>-8.897769</td>\n",
              "      <td>-8.897769</td>\n",
              "      <td>-2.031750</td>\n",
              "      <td>-2.031750</td>\n",
              "      <td>-2.031750</td>\n",
              "      <td>0.831774</td>\n",
              "      <td>0.831774</td>\n",
              "      <td>0.831774</td>\n",
              "      <td>7.747797</td>\n",
              "      <td>7.747797</td>\n",
              "      <td>7.747797</td>\n",
              "      <td>0.503214</td>\n",
              "      <td>0.503214</td>\n",
              "      <td>0.503214</td>\n",
              "      <td>551.699802</td>\n",
              "      <td>551.699802</td>\n",
              "      <td>551.699802</td>\n",
              "      <td>285.878204</td>\n",
              "      <td>285.878204</td>\n",
              "      <td>285.878204</td>\n",
              "      <td>261.563557</td>\n",
              "      <td>261.563557</td>\n",
              "      <td>261.563557</td>\n",
              "      <td>1.411473</td>\n",
              "      <td>1.411473</td>\n",
              "      <td>1.411473</td>\n",
              "      <td>2.846568</td>\n",
              "      <td>2.846568</td>\n",
              "      <td>2.846568</td>\n",
              "      <td>0.0</td>\n",
              "      <td>0.0</td>\n",
              "      <td>0.0</td>\n",
              "      <td>1861.832605</td>\n",
              "    </tr>\n",
              "    <tr>\n",
              "      <th>2</th>\n",
              "      <td>2009-11-29</td>\n",
              "      <td>1310.258212</td>\n",
              "      <td>1626.936246</td>\n",
              "      <td>1660.010660</td>\n",
              "      <td>1310.258212</td>\n",
              "      <td>1310.258212</td>\n",
              "      <td>47.464142</td>\n",
              "      <td>47.464142</td>\n",
              "      <td>47.464142</td>\n",
              "      <td>-2.800951</td>\n",
              "      <td>-2.800951</td>\n",
              "      <td>-2.800951</td>\n",
              "      <td>0.784870</td>\n",
              "      <td>0.784870</td>\n",
              "      <td>0.784870</td>\n",
              "      <td>-0.582363</td>\n",
              "      <td>-0.582363</td>\n",
              "      <td>-0.582363</td>\n",
              "      <td>-1.462280</td>\n",
              "      <td>-1.462280</td>\n",
              "      <td>-1.462280</td>\n",
              "      <td>1.210648</td>\n",
              "      <td>1.210648</td>\n",
              "      <td>1.210648</td>\n",
              "      <td>333.869683</td>\n",
              "      <td>333.869683</td>\n",
              "      <td>333.869683</td>\n",
              "      <td>285.878204</td>\n",
              "      <td>285.878204</td>\n",
              "      <td>285.878204</td>\n",
              "      <td>44.614067</td>\n",
              "      <td>44.614067</td>\n",
              "      <td>44.614067</td>\n",
              "      <td>0.172041</td>\n",
              "      <td>0.172041</td>\n",
              "      <td>0.172041</td>\n",
              "      <td>3.205371</td>\n",
              "      <td>3.205371</td>\n",
              "      <td>3.205371</td>\n",
              "      <td>0.0</td>\n",
              "      <td>0.0</td>\n",
              "      <td>0.0</td>\n",
              "      <td>1644.127895</td>\n",
              "    </tr>\n",
              "    <tr>\n",
              "      <th>3</th>\n",
              "      <td>2009-11-30</td>\n",
              "      <td>1310.383621</td>\n",
              "      <td>1725.604228</td>\n",
              "      <td>1759.145884</td>\n",
              "      <td>1310.383621</td>\n",
              "      <td>1310.383621</td>\n",
              "      <td>131.755567</td>\n",
              "      <td>131.755567</td>\n",
              "      <td>131.755567</td>\n",
              "      <td>3.922646</td>\n",
              "      <td>3.922646</td>\n",
              "      <td>3.922646</td>\n",
              "      <td>0.775596</td>\n",
              "      <td>0.775596</td>\n",
              "      <td>0.775596</td>\n",
              "      <td>0.844990</td>\n",
              "      <td>0.844990</td>\n",
              "      <td>0.844990</td>\n",
              "      <td>4.484306</td>\n",
              "      <td>4.484306</td>\n",
              "      <td>4.484306</td>\n",
              "      <td>1.398875</td>\n",
              "      <td>1.398875</td>\n",
              "      <td>1.398875</td>\n",
              "      <td>432.323517</td>\n",
              "      <td>432.323517</td>\n",
              "      <td>432.323517</td>\n",
              "      <td>285.878204</td>\n",
              "      <td>285.878204</td>\n",
              "      <td>285.878204</td>\n",
              "      <td>143.181981</td>\n",
              "      <td>143.181981</td>\n",
              "      <td>143.181981</td>\n",
              "      <td>-0.340705</td>\n",
              "      <td>-0.340705</td>\n",
              "      <td>-0.340705</td>\n",
              "      <td>3.604037</td>\n",
              "      <td>3.604037</td>\n",
              "      <td>3.604037</td>\n",
              "      <td>0.0</td>\n",
              "      <td>0.0</td>\n",
              "      <td>0.0</td>\n",
              "      <td>1742.707137</td>\n",
              "    </tr>\n",
              "    <tr>\n",
              "      <th>4</th>\n",
              "      <td>2009-12-01</td>\n",
              "      <td>1310.509029</td>\n",
              "      <td>1747.247952</td>\n",
              "      <td>1778.767652</td>\n",
              "      <td>1310.509029</td>\n",
              "      <td>1310.509029</td>\n",
              "      <td>150.958193</td>\n",
              "      <td>150.958193</td>\n",
              "      <td>150.958193</td>\n",
              "      <td>5.976453</td>\n",
              "      <td>5.976453</td>\n",
              "      <td>5.976453</td>\n",
              "      <td>2.206428</td>\n",
              "      <td>2.206428</td>\n",
              "      <td>2.206428</td>\n",
              "      <td>0.848691</td>\n",
              "      <td>0.848691</td>\n",
              "      <td>0.848691</td>\n",
              "      <td>2.764301</td>\n",
              "      <td>2.764301</td>\n",
              "      <td>2.764301</td>\n",
              "      <td>0.931533</td>\n",
              "      <td>0.931533</td>\n",
              "      <td>0.931533</td>\n",
              "      <td>451.938879</td>\n",
              "      <td>451.938879</td>\n",
              "      <td>451.938879</td>\n",
              "      <td>285.878204</td>\n",
              "      <td>285.878204</td>\n",
              "      <td>285.878204</td>\n",
              "      <td>163.685599</td>\n",
              "      <td>163.685599</td>\n",
              "      <td>163.685599</td>\n",
              "      <td>-1.671302</td>\n",
              "      <td>-1.671302</td>\n",
              "      <td>-1.671302</td>\n",
              "      <td>4.046378</td>\n",
              "      <td>4.046378</td>\n",
              "      <td>4.046378</td>\n",
              "      <td>0.0</td>\n",
              "      <td>0.0</td>\n",
              "      <td>0.0</td>\n",
              "      <td>1762.447909</td>\n",
              "    </tr>\n",
              "  </tbody>\n",
              "</table>\n",
              "</div>"
            ],
            "text/plain": [
              "          ds        trend  ...  multiplicative_terms_upper         yhat\n",
              "0 2009-11-27  1310.007394  ...                         0.0  1381.017608\n",
              "1 2009-11-28  1310.132803  ...                         0.0  1861.832605\n",
              "2 2009-11-29  1310.258212  ...                         0.0  1644.127895\n",
              "3 2009-11-30  1310.383621  ...                         0.0  1742.707137\n",
              "4 2009-12-01  1310.509029  ...                         0.0  1762.447909\n",
              "\n",
              "[5 rows x 43 columns]"
            ]
          },
          "metadata": {
            "tags": []
          },
          "execution_count": 21
        }
      ]
    },
    {
      "cell_type": "markdown",
      "metadata": {
        "id": "HVcg6QpczKsm"
      },
      "source": [
        "## Question 17\n",
        "## Calculate the MAPE of the multivariate time series model (2 d.p.)"
      ]
    },
    {
      "cell_type": "code",
      "metadata": {
        "id": "P9tBUyvyzQuc",
        "outputId": "83fc6fbc-c8dd-44a7-aaf1-9a6a130f0c4c",
        "colab": {
          "base_uri": "https://localhost:8080/",
          "height": 34
        }
      },
      "source": [
        "mape(test[\"y\"], multivariate_forecast[\"yhat\"])"
      ],
      "execution_count": 22,
      "outputs": [
        {
          "output_type": "execute_result",
          "data": {
            "text/plain": [
              "2.73"
            ]
          },
          "metadata": {
            "tags": []
          },
          "execution_count": 22
        }
      ]
    },
    {
      "cell_type": "markdown",
      "metadata": {
        "id": "pRyU8S8tkeb7"
      },
      "source": [
        "**The MAPE of the multivariate model is 2.73**"
      ]
    },
    {
      "cell_type": "markdown",
      "metadata": {
        "id": "HFuAR_Rx0cRD"
      },
      "source": [
        "## Question 18\n",
        "## Calculate the RMSE of the multivariate time series model (2 d.p)"
      ]
    },
    {
      "cell_type": "code",
      "metadata": {
        "id": "QZGXVEFUR4QM",
        "outputId": "34c2c92f-1dfb-43cf-ca8d-9f4d5064661b",
        "colab": {
          "base_uri": "https://localhost:8080/",
          "height": 34
        }
      },
      "source": [
        "rmse(test[\"y\"], multivariate_forecast[\"yhat\"])"
      ],
      "execution_count": 23,
      "outputs": [
        {
          "output_type": "execute_result",
          "data": {
            "text/plain": [
              "40.48"
            ]
          },
          "metadata": {
            "tags": []
          },
          "execution_count": 23
        }
      ]
    },
    {
      "cell_type": "markdown",
      "metadata": {
        "id": "yPJ-7TDT1Rcr"
      },
      "source": [
        "**The multivariate model gave an RMSE of 40.48**"
      ]
    },
    {
      "cell_type": "markdown",
      "metadata": {
        "id": "IemLbSya1fOI"
      },
      "source": [
        "## Question 19\n",
        "## Plot the components of the multivariate forecasted model and determine the day of weekly seasonality with the lowest value"
      ]
    },
    {
      "cell_type": "code",
      "metadata": {
        "id": "3bSvsHfBSk2Y",
        "outputId": "9e4b02a0-b73a-402c-986d-a72c16b3f6e2",
        "colab": {
          "base_uri": "https://localhost:8080/",
          "height": 388
        }
      },
      "source": [
        "plot_weekly(multivariate_model)\n",
        "plt.show()"
      ],
      "execution_count": 24,
      "outputs": [
        {
          "output_type": "display_data",
          "data": {
            "image/png": "[encoded data removed]",
            "text/plain": [
              "<Figure size 720x432 with 1 Axes>"
            ]
          },
          "metadata": {
            "tags": []
          }
        }
      ]
    },
    {
      "cell_type": "markdown",
      "metadata": {
        "id": "yKDS_BEW2EB7"
      },
      "source": [
        "**From the plot above, it is seen that TUESDAY has the lowest value of seasonality.**"
      ]
    },
    {
      "cell_type": "markdown",
      "metadata": {
        "id": "I51e32dgtAYF"
      },
      "source": [
        "# N.B.: It is noteworthy that all of the answers did not tally exactly with the available options in the quiz"
      ]
    },
    {
      "cell_type": "markdown",
      "metadata": {
        "id": "SclfTOq23f9v"
      },
      "source": [
        "# Notebook by: OLALEKE, MOSHOOD A."
      ]
    },
    {
      "cell_type": "code",
      "metadata": {
        "id": "wlbEYK7F1zT6"
      },
      "source": [
        ""
      ],
      "execution_count": 24,
      "outputs": []
    }
  ]
}
{
 "cells": [
  {
   "cell_type": "markdown",
   "metadata": {},
   "source": [
    "# HAMOYE INTERNSHIP\n",
    "# STABE B CODE SOLUTIONS"
   ]
  },
  {
   "cell_type": "markdown",
   "metadata": {},
   "source": [
    "## Import Necessary Dependencies"
   ]
  },
  {
   "cell_type": "code",
   "execution_count": 71,
   "metadata": {},
   "outputs": [],
   "source": [
    "import pandas as pd # data manipulations\n",
    "\n",
    "import numpy as np # scientific computing \n",
    "\n",
    "from sklearn.linear_model import LinearRegression, Lasso, Ridge # regression models\n",
    "\n",
    "from sklearn.model_selection import train_test_split # for splitting datasets into training and test sets\n",
    "\n",
    "from sklearn.metrics import r2_score, mean_absolute_error, mean_squared_error # model evalution\n",
    "\n",
    "from sklearn.preprocessing import MinMaxScaler # scaling"
   ]
  },
  {
   "cell_type": "markdown",
   "metadata": {},
   "source": [
    "## Read the energy data into a dataframe"
   ]
  },
  {
   "cell_type": "code",
   "execution_count": 72,
   "metadata": {},
   "outputs": [
    {
     "data": {
      "text/html": [
       "<div>\n",
       "<style scoped>\n",
       "    .dataframe tbody tr th:only-of-type {\n",
       "        vertical-align: middle;\n",
       "    }\n",
       "\n",
       "    .dataframe tbody tr th {\n",
       "        vertical-align: top;\n",
       "    }\n",
       "\n",
       "    .dataframe thead th {\n",
       "        text-align: right;\n",
       "    }\n",
       "</style>\n",
       "<table border=\"1\" class=\"dataframe\">\n",
       "  <thead>\n",
       "    <tr style=\"text-align: right;\">\n",
       "      <th></th>\n",
       "      <th>date</th>\n",
       "      <th>Appliances</th>\n",
       "      <th>lights</th>\n",
       "      <th>T1</th>\n",
       "      <th>RH_1</th>\n",
       "      <th>T2</th>\n",
       "      <th>RH_2</th>\n",
       "      <th>T3</th>\n",
       "      <th>RH_3</th>\n",
       "      <th>T4</th>\n",
       "      <th>RH_4</th>\n",
       "      <th>T5</th>\n",
       "      <th>RH_5</th>\n",
       "      <th>T6</th>\n",
       "      <th>RH_6</th>\n",
       "      <th>T7</th>\n",
       "      <th>RH_7</th>\n",
       "      <th>T8</th>\n",
       "      <th>RH_8</th>\n",
       "      <th>T9</th>\n",
       "      <th>RH_9</th>\n",
       "      <th>T_out</th>\n",
       "      <th>Press_mm_hg</th>\n",
       "      <th>RH_out</th>\n",
       "      <th>Windspeed</th>\n",
       "      <th>Visibility</th>\n",
       "      <th>Tdewpoint</th>\n",
       "      <th>rv1</th>\n",
       "      <th>rv2</th>\n",
       "    </tr>\n",
       "  </thead>\n",
       "  <tbody>\n",
       "    <tr>\n",
       "      <th>0</th>\n",
       "      <td>2016-01-11 17:00:00</td>\n",
       "      <td>60</td>\n",
       "      <td>30</td>\n",
       "      <td>19.89</td>\n",
       "      <td>47.596667</td>\n",
       "      <td>19.2</td>\n",
       "      <td>44.790000</td>\n",
       "      <td>19.79</td>\n",
       "      <td>44.730000</td>\n",
       "      <td>19.000000</td>\n",
       "      <td>45.566667</td>\n",
       "      <td>17.166667</td>\n",
       "      <td>55.20</td>\n",
       "      <td>7.026667</td>\n",
       "      <td>84.256667</td>\n",
       "      <td>17.200000</td>\n",
       "      <td>41.626667</td>\n",
       "      <td>18.2</td>\n",
       "      <td>48.900000</td>\n",
       "      <td>17.033333</td>\n",
       "      <td>45.53</td>\n",
       "      <td>6.600000</td>\n",
       "      <td>733.5</td>\n",
       "      <td>92.0</td>\n",
       "      <td>7.000000</td>\n",
       "      <td>63.000000</td>\n",
       "      <td>5.3</td>\n",
       "      <td>13.275433</td>\n",
       "      <td>13.275433</td>\n",
       "    </tr>\n",
       "    <tr>\n",
       "      <th>1</th>\n",
       "      <td>2016-01-11 17:10:00</td>\n",
       "      <td>60</td>\n",
       "      <td>30</td>\n",
       "      <td>19.89</td>\n",
       "      <td>46.693333</td>\n",
       "      <td>19.2</td>\n",
       "      <td>44.722500</td>\n",
       "      <td>19.79</td>\n",
       "      <td>44.790000</td>\n",
       "      <td>19.000000</td>\n",
       "      <td>45.992500</td>\n",
       "      <td>17.166667</td>\n",
       "      <td>55.20</td>\n",
       "      <td>6.833333</td>\n",
       "      <td>84.063333</td>\n",
       "      <td>17.200000</td>\n",
       "      <td>41.560000</td>\n",
       "      <td>18.2</td>\n",
       "      <td>48.863333</td>\n",
       "      <td>17.066667</td>\n",
       "      <td>45.56</td>\n",
       "      <td>6.483333</td>\n",
       "      <td>733.6</td>\n",
       "      <td>92.0</td>\n",
       "      <td>6.666667</td>\n",
       "      <td>59.166667</td>\n",
       "      <td>5.2</td>\n",
       "      <td>18.606195</td>\n",
       "      <td>18.606195</td>\n",
       "    </tr>\n",
       "    <tr>\n",
       "      <th>2</th>\n",
       "      <td>2016-01-11 17:20:00</td>\n",
       "      <td>50</td>\n",
       "      <td>30</td>\n",
       "      <td>19.89</td>\n",
       "      <td>46.300000</td>\n",
       "      <td>19.2</td>\n",
       "      <td>44.626667</td>\n",
       "      <td>19.79</td>\n",
       "      <td>44.933333</td>\n",
       "      <td>18.926667</td>\n",
       "      <td>45.890000</td>\n",
       "      <td>17.166667</td>\n",
       "      <td>55.09</td>\n",
       "      <td>6.560000</td>\n",
       "      <td>83.156667</td>\n",
       "      <td>17.200000</td>\n",
       "      <td>41.433333</td>\n",
       "      <td>18.2</td>\n",
       "      <td>48.730000</td>\n",
       "      <td>17.000000</td>\n",
       "      <td>45.50</td>\n",
       "      <td>6.366667</td>\n",
       "      <td>733.7</td>\n",
       "      <td>92.0</td>\n",
       "      <td>6.333333</td>\n",
       "      <td>55.333333</td>\n",
       "      <td>5.1</td>\n",
       "      <td>28.642668</td>\n",
       "      <td>28.642668</td>\n",
       "    </tr>\n",
       "    <tr>\n",
       "      <th>3</th>\n",
       "      <td>2016-01-11 17:30:00</td>\n",
       "      <td>50</td>\n",
       "      <td>40</td>\n",
       "      <td>19.89</td>\n",
       "      <td>46.066667</td>\n",
       "      <td>19.2</td>\n",
       "      <td>44.590000</td>\n",
       "      <td>19.79</td>\n",
       "      <td>45.000000</td>\n",
       "      <td>18.890000</td>\n",
       "      <td>45.723333</td>\n",
       "      <td>17.166667</td>\n",
       "      <td>55.09</td>\n",
       "      <td>6.433333</td>\n",
       "      <td>83.423333</td>\n",
       "      <td>17.133333</td>\n",
       "      <td>41.290000</td>\n",
       "      <td>18.1</td>\n",
       "      <td>48.590000</td>\n",
       "      <td>17.000000</td>\n",
       "      <td>45.40</td>\n",
       "      <td>6.250000</td>\n",
       "      <td>733.8</td>\n",
       "      <td>92.0</td>\n",
       "      <td>6.000000</td>\n",
       "      <td>51.500000</td>\n",
       "      <td>5.0</td>\n",
       "      <td>45.410389</td>\n",
       "      <td>45.410389</td>\n",
       "    </tr>\n",
       "    <tr>\n",
       "      <th>4</th>\n",
       "      <td>2016-01-11 17:40:00</td>\n",
       "      <td>60</td>\n",
       "      <td>40</td>\n",
       "      <td>19.89</td>\n",
       "      <td>46.333333</td>\n",
       "      <td>19.2</td>\n",
       "      <td>44.530000</td>\n",
       "      <td>19.79</td>\n",
       "      <td>45.000000</td>\n",
       "      <td>18.890000</td>\n",
       "      <td>45.530000</td>\n",
       "      <td>17.200000</td>\n",
       "      <td>55.09</td>\n",
       "      <td>6.366667</td>\n",
       "      <td>84.893333</td>\n",
       "      <td>17.200000</td>\n",
       "      <td>41.230000</td>\n",
       "      <td>18.1</td>\n",
       "      <td>48.590000</td>\n",
       "      <td>17.000000</td>\n",
       "      <td>45.40</td>\n",
       "      <td>6.133333</td>\n",
       "      <td>733.9</td>\n",
       "      <td>92.0</td>\n",
       "      <td>5.666667</td>\n",
       "      <td>47.666667</td>\n",
       "      <td>4.9</td>\n",
       "      <td>10.084097</td>\n",
       "      <td>10.084097</td>\n",
       "    </tr>\n",
       "  </tbody>\n",
       "</table>\n",
       "</div>"
      ],
      "text/plain": [
       "                  date  Appliances  lights     T1       RH_1    T2       RH_2  \\\n",
       "0  2016-01-11 17:00:00          60      30  19.89  47.596667  19.2  44.790000   \n",
       "1  2016-01-11 17:10:00          60      30  19.89  46.693333  19.2  44.722500   \n",
       "2  2016-01-11 17:20:00          50      30  19.89  46.300000  19.2  44.626667   \n",
       "3  2016-01-11 17:30:00          50      40  19.89  46.066667  19.2  44.590000   \n",
       "4  2016-01-11 17:40:00          60      40  19.89  46.333333  19.2  44.530000   \n",
       "\n",
       "      T3       RH_3         T4       RH_4         T5   RH_5        T6  \\\n",
       "0  19.79  44.730000  19.000000  45.566667  17.166667  55.20  7.026667   \n",
       "1  19.79  44.790000  19.000000  45.992500  17.166667  55.20  6.833333   \n",
       "2  19.79  44.933333  18.926667  45.890000  17.166667  55.09  6.560000   \n",
       "3  19.79  45.000000  18.890000  45.723333  17.166667  55.09  6.433333   \n",
       "4  19.79  45.000000  18.890000  45.530000  17.200000  55.09  6.366667   \n",
       "\n",
       "        RH_6         T7       RH_7    T8       RH_8         T9   RH_9  \\\n",
       "0  84.256667  17.200000  41.626667  18.2  48.900000  17.033333  45.53   \n",
       "1  84.063333  17.200000  41.560000  18.2  48.863333  17.066667  45.56   \n",
       "2  83.156667  17.200000  41.433333  18.2  48.730000  17.000000  45.50   \n",
       "3  83.423333  17.133333  41.290000  18.1  48.590000  17.000000  45.40   \n",
       "4  84.893333  17.200000  41.230000  18.1  48.590000  17.000000  45.40   \n",
       "\n",
       "      T_out  Press_mm_hg  RH_out  Windspeed  Visibility  Tdewpoint        rv1  \\\n",
       "0  6.600000        733.5    92.0   7.000000   63.000000        5.3  13.275433   \n",
       "1  6.483333        733.6    92.0   6.666667   59.166667        5.2  18.606195   \n",
       "2  6.366667        733.7    92.0   6.333333   55.333333        5.1  28.642668   \n",
       "3  6.250000        733.8    92.0   6.000000   51.500000        5.0  45.410389   \n",
       "4  6.133333        733.9    92.0   5.666667   47.666667        4.9  10.084097   \n",
       "\n",
       "         rv2  \n",
       "0  13.275433  \n",
       "1  18.606195  \n",
       "2  28.642668  \n",
       "3  45.410389  \n",
       "4  10.084097  "
      ]
     },
     "execution_count": 72,
     "metadata": {},
     "output_type": "execute_result"
    }
   ],
   "source": [
    "appliances_df = pd.read_csv(\"energydata_complete.csv\")\n",
    "\n",
    "appliances_df.head() # display the first 5 rows"
   ]
  },
  {
   "cell_type": "markdown",
   "metadata": {},
   "source": [
    "## Get a summary information about the dataframe"
   ]
  },
  {
   "cell_type": "code",
   "execution_count": 82,
   "metadata": {},
   "outputs": [
    {
     "name": "stdout",
     "output_type": "stream",
     "text": [
      "<class 'pandas.core.frame.DataFrame'>\n",
      "RangeIndex: 19735 entries, 0 to 19734\n",
      "Data columns (total 29 columns):\n",
      " #   Column       Non-Null Count  Dtype  \n",
      "---  ------       --------------  -----  \n",
      " 0   date         19735 non-null  object \n",
      " 1   Appliances   19735 non-null  int64  \n",
      " 2   lights       19735 non-null  int64  \n",
      " 3   T1           19735 non-null  float64\n",
      " 4   RH_1         19735 non-null  float64\n",
      " 5   T2           19735 non-null  float64\n",
      " 6   RH_2         19735 non-null  float64\n",
      " 7   T3           19735 non-null  float64\n",
      " 8   RH_3         19735 non-null  float64\n",
      " 9   T4           19735 non-null  float64\n",
      " 10  RH_4         19735 non-null  float64\n",
      " 11  T5           19735 non-null  float64\n",
      " 12  RH_5         19735 non-null  float64\n",
      " 13  T6           19735 non-null  float64\n",
      " 14  RH_6         19735 non-null  float64\n",
      " 15  T7           19735 non-null  float64\n",
      " 16  RH_7         19735 non-null  float64\n",
      " 17  T8           19735 non-null  float64\n",
      " 18  RH_8         19735 non-null  float64\n",
      " 19  T9           19735 non-null  float64\n",
      " 20  RH_9         19735 non-null  float64\n",
      " 21  T_out        19735 non-null  float64\n",
      " 22  Press_mm_hg  19735 non-null  float64\n",
      " 23  RH_out       19735 non-null  float64\n",
      " 24  Windspeed    19735 non-null  float64\n",
      " 25  Visibility   19735 non-null  float64\n",
      " 26  Tdewpoint    19735 non-null  float64\n",
      " 27  rv1          19735 non-null  float64\n",
      " 28  rv2          19735 non-null  float64\n",
      "dtypes: float64(26), int64(2), object(1)\n",
      "memory usage: 4.4+ MB\n"
     ]
    }
   ],
   "source": [
    "appliances_df.info()"
   ]
  },
  {
   "cell_type": "markdown",
   "metadata": {},
   "source": [
    "## Create a helper function to evaluate the performance of a regression model"
   ]
  },
  {
   "cell_type": "markdown",
   "metadata": {},
   "source": [
    "**This function will be invoked subsequently to calculate metrics such as R^2, MAE, e.t.c**"
   ]
  },
  {
   "cell_type": "code",
   "execution_count": 49,
   "metadata": {},
   "outputs": [],
   "source": [
    "def performance(y_test, yhat):\n",
    "    \n",
    "    metrics = {} # instantiate an empty dictonary\n",
    "    \n",
    "    metrics[\"R2-Score\"] = r2_score(y_test, yhat) # calculate r2 and add it to the dictionary\n",
    "    \n",
    "    metrics[\"MAE\"] = mean_absolute_error(y_test, yhat) # calculate MAE and add it to the dictionary\n",
    "    \n",
    "    metrics[\"RSS\"] = np.sum(np.square(y_test - yhat)) # calculate RSS and add it to the dictionary\n",
    "    \n",
    "    metrics[\"RMSE\"] = np.sqrt(mean_squared_error(y_test, yhat)) # calculate RMSE and add it to the dictionary\n",
    "    \n",
    "    return metrics"
   ]
  },
  {
   "cell_type": "markdown",
   "metadata": {},
   "source": [
    "## Preprocessing"
   ]
  },
  {
   "cell_type": "markdown",
   "metadata": {},
   "source": [
    "### Drop the date and lights features from the dataset"
   ]
  },
  {
   "cell_type": "code",
   "execution_count": 4,
   "metadata": {
    "scrolled": true
   },
   "outputs": [
    {
     "data": {
      "text/html": [
       "<div>\n",
       "<style scoped>\n",
       "    .dataframe tbody tr th:only-of-type {\n",
       "        vertical-align: middle;\n",
       "    }\n",
       "\n",
       "    .dataframe tbody tr th {\n",
       "        vertical-align: top;\n",
       "    }\n",
       "\n",
       "    .dataframe thead th {\n",
       "        text-align: right;\n",
       "    }\n",
       "</style>\n",
       "<table border=\"1\" class=\"dataframe\">\n",
       "  <thead>\n",
       "    <tr style=\"text-align: right;\">\n",
       "      <th></th>\n",
       "      <th>Appliances</th>\n",
       "      <th>T1</th>\n",
       "      <th>RH_1</th>\n",
       "      <th>T2</th>\n",
       "      <th>RH_2</th>\n",
       "      <th>T3</th>\n",
       "      <th>RH_3</th>\n",
       "      <th>T4</th>\n",
       "      <th>RH_4</th>\n",
       "      <th>T5</th>\n",
       "      <th>RH_5</th>\n",
       "      <th>T6</th>\n",
       "      <th>RH_6</th>\n",
       "      <th>T7</th>\n",
       "      <th>RH_7</th>\n",
       "      <th>T8</th>\n",
       "      <th>RH_8</th>\n",
       "      <th>T9</th>\n",
       "      <th>RH_9</th>\n",
       "      <th>T_out</th>\n",
       "      <th>Press_mm_hg</th>\n",
       "      <th>RH_out</th>\n",
       "      <th>Windspeed</th>\n",
       "      <th>Visibility</th>\n",
       "      <th>Tdewpoint</th>\n",
       "      <th>rv1</th>\n",
       "      <th>rv2</th>\n",
       "    </tr>\n",
       "  </thead>\n",
       "  <tbody>\n",
       "    <tr>\n",
       "      <th>0</th>\n",
       "      <td>60</td>\n",
       "      <td>19.89</td>\n",
       "      <td>47.596667</td>\n",
       "      <td>19.2</td>\n",
       "      <td>44.790000</td>\n",
       "      <td>19.79</td>\n",
       "      <td>44.730000</td>\n",
       "      <td>19.000000</td>\n",
       "      <td>45.566667</td>\n",
       "      <td>17.166667</td>\n",
       "      <td>55.20</td>\n",
       "      <td>7.026667</td>\n",
       "      <td>84.256667</td>\n",
       "      <td>17.200000</td>\n",
       "      <td>41.626667</td>\n",
       "      <td>18.2</td>\n",
       "      <td>48.900000</td>\n",
       "      <td>17.033333</td>\n",
       "      <td>45.53</td>\n",
       "      <td>6.600000</td>\n",
       "      <td>733.5</td>\n",
       "      <td>92.0</td>\n",
       "      <td>7.000000</td>\n",
       "      <td>63.000000</td>\n",
       "      <td>5.3</td>\n",
       "      <td>13.275433</td>\n",
       "      <td>13.275433</td>\n",
       "    </tr>\n",
       "    <tr>\n",
       "      <th>1</th>\n",
       "      <td>60</td>\n",
       "      <td>19.89</td>\n",
       "      <td>46.693333</td>\n",
       "      <td>19.2</td>\n",
       "      <td>44.722500</td>\n",
       "      <td>19.79</td>\n",
       "      <td>44.790000</td>\n",
       "      <td>19.000000</td>\n",
       "      <td>45.992500</td>\n",
       "      <td>17.166667</td>\n",
       "      <td>55.20</td>\n",
       "      <td>6.833333</td>\n",
       "      <td>84.063333</td>\n",
       "      <td>17.200000</td>\n",
       "      <td>41.560000</td>\n",
       "      <td>18.2</td>\n",
       "      <td>48.863333</td>\n",
       "      <td>17.066667</td>\n",
       "      <td>45.56</td>\n",
       "      <td>6.483333</td>\n",
       "      <td>733.6</td>\n",
       "      <td>92.0</td>\n",
       "      <td>6.666667</td>\n",
       "      <td>59.166667</td>\n",
       "      <td>5.2</td>\n",
       "      <td>18.606195</td>\n",
       "      <td>18.606195</td>\n",
       "    </tr>\n",
       "    <tr>\n",
       "      <th>2</th>\n",
       "      <td>50</td>\n",
       "      <td>19.89</td>\n",
       "      <td>46.300000</td>\n",
       "      <td>19.2</td>\n",
       "      <td>44.626667</td>\n",
       "      <td>19.79</td>\n",
       "      <td>44.933333</td>\n",
       "      <td>18.926667</td>\n",
       "      <td>45.890000</td>\n",
       "      <td>17.166667</td>\n",
       "      <td>55.09</td>\n",
       "      <td>6.560000</td>\n",
       "      <td>83.156667</td>\n",
       "      <td>17.200000</td>\n",
       "      <td>41.433333</td>\n",
       "      <td>18.2</td>\n",
       "      <td>48.730000</td>\n",
       "      <td>17.000000</td>\n",
       "      <td>45.50</td>\n",
       "      <td>6.366667</td>\n",
       "      <td>733.7</td>\n",
       "      <td>92.0</td>\n",
       "      <td>6.333333</td>\n",
       "      <td>55.333333</td>\n",
       "      <td>5.1</td>\n",
       "      <td>28.642668</td>\n",
       "      <td>28.642668</td>\n",
       "    </tr>\n",
       "    <tr>\n",
       "      <th>3</th>\n",
       "      <td>50</td>\n",
       "      <td>19.89</td>\n",
       "      <td>46.066667</td>\n",
       "      <td>19.2</td>\n",
       "      <td>44.590000</td>\n",
       "      <td>19.79</td>\n",
       "      <td>45.000000</td>\n",
       "      <td>18.890000</td>\n",
       "      <td>45.723333</td>\n",
       "      <td>17.166667</td>\n",
       "      <td>55.09</td>\n",
       "      <td>6.433333</td>\n",
       "      <td>83.423333</td>\n",
       "      <td>17.133333</td>\n",
       "      <td>41.290000</td>\n",
       "      <td>18.1</td>\n",
       "      <td>48.590000</td>\n",
       "      <td>17.000000</td>\n",
       "      <td>45.40</td>\n",
       "      <td>6.250000</td>\n",
       "      <td>733.8</td>\n",
       "      <td>92.0</td>\n",
       "      <td>6.000000</td>\n",
       "      <td>51.500000</td>\n",
       "      <td>5.0</td>\n",
       "      <td>45.410389</td>\n",
       "      <td>45.410389</td>\n",
       "    </tr>\n",
       "    <tr>\n",
       "      <th>4</th>\n",
       "      <td>60</td>\n",
       "      <td>19.89</td>\n",
       "      <td>46.333333</td>\n",
       "      <td>19.2</td>\n",
       "      <td>44.530000</td>\n",
       "      <td>19.79</td>\n",
       "      <td>45.000000</td>\n",
       "      <td>18.890000</td>\n",
       "      <td>45.530000</td>\n",
       "      <td>17.200000</td>\n",
       "      <td>55.09</td>\n",
       "      <td>6.366667</td>\n",
       "      <td>84.893333</td>\n",
       "      <td>17.200000</td>\n",
       "      <td>41.230000</td>\n",
       "      <td>18.1</td>\n",
       "      <td>48.590000</td>\n",
       "      <td>17.000000</td>\n",
       "      <td>45.40</td>\n",
       "      <td>6.133333</td>\n",
       "      <td>733.9</td>\n",
       "      <td>92.0</td>\n",
       "      <td>5.666667</td>\n",
       "      <td>47.666667</td>\n",
       "      <td>4.9</td>\n",
       "      <td>10.084097</td>\n",
       "      <td>10.084097</td>\n",
       "    </tr>\n",
       "  </tbody>\n",
       "</table>\n",
       "</div>"
      ],
      "text/plain": [
       "   Appliances     T1       RH_1    T2       RH_2     T3       RH_3         T4  \\\n",
       "0          60  19.89  47.596667  19.2  44.790000  19.79  44.730000  19.000000   \n",
       "1          60  19.89  46.693333  19.2  44.722500  19.79  44.790000  19.000000   \n",
       "2          50  19.89  46.300000  19.2  44.626667  19.79  44.933333  18.926667   \n",
       "3          50  19.89  46.066667  19.2  44.590000  19.79  45.000000  18.890000   \n",
       "4          60  19.89  46.333333  19.2  44.530000  19.79  45.000000  18.890000   \n",
       "\n",
       "        RH_4         T5   RH_5        T6       RH_6         T7       RH_7  \\\n",
       "0  45.566667  17.166667  55.20  7.026667  84.256667  17.200000  41.626667   \n",
       "1  45.992500  17.166667  55.20  6.833333  84.063333  17.200000  41.560000   \n",
       "2  45.890000  17.166667  55.09  6.560000  83.156667  17.200000  41.433333   \n",
       "3  45.723333  17.166667  55.09  6.433333  83.423333  17.133333  41.290000   \n",
       "4  45.530000  17.200000  55.09  6.366667  84.893333  17.200000  41.230000   \n",
       "\n",
       "     T8       RH_8         T9   RH_9     T_out  Press_mm_hg  RH_out  \\\n",
       "0  18.2  48.900000  17.033333  45.53  6.600000        733.5    92.0   \n",
       "1  18.2  48.863333  17.066667  45.56  6.483333        733.6    92.0   \n",
       "2  18.2  48.730000  17.000000  45.50  6.366667        733.7    92.0   \n",
       "3  18.1  48.590000  17.000000  45.40  6.250000        733.8    92.0   \n",
       "4  18.1  48.590000  17.000000  45.40  6.133333        733.9    92.0   \n",
       "\n",
       "   Windspeed  Visibility  Tdewpoint        rv1        rv2  \n",
       "0   7.000000   63.000000        5.3  13.275433  13.275433  \n",
       "1   6.666667   59.166667        5.2  18.606195  18.606195  \n",
       "2   6.333333   55.333333        5.1  28.642668  28.642668  \n",
       "3   6.000000   51.500000        5.0  45.410389  45.410389  \n",
       "4   5.666667   47.666667        4.9  10.084097  10.084097  "
      ]
     },
     "execution_count": 4,
     "metadata": {},
     "output_type": "execute_result"
    }
   ],
   "source": [
    "appliances_df.drop(columns=[\"date\", \"lights\"], inplace=True)\n",
    "appliances_df.head()"
   ]
  },
  {
   "cell_type": "markdown",
   "metadata": {},
   "source": [
    "### Normalize the dataset using MinMaxScaler"
   ]
  },
  {
   "cell_type": "code",
   "execution_count": 5,
   "metadata": {},
   "outputs": [
    {
     "data": {
      "text/html": [
       "<div>\n",
       "<style scoped>\n",
       "    .dataframe tbody tr th:only-of-type {\n",
       "        vertical-align: middle;\n",
       "    }\n",
       "\n",
       "    .dataframe tbody tr th {\n",
       "        vertical-align: top;\n",
       "    }\n",
       "\n",
       "    .dataframe thead th {\n",
       "        text-align: right;\n",
       "    }\n",
       "</style>\n",
       "<table border=\"1\" class=\"dataframe\">\n",
       "  <thead>\n",
       "    <tr style=\"text-align: right;\">\n",
       "      <th></th>\n",
       "      <th>Appliances</th>\n",
       "      <th>T1</th>\n",
       "      <th>RH_1</th>\n",
       "      <th>T2</th>\n",
       "      <th>RH_2</th>\n",
       "      <th>T3</th>\n",
       "      <th>RH_3</th>\n",
       "      <th>T4</th>\n",
       "      <th>RH_4</th>\n",
       "      <th>T5</th>\n",
       "      <th>RH_5</th>\n",
       "      <th>T6</th>\n",
       "      <th>RH_6</th>\n",
       "      <th>T7</th>\n",
       "      <th>RH_7</th>\n",
       "      <th>T8</th>\n",
       "      <th>RH_8</th>\n",
       "      <th>T9</th>\n",
       "      <th>RH_9</th>\n",
       "      <th>T_out</th>\n",
       "      <th>Press_mm_hg</th>\n",
       "      <th>RH_out</th>\n",
       "      <th>Windspeed</th>\n",
       "      <th>Visibility</th>\n",
       "      <th>Tdewpoint</th>\n",
       "      <th>rv1</th>\n",
       "      <th>rv2</th>\n",
       "    </tr>\n",
       "  </thead>\n",
       "  <tbody>\n",
       "    <tr>\n",
       "      <th>0</th>\n",
       "      <td>0.046729</td>\n",
       "      <td>0.32735</td>\n",
       "      <td>0.566187</td>\n",
       "      <td>0.225345</td>\n",
       "      <td>0.684038</td>\n",
       "      <td>0.215188</td>\n",
       "      <td>0.746066</td>\n",
       "      <td>0.351351</td>\n",
       "      <td>0.764262</td>\n",
       "      <td>0.175506</td>\n",
       "      <td>0.381691</td>\n",
       "      <td>0.381070</td>\n",
       "      <td>0.841827</td>\n",
       "      <td>0.170594</td>\n",
       "      <td>0.653428</td>\n",
       "      <td>0.173329</td>\n",
       "      <td>0.661412</td>\n",
       "      <td>0.223032</td>\n",
       "      <td>0.677290</td>\n",
       "      <td>0.372990</td>\n",
       "      <td>0.097674</td>\n",
       "      <td>0.894737</td>\n",
       "      <td>0.500000</td>\n",
       "      <td>0.953846</td>\n",
       "      <td>0.538462</td>\n",
       "      <td>0.265449</td>\n",
       "      <td>0.265449</td>\n",
       "    </tr>\n",
       "    <tr>\n",
       "      <th>1</th>\n",
       "      <td>0.046729</td>\n",
       "      <td>0.32735</td>\n",
       "      <td>0.541326</td>\n",
       "      <td>0.225345</td>\n",
       "      <td>0.682140</td>\n",
       "      <td>0.215188</td>\n",
       "      <td>0.748871</td>\n",
       "      <td>0.351351</td>\n",
       "      <td>0.782437</td>\n",
       "      <td>0.175506</td>\n",
       "      <td>0.381691</td>\n",
       "      <td>0.375443</td>\n",
       "      <td>0.839872</td>\n",
       "      <td>0.170594</td>\n",
       "      <td>0.651064</td>\n",
       "      <td>0.173329</td>\n",
       "      <td>0.660155</td>\n",
       "      <td>0.226500</td>\n",
       "      <td>0.678532</td>\n",
       "      <td>0.369239</td>\n",
       "      <td>0.100000</td>\n",
       "      <td>0.894737</td>\n",
       "      <td>0.476190</td>\n",
       "      <td>0.894872</td>\n",
       "      <td>0.533937</td>\n",
       "      <td>0.372083</td>\n",
       "      <td>0.372083</td>\n",
       "    </tr>\n",
       "    <tr>\n",
       "      <th>2</th>\n",
       "      <td>0.037383</td>\n",
       "      <td>0.32735</td>\n",
       "      <td>0.530502</td>\n",
       "      <td>0.225345</td>\n",
       "      <td>0.679445</td>\n",
       "      <td>0.215188</td>\n",
       "      <td>0.755569</td>\n",
       "      <td>0.344745</td>\n",
       "      <td>0.778062</td>\n",
       "      <td>0.175506</td>\n",
       "      <td>0.380037</td>\n",
       "      <td>0.367487</td>\n",
       "      <td>0.830704</td>\n",
       "      <td>0.170594</td>\n",
       "      <td>0.646572</td>\n",
       "      <td>0.173329</td>\n",
       "      <td>0.655586</td>\n",
       "      <td>0.219563</td>\n",
       "      <td>0.676049</td>\n",
       "      <td>0.365488</td>\n",
       "      <td>0.102326</td>\n",
       "      <td>0.894737</td>\n",
       "      <td>0.452381</td>\n",
       "      <td>0.835897</td>\n",
       "      <td>0.529412</td>\n",
       "      <td>0.572848</td>\n",
       "      <td>0.572848</td>\n",
       "    </tr>\n",
       "    <tr>\n",
       "      <th>3</th>\n",
       "      <td>0.037383</td>\n",
       "      <td>0.32735</td>\n",
       "      <td>0.524080</td>\n",
       "      <td>0.225345</td>\n",
       "      <td>0.678414</td>\n",
       "      <td>0.215188</td>\n",
       "      <td>0.758685</td>\n",
       "      <td>0.341441</td>\n",
       "      <td>0.770949</td>\n",
       "      <td>0.175506</td>\n",
       "      <td>0.380037</td>\n",
       "      <td>0.363800</td>\n",
       "      <td>0.833401</td>\n",
       "      <td>0.164310</td>\n",
       "      <td>0.641489</td>\n",
       "      <td>0.164175</td>\n",
       "      <td>0.650788</td>\n",
       "      <td>0.219563</td>\n",
       "      <td>0.671909</td>\n",
       "      <td>0.361736</td>\n",
       "      <td>0.104651</td>\n",
       "      <td>0.894737</td>\n",
       "      <td>0.428571</td>\n",
       "      <td>0.776923</td>\n",
       "      <td>0.524887</td>\n",
       "      <td>0.908261</td>\n",
       "      <td>0.908261</td>\n",
       "    </tr>\n",
       "    <tr>\n",
       "      <th>4</th>\n",
       "      <td>0.046729</td>\n",
       "      <td>0.32735</td>\n",
       "      <td>0.531419</td>\n",
       "      <td>0.225345</td>\n",
       "      <td>0.676727</td>\n",
       "      <td>0.215188</td>\n",
       "      <td>0.758685</td>\n",
       "      <td>0.341441</td>\n",
       "      <td>0.762697</td>\n",
       "      <td>0.178691</td>\n",
       "      <td>0.380037</td>\n",
       "      <td>0.361859</td>\n",
       "      <td>0.848264</td>\n",
       "      <td>0.170594</td>\n",
       "      <td>0.639362</td>\n",
       "      <td>0.164175</td>\n",
       "      <td>0.650788</td>\n",
       "      <td>0.219563</td>\n",
       "      <td>0.671909</td>\n",
       "      <td>0.357985</td>\n",
       "      <td>0.106977</td>\n",
       "      <td>0.894737</td>\n",
       "      <td>0.404762</td>\n",
       "      <td>0.717949</td>\n",
       "      <td>0.520362</td>\n",
       "      <td>0.201611</td>\n",
       "      <td>0.201611</td>\n",
       "    </tr>\n",
       "  </tbody>\n",
       "</table>\n",
       "</div>"
      ],
      "text/plain": [
       "   Appliances       T1      RH_1        T2      RH_2        T3      RH_3  \\\n",
       "0    0.046729  0.32735  0.566187  0.225345  0.684038  0.215188  0.746066   \n",
       "1    0.046729  0.32735  0.541326  0.225345  0.682140  0.215188  0.748871   \n",
       "2    0.037383  0.32735  0.530502  0.225345  0.679445  0.215188  0.755569   \n",
       "3    0.037383  0.32735  0.524080  0.225345  0.678414  0.215188  0.758685   \n",
       "4    0.046729  0.32735  0.531419  0.225345  0.676727  0.215188  0.758685   \n",
       "\n",
       "         T4      RH_4        T5      RH_5        T6      RH_6        T7  \\\n",
       "0  0.351351  0.764262  0.175506  0.381691  0.381070  0.841827  0.170594   \n",
       "1  0.351351  0.782437  0.175506  0.381691  0.375443  0.839872  0.170594   \n",
       "2  0.344745  0.778062  0.175506  0.380037  0.367487  0.830704  0.170594   \n",
       "3  0.341441  0.770949  0.175506  0.380037  0.363800  0.833401  0.164310   \n",
       "4  0.341441  0.762697  0.178691  0.380037  0.361859  0.848264  0.170594   \n",
       "\n",
       "       RH_7        T8      RH_8        T9      RH_9     T_out  Press_mm_hg  \\\n",
       "0  0.653428  0.173329  0.661412  0.223032  0.677290  0.372990     0.097674   \n",
       "1  0.651064  0.173329  0.660155  0.226500  0.678532  0.369239     0.100000   \n",
       "2  0.646572  0.173329  0.655586  0.219563  0.676049  0.365488     0.102326   \n",
       "3  0.641489  0.164175  0.650788  0.219563  0.671909  0.361736     0.104651   \n",
       "4  0.639362  0.164175  0.650788  0.219563  0.671909  0.357985     0.106977   \n",
       "\n",
       "     RH_out  Windspeed  Visibility  Tdewpoint       rv1       rv2  \n",
       "0  0.894737   0.500000    0.953846   0.538462  0.265449  0.265449  \n",
       "1  0.894737   0.476190    0.894872   0.533937  0.372083  0.372083  \n",
       "2  0.894737   0.452381    0.835897   0.529412  0.572848  0.572848  \n",
       "3  0.894737   0.428571    0.776923   0.524887  0.908261  0.908261  \n",
       "4  0.894737   0.404762    0.717949   0.520362  0.201611  0.201611  "
      ]
     },
     "execution_count": 5,
     "metadata": {},
     "output_type": "execute_result"
    }
   ],
   "source": [
    "scaler = MinMaxScaler() # create a MinMaxScaler object\n",
    "\n",
    "norm_appliances = pd.DataFrame(scaler.fit_transform(appliances_df), columns=appliances_df.columns)\n",
    "\n",
    "norm_appliances.head()"
   ]
  },
  {
   "cell_type": "markdown",
   "metadata": {},
   "source": [
    "# Question 12"
   ]
  },
  {
   "cell_type": "markdown",
   "metadata": {},
   "source": [
    "**From the dataset, fit a linear model on the relationship between the temperature in the living room in Celsius (x = T2) and the temperature outside the building (y = T6). What is the R^2 value in two D.P.**"
   ]
  },
  {
   "cell_type": "markdown",
   "metadata": {},
   "source": [
    "# Answer: 0.64"
   ]
  },
  {
   "cell_type": "markdown",
   "metadata": {},
   "source": [
    "## Solution:"
   ]
  },
  {
   "cell_type": "code",
   "execution_count": 75,
   "metadata": {},
   "outputs": [],
   "source": [
    "X = norm_appliances[[\"T2\"]] # define predictor\n",
    "y = norm_appliances[\"T6\"] # define target\n",
    "\n",
    "# split the data into training and test sets\n",
    "train_X, test_X, train_y, test_y = train_test_split(X, y, test_size=0.3, random_state=42)\n",
    "\n",
    "simple_linear_model = LinearRegression() # create a Linear Regression model\n",
    "\n",
    "simple_linear_model.fit(train_X, train_y) # train the model\n",
    "\n",
    "yhat = simple_linear_model.predict(test_X) # make predictions with the model"
   ]
  },
  {
   "cell_type": "markdown",
   "metadata": {},
   "source": [
    "**Determine the R^2 of the model**"
   ]
  },
  {
   "cell_type": "code",
   "execution_count": 76,
   "metadata": {},
   "outputs": [
    {
     "data": {
      "text/plain": [
       "0.64"
      ]
     },
     "execution_count": 76,
     "metadata": {},
     "output_type": "execute_result"
    }
   ],
   "source": [
    "round(r2_score(test_y, yhat), 2) # evaluate R^2 and round it to 2 d.p."
   ]
  },
  {
   "cell_type": "markdown",
   "metadata": {},
   "source": [
    "# Question 13 - 17"
   ]
  },
  {
   "cell_type": "markdown",
   "metadata": {},
   "source": [
    "### Create a Linear Regression model and fit the training data to it"
   ]
  },
  {
   "cell_type": "code",
   "execution_count": 78,
   "metadata": {},
   "outputs": [],
   "source": [
    "X = norm_appliances.drop(columns=\"Appliances\") # define predictors; all features except \"Appliances\" are used\n",
    "y = norm_appliances[\"Appliances\"] # define target variable\n",
    "\n",
    "# split the data into training and test sets\n",
    "train_X, test_X, train_y, test_y = train_test_split(X, y, test_size=0.3, random_state=42)\n",
    "\n",
    "linear_model = LinearRegression() # create a linear regression model\n",
    "\n",
    "linear_model.fit(train_X, train_y) # train the model\n",
    "\n",
    "yhat = linear_model.predict(test_X) # make predictions with the model"
   ]
  },
  {
   "cell_type": "markdown",
   "metadata": {},
   "source": [
    "# Question 13"
   ]
  },
  {
   "cell_type": "markdown",
   "metadata": {},
   "source": [
    "**What is the Mean Absolute Error (in two decimal places)?**"
   ]
  },
  {
   "cell_type": "markdown",
   "metadata": {},
   "source": [
    "# Answer: 0.05"
   ]
  },
  {
   "cell_type": "markdown",
   "metadata": {},
   "source": [
    "## Solution:"
   ]
  },
  {
   "cell_type": "code",
   "execution_count": 50,
   "metadata": {},
   "outputs": [
    {
     "data": {
      "text/plain": [
       "0.05"
      ]
     },
     "execution_count": 50,
     "metadata": {},
     "output_type": "execute_result"
    }
   ],
   "source": [
    "round(performance(test_y, yhat)[\"MAE\"], 2)"
   ]
  },
  {
   "cell_type": "markdown",
   "metadata": {},
   "source": [
    "# Question 14"
   ]
  },
  {
   "cell_type": "markdown",
   "metadata": {},
   "source": [
    "**What is the Residual Sum of Squares (in two decimal places)?**"
   ]
  },
  {
   "cell_type": "markdown",
   "metadata": {},
   "source": [
    "# Answer: 45.35"
   ]
  },
  {
   "cell_type": "markdown",
   "metadata": {},
   "source": [
    "## Solution:"
   ]
  },
  {
   "cell_type": "code",
   "execution_count": 51,
   "metadata": {},
   "outputs": [
    {
     "data": {
      "text/plain": [
       "45.35"
      ]
     },
     "execution_count": 51,
     "metadata": {},
     "output_type": "execute_result"
    }
   ],
   "source": [
    "round(performance(test_y, yhat)[\"RSS\"], 2)"
   ]
  },
  {
   "cell_type": "markdown",
   "metadata": {},
   "source": [
    "# Question 15"
   ]
  },
  {
   "cell_type": "markdown",
   "metadata": {},
   "source": [
    "**What is the Root Mean Squared Error (in three decimal places)?**"
   ]
  },
  {
   "cell_type": "markdown",
   "metadata": {},
   "source": [
    "# Answer: 0.088"
   ]
  },
  {
   "cell_type": "markdown",
   "metadata": {},
   "source": [
    "## Solution:"
   ]
  },
  {
   "cell_type": "code",
   "execution_count": 52,
   "metadata": {},
   "outputs": [
    {
     "data": {
      "text/plain": [
       "0.088"
      ]
     },
     "execution_count": 52,
     "metadata": {},
     "output_type": "execute_result"
    }
   ],
   "source": [
    "round(performance(test_y, yhat)[\"RMSE\"], 3)"
   ]
  },
  {
   "cell_type": "markdown",
   "metadata": {},
   "source": [
    "# Question 16"
   ]
  },
  {
   "cell_type": "markdown",
   "metadata": {},
   "source": [
    "**What is the Coefficient of Determination (in two decimal places)?**"
   ]
  },
  {
   "cell_type": "markdown",
   "metadata": {},
   "source": [
    "# Answer: 0.15"
   ]
  },
  {
   "cell_type": "markdown",
   "metadata": {},
   "source": [
    "## Solution:"
   ]
  },
  {
   "cell_type": "code",
   "execution_count": 55,
   "metadata": {},
   "outputs": [
    {
     "data": {
      "text/plain": [
       "0.15"
      ]
     },
     "execution_count": 55,
     "metadata": {},
     "output_type": "execute_result"
    }
   ],
   "source": [
    "round(performance(test_y, yhat)[\"R2-Score\"], 2)"
   ]
  },
  {
   "cell_type": "markdown",
   "metadata": {},
   "source": [
    "# Question 17"
   ]
  },
  {
   "cell_type": "markdown",
   "metadata": {},
   "source": [
    "**Obtain the feature weights from your linear model above. Which features have the lowest and highest weights respectively?**"
   ]
  },
  {
   "cell_type": "markdown",
   "metadata": {},
   "source": [
    "# Answer: RH_2, RH_1"
   ]
  },
  {
   "cell_type": "markdown",
   "metadata": {},
   "source": [
    "## Solution:"
   ]
  },
  {
   "cell_type": "markdown",
   "metadata": {},
   "source": [
    "**Obtain the feature weights and restructure it into a Series \"weights\"**"
   ]
  },
  {
   "cell_type": "code",
   "execution_count": 80,
   "metadata": {},
   "outputs": [
    {
     "data": {
      "text/plain": [
       "T1            -0.003281\n",
       "RH_1           0.553547\n",
       "T2            -0.236178\n",
       "RH_2          -0.456698\n",
       "T3             0.290627\n",
       "RH_3           0.096048\n",
       "T4             0.028981\n",
       "RH_4           0.026386\n",
       "T5            -0.015657\n",
       "RH_5           0.016006\n",
       "T6             0.236425\n",
       "RH_6           0.038049\n",
       "T7             0.010319\n",
       "RH_7          -0.044614\n",
       "T8             0.101995\n",
       "RH_8          -0.157595\n",
       "T9            -0.189941\n",
       "RH_9          -0.039800\n",
       "T_out         -0.321860\n",
       "Press_mm_hg    0.006839\n",
       "RH_out        -0.077671\n",
       "Windspeed      0.029183\n",
       "Visibility     0.012307\n",
       "Tdewpoint      0.117758\n",
       "rv1            0.000770\n",
       "rv2            0.000770\n",
       "dtype: float64"
      ]
     },
     "execution_count": 80,
     "metadata": {},
     "output_type": "execute_result"
    }
   ],
   "source": [
    "weights = pd.Series(linear_model.coef_, X.columns)\n",
    "weights # display the weights Series"
   ]
  },
  {
   "cell_type": "markdown",
   "metadata": {},
   "source": [
    "**Sort the weight Series in ascending order and retrieve the first and last elements**"
   ]
  },
  {
   "cell_type": "code",
   "execution_count": 81,
   "metadata": {},
   "outputs": [
    {
     "data": {
      "text/plain": [
       "RH_2   -0.456698\n",
       "RH_1    0.553547\n",
       "dtype: float64"
      ]
     },
     "execution_count": 81,
     "metadata": {},
     "output_type": "execute_result"
    }
   ],
   "source": [
    "weights.sort_values()[[0, -1]]"
   ]
  },
  {
   "cell_type": "markdown",
   "metadata": {},
   "source": [
    "# Question 18"
   ]
  },
  {
   "cell_type": "markdown",
   "metadata": {},
   "source": [
    "**Train a ridge regression model with an alpha value of 0.4. Is there any change to the root mean squared error (RMSE) when evaluated on the test set?**"
   ]
  },
  {
   "cell_type": "markdown",
   "metadata": {},
   "source": [
    "# Answer: No. The RMSE of the linear and ridge models are the same to 3 d.p."
   ]
  },
  {
   "cell_type": "markdown",
   "metadata": {},
   "source": [
    "## Solution:"
   ]
  },
  {
   "cell_type": "code",
   "execution_count": 62,
   "metadata": {},
   "outputs": [
    {
     "data": {
      "text/plain": [
       "0.088"
      ]
     },
     "execution_count": 62,
     "metadata": {},
     "output_type": "execute_result"
    }
   ],
   "source": [
    "ridge = Ridge(alpha=0.4) # create a ridge regression model\n",
    "\n",
    "ridge.fit(train_X, train_y) # fit the model with the training data\n",
    "\n",
    "yhat = ridge.predict(test_X) # make predictions on the test set\n",
    "\n",
    "round(performance(test_y, yhat)[\"RMSE\"], 3) # obtain the RMSE by invoking the performance function"
   ]
  },
  {
   "cell_type": "markdown",
   "metadata": {},
   "source": [
    "# Question 19 - 20"
   ]
  },
  {
   "cell_type": "markdown",
   "metadata": {},
   "source": [
    "# Question 19"
   ]
  },
  {
   "cell_type": "markdown",
   "metadata": {},
   "source": [
    "**Train a lasso regression model with an alpha value of 0.001 and obtain the new feature weights with it. How many of the features have non-zero feature weights**"
   ]
  },
  {
   "cell_type": "markdown",
   "metadata": {},
   "source": [
    "# Answer: 4"
   ]
  },
  {
   "cell_type": "markdown",
   "metadata": {},
   "source": [
    "## Solution:"
   ]
  },
  {
   "cell_type": "code",
   "execution_count": 63,
   "metadata": {},
   "outputs": [],
   "source": [
    "lasso = Lasso(alpha=0.001) # create a lasso regression model\n",
    "\n",
    "lasso.fit(train_X, train_y) # train the model\n",
    "\n",
    "weights = pd.Series(lasso.coef_, X.columns) # obtain the feature weights"
   ]
  },
  {
   "cell_type": "markdown",
   "metadata": {},
   "source": [
    "**Get the number of features with non-zero weights**"
   ]
  },
  {
   "cell_type": "code",
   "execution_count": 66,
   "metadata": {},
   "outputs": [
    {
     "data": {
      "text/plain": [
       "4"
      ]
     },
     "execution_count": 66,
     "metadata": {},
     "output_type": "execute_result"
    }
   ],
   "source": [
    "len(weights[weights != 0])"
   ]
  },
  {
   "cell_type": "markdown",
   "metadata": {},
   "source": [
    "# Question 20"
   ]
  },
  {
   "cell_type": "markdown",
   "metadata": {},
   "source": [
    "**What is the new RMSE with the Lasso Regression (in 3 decimal places)?**"
   ]
  },
  {
   "cell_type": "markdown",
   "metadata": {},
   "source": [
    "# Answer: 0.094"
   ]
  },
  {
   "cell_type": "markdown",
   "metadata": {},
   "source": [
    "## Solution:"
   ]
  },
  {
   "cell_type": "code",
   "execution_count": 70,
   "metadata": {},
   "outputs": [
    {
     "data": {
      "text/plain": [
       "0.094"
      ]
     },
     "execution_count": 70,
     "metadata": {},
     "output_type": "execute_result"
    }
   ],
   "source": [
    "yhat = lasso.predict(test_X) # make predictions with the model\n",
    "\n",
    "round(performance(test_y, yhat)[\"RMSE\"], 3) # determine the RMSE using the helper function and round it to 3 d.p"
   ]
  },
  {
   "cell_type": "markdown",
   "metadata": {},
   "source": [
    "# Notebook by: OLALEKE, MOSHOOD ADEGBOYEGA"
   ]
  }
 ],
 "metadata": {
  "kernelspec": {
   "display_name": "Python 3",
   "language": "python",
   "name": "python3"
  },
  "language_info": {
   "codemirror_mode": {
    "name": "ipython",
    "version": 3
   },
   "file_extension": ".py",
   "mimetype": "text/x-python",
   "name": "python",
   "nbconvert_exporter": "python",
   "pygments_lexer": "ipython3",
   "version": "3.7.6"
  }
 },
 "nbformat": 4,
 "nbformat_minor": 4
}
